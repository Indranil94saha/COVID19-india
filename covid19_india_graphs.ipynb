{
  "nbformat": 4,
  "nbformat_minor": 0,
  "metadata": {
    "colab": {
      "name": "covid19_india_graphs.ipynb",
      "provenance": [],
      "collapsed_sections": [],
      "toc_visible": true,
      "authorship_tag": "ABX9TyMgtqGV7blEdCv0ojBSCk+H",
      "include_colab_link": true
    },
    "kernelspec": {
      "name": "python3",
      "display_name": "Python 3"
    }
  },
  "cells": [
    {
      "cell_type": "markdown",
      "metadata": {
        "id": "view-in-github",
        "colab_type": "text"
      },
      "source": [
        "<a href=\"https://colab.research.google.com/github/stories-of-life/COVID19-india/blob/develop/covid19_india_graphs.ipynb\" target=\"_parent\"><img src=\"https://colab.research.google.com/assets/colab-badge.svg\" alt=\"Open In Colab\"/></a>"
      ]
    },
    {
      "cell_type": "markdown",
      "metadata": {
        "id": "PGw4kGivYZSq",
        "colab_type": "text"
      },
      "source": [
        "# Fetch data from Kaggle"
      ]
    },
    {
      "cell_type": "code",
      "metadata": {
        "id": "-6UpK8qPdzzy",
        "colab_type": "code",
        "outputId": "c053ad71-1167-41cc-c74b-eded10127247",
        "colab": {
          "base_uri": "https://localhost:8080/",
          "height": 194
        }
      },
      "source": [
        "from google.colab import drive\n",
        "drive.mount('/content/gdrive')\n",
        "\n",
        "!mkdir ~/.kaggle\n",
        "!cp '/content/gdrive/My Drive/kaggle.json' ~/.kaggle\n",
        "drive.flush_and_unmount()\n",
        "!ls ~/.kaggle\n",
        "!kaggle datasets download -d sudalairajkumar/covid19-in-india"
      ],
      "execution_count": 1,
      "outputs": [
        {
          "output_type": "stream",
          "text": [
            "Go to this URL in a browser: https://accounts.google.com/o/oauth2/auth?client_id=947318989803-6bn6qk8qdgf4n4g3pfee6491hc0brc4i.apps.googleusercontent.com&redirect_uri=urn%3aietf%3awg%3aoauth%3a2.0%3aoob&response_type=code&scope=email%20https%3a%2f%2fwww.googleapis.com%2fauth%2fdocs.test%20https%3a%2f%2fwww.googleapis.com%2fauth%2fdrive%20https%3a%2f%2fwww.googleapis.com%2fauth%2fdrive.photos.readonly%20https%3a%2f%2fwww.googleapis.com%2fauth%2fpeopleapi.readonly\n",
            "\n",
            "Enter your authorization code:\n",
            "··········\n",
            "Mounted at /content/gdrive\n",
            "kaggle.json\n",
            "Downloading covid19-in-india.zip to /content\n",
            "  0% 0.00/101k [00:00<?, ?B/s]\n",
            "100% 101k/101k [00:00<00:00, 32.5MB/s]\n"
          ],
          "name": "stdout"
        }
      ]
    },
    {
      "cell_type": "code",
      "metadata": {
        "id": "jCT9R9GouTFJ",
        "colab_type": "code",
        "outputId": "5cbcd6b5-04e7-42b6-ae90-e0b28b0f1b7e",
        "colab": {
          "base_uri": "https://localhost:8080/",
          "height": 1000
        }
      },
      "source": [
        "!wget http://biogeo.ucdavis.edu/data/diva/adm/IND_adm.zip\n",
        "!wget https://biogeo.ucdavis.edu/data/gadm3.6/shp/gadm36_IND_shp.zip\n",
        "!unzip covid19-in-india.zip -d covid19-in-india\n",
        "!unzip IND_adm.zip -d IND_adm\n",
        "!unzip gadm36_IND_shp.zip -d gadm36_IND_shp"
      ],
      "execution_count": 2,
      "outputs": [
        {
          "output_type": "stream",
          "text": [
            "--2020-04-15 06:05:30--  http://biogeo.ucdavis.edu/data/diva/adm/IND_adm.zip\n",
            "Resolving biogeo.ucdavis.edu (biogeo.ucdavis.edu)... 128.120.228.172\n",
            "Connecting to biogeo.ucdavis.edu (biogeo.ucdavis.edu)|128.120.228.172|:80... connected.\n",
            "HTTP request sent, awaiting response... 302 Found\n",
            "Location: https://biogeo.ucdavis.edu/data/diva/adm/IND_adm.zip [following]\n",
            "--2020-04-15 06:05:30--  https://biogeo.ucdavis.edu/data/diva/adm/IND_adm.zip\n",
            "Connecting to biogeo.ucdavis.edu (biogeo.ucdavis.edu)|128.120.228.172|:443... connected.\n",
            "HTTP request sent, awaiting response... 302 Found\n",
            "Location: https://data.biogeo.ucdavis.edu/data/diva/adm/IND_adm.zip [following]\n",
            "--2020-04-15 06:05:31--  https://data.biogeo.ucdavis.edu/data/diva/adm/IND_adm.zip\n",
            "Resolving data.biogeo.ucdavis.edu (data.biogeo.ucdavis.edu)... 128.120.228.172\n",
            "Connecting to data.biogeo.ucdavis.edu (data.biogeo.ucdavis.edu)|128.120.228.172|:443... connected.\n",
            "HTTP request sent, awaiting response... 200 OK\n",
            "Length: 14925870 (14M) [application/zip]\n",
            "Saving to: ‘IND_adm.zip’\n",
            "\n",
            "IND_adm.zip         100%[===================>]  14.23M  16.5MB/s    in 0.9s    \n",
            "\n",
            "2020-04-15 06:05:32 (16.5 MB/s) - ‘IND_adm.zip’ saved [14925870/14925870]\n",
            "\n",
            "--2020-04-15 06:05:34--  https://biogeo.ucdavis.edu/data/gadm3.6/shp/gadm36_IND_shp.zip\n",
            "Resolving biogeo.ucdavis.edu (biogeo.ucdavis.edu)... 128.120.228.172\n",
            "Connecting to biogeo.ucdavis.edu (biogeo.ucdavis.edu)|128.120.228.172|:443... connected.\n",
            "HTTP request sent, awaiting response... 302 Found\n",
            "Location: https://data.biogeo.ucdavis.edu/data/gadm3.6/shp/gadm36_IND_shp.zip [following]\n",
            "--2020-04-15 06:05:34--  https://data.biogeo.ucdavis.edu/data/gadm3.6/shp/gadm36_IND_shp.zip\n",
            "Resolving data.biogeo.ucdavis.edu (data.biogeo.ucdavis.edu)... 128.120.228.172\n",
            "Connecting to data.biogeo.ucdavis.edu (data.biogeo.ucdavis.edu)|128.120.228.172|:443... connected.\n",
            "HTTP request sent, awaiting response... 200 OK\n",
            "Length: 17520295 (17M) [application/zip]\n",
            "Saving to: ‘gadm36_IND_shp.zip’\n",
            "\n",
            "gadm36_IND_shp.zip  100%[===================>]  16.71M  18.1MB/s    in 0.9s    \n",
            "\n",
            "2020-04-15 06:05:35 (18.1 MB/s) - ‘gadm36_IND_shp.zip’ saved [17520295/17520295]\n",
            "\n",
            "Archive:  covid19-in-india.zip\n",
            "  inflating: covid19-in-india/AgeGroupDetails.csv  \n",
            "  inflating: covid19-in-india/HospitalBedsIndia.csv  \n",
            "  inflating: covid19-in-india/ICMRTestingDetails.csv  \n",
            "  inflating: covid19-in-india/ICMRTestingLabs.csv  \n",
            "  inflating: covid19-in-india/IndividualDetails.csv  \n",
            "  inflating: covid19-in-india/StatewiseTestingDetails.csv  \n",
            "  inflating: covid19-in-india/covid_19_india.csv  \n",
            "  inflating: covid19-in-india/population_india_census2011.csv  \n",
            "Archive:  IND_adm.zip\n",
            " extracting: IND_adm/IND_adm0.cpg    \n",
            "  inflating: IND_adm/IND_adm0.csv    \n",
            "  inflating: IND_adm/IND_adm0.dbf    \n",
            "  inflating: IND_adm/IND_adm0.prj    \n",
            "  inflating: IND_adm/IND_adm0.shp    \n",
            "  inflating: IND_adm/IND_adm0.shx    \n",
            " extracting: IND_adm/IND_adm1.cpg    \n",
            "  inflating: IND_adm/IND_adm1.csv    \n",
            "  inflating: IND_adm/IND_adm1.dbf    \n",
            "  inflating: IND_adm/IND_adm1.prj    \n",
            "  inflating: IND_adm/IND_adm1.shp    \n",
            "  inflating: IND_adm/IND_adm1.shx    \n",
            " extracting: IND_adm/IND_adm2.cpg    \n",
            "  inflating: IND_adm/IND_adm2.csv    \n",
            "  inflating: IND_adm/IND_adm2.dbf    \n",
            "  inflating: IND_adm/IND_adm2.prj    \n",
            "  inflating: IND_adm/IND_adm2.shp    \n",
            "  inflating: IND_adm/IND_adm2.shx    \n",
            " extracting: IND_adm/IND_adm3.cpg    \n",
            "  inflating: IND_adm/IND_adm3.csv    \n",
            "  inflating: IND_adm/IND_adm3.dbf    \n",
            "  inflating: IND_adm/IND_adm3.prj    \n",
            "  inflating: IND_adm/IND_adm3.shp    \n",
            "  inflating: IND_adm/IND_adm3.shx    \n",
            "  inflating: IND_adm/license.txt     \n",
            "Archive:  gadm36_IND_shp.zip\n",
            " extracting: gadm36_IND_shp/gadm36_IND_0.cpg  \n",
            "  inflating: gadm36_IND_shp/gadm36_IND_0.dbf  \n",
            "  inflating: gadm36_IND_shp/gadm36_IND_0.prj  \n",
            "  inflating: gadm36_IND_shp/gadm36_IND_0.shp  \n",
            "  inflating: gadm36_IND_shp/gadm36_IND_0.shx  \n",
            " extracting: gadm36_IND_shp/gadm36_IND_1.cpg  \n",
            "  inflating: gadm36_IND_shp/gadm36_IND_1.dbf  \n",
            "  inflating: gadm36_IND_shp/gadm36_IND_1.prj  \n",
            "  inflating: gadm36_IND_shp/gadm36_IND_1.shp  \n",
            "  inflating: gadm36_IND_shp/gadm36_IND_1.shx  \n",
            " extracting: gadm36_IND_shp/gadm36_IND_2.cpg  \n",
            "  inflating: gadm36_IND_shp/gadm36_IND_2.dbf  \n",
            "  inflating: gadm36_IND_shp/gadm36_IND_2.prj  \n",
            "  inflating: gadm36_IND_shp/gadm36_IND_2.shp  \n",
            "  inflating: gadm36_IND_shp/gadm36_IND_2.shx  \n",
            " extracting: gadm36_IND_shp/gadm36_IND_3.cpg  \n",
            "  inflating: gadm36_IND_shp/gadm36_IND_3.dbf  \n",
            "  inflating: gadm36_IND_shp/gadm36_IND_3.prj  \n",
            "  inflating: gadm36_IND_shp/gadm36_IND_3.shp  \n",
            "  inflating: gadm36_IND_shp/gadm36_IND_3.shx  \n",
            "  inflating: gadm36_IND_shp/license.txt  \n"
          ],
          "name": "stdout"
        }
      ]
    },
    {
      "cell_type": "markdown",
      "metadata": {
        "id": "aWpBvDzlj3BG",
        "colab_type": "text"
      },
      "source": [
        "# Data Processing"
      ]
    },
    {
      "cell_type": "code",
      "metadata": {
        "id": "rl6zrNnKgrYq",
        "colab_type": "code",
        "colab": {}
      },
      "source": [
        "import pandas as pd\n",
        "import numpy as np\n",
        "import matplotlib.pyplot as plt"
      ],
      "execution_count": 0,
      "outputs": []
    },
    {
      "cell_type": "code",
      "metadata": {
        "id": "1D_HVyRMk7Xl",
        "colab_type": "code",
        "outputId": "41f5e021-1648-4334-bb3f-e04b7f2fc128",
        "colab": {
          "base_uri": "https://localhost:8080/",
          "height": 393
        }
      },
      "source": [
        "india_covid19_data=pd.read_csv('covid19-in-india/covid_19_india.csv')\n",
        "print(india_covid19_data.shape)\n",
        "print(india_covid19_data.columns)\n",
        "india_covid19_data.tail()"
      ],
      "execution_count": 4,
      "outputs": [
        {
          "output_type": "stream",
          "text": [
            "(959, 9)\n",
            "Index(['Sno', 'Date', 'Time', 'State/UnionTerritory',\n",
            "       'ConfirmedIndianNational', 'ConfirmedForeignNational', 'Cured',\n",
            "       'Deaths', 'Confirmed'],\n",
            "      dtype='object')\n"
          ],
          "name": "stdout"
        },
        {
          "output_type": "execute_result",
          "data": {
            "text/html": [
              "<div>\n",
              "<style scoped>\n",
              "    .dataframe tbody tr th:only-of-type {\n",
              "        vertical-align: middle;\n",
              "    }\n",
              "\n",
              "    .dataframe tbody tr th {\n",
              "        vertical-align: top;\n",
              "    }\n",
              "\n",
              "    .dataframe thead th {\n",
              "        text-align: right;\n",
              "    }\n",
              "</style>\n",
              "<table border=\"1\" class=\"dataframe\">\n",
              "  <thead>\n",
              "    <tr style=\"text-align: right;\">\n",
              "      <th></th>\n",
              "      <th>Sno</th>\n",
              "      <th>Date</th>\n",
              "      <th>Time</th>\n",
              "      <th>State/UnionTerritory</th>\n",
              "      <th>ConfirmedIndianNational</th>\n",
              "      <th>ConfirmedForeignNational</th>\n",
              "      <th>Cured</th>\n",
              "      <th>Deaths</th>\n",
              "      <th>Confirmed</th>\n",
              "    </tr>\n",
              "  </thead>\n",
              "  <tbody>\n",
              "    <tr>\n",
              "      <th>954</th>\n",
              "      <td>955</td>\n",
              "      <td>14/04/20</td>\n",
              "      <td>5:00 PM</td>\n",
              "      <td>Telengana</td>\n",
              "      <td>-</td>\n",
              "      <td>-</td>\n",
              "      <td>100</td>\n",
              "      <td>17</td>\n",
              "      <td>624</td>\n",
              "    </tr>\n",
              "    <tr>\n",
              "      <th>955</th>\n",
              "      <td>956</td>\n",
              "      <td>14/04/20</td>\n",
              "      <td>5:00 PM</td>\n",
              "      <td>Tripura</td>\n",
              "      <td>-</td>\n",
              "      <td>-</td>\n",
              "      <td>0</td>\n",
              "      <td>0</td>\n",
              "      <td>2</td>\n",
              "    </tr>\n",
              "    <tr>\n",
              "      <th>956</th>\n",
              "      <td>957</td>\n",
              "      <td>14/04/20</td>\n",
              "      <td>5:00 PM</td>\n",
              "      <td>Uttarakhand</td>\n",
              "      <td>-</td>\n",
              "      <td>-</td>\n",
              "      <td>7</td>\n",
              "      <td>0</td>\n",
              "      <td>35</td>\n",
              "    </tr>\n",
              "    <tr>\n",
              "      <th>957</th>\n",
              "      <td>958</td>\n",
              "      <td>14/04/20</td>\n",
              "      <td>5:00 PM</td>\n",
              "      <td>Uttar Pradesh</td>\n",
              "      <td>-</td>\n",
              "      <td>-</td>\n",
              "      <td>49</td>\n",
              "      <td>5</td>\n",
              "      <td>657</td>\n",
              "    </tr>\n",
              "    <tr>\n",
              "      <th>958</th>\n",
              "      <td>959</td>\n",
              "      <td>14/04/20</td>\n",
              "      <td>5:00 PM</td>\n",
              "      <td>West Bengal</td>\n",
              "      <td>-</td>\n",
              "      <td>-</td>\n",
              "      <td>36</td>\n",
              "      <td>7</td>\n",
              "      <td>190</td>\n",
              "    </tr>\n",
              "  </tbody>\n",
              "</table>\n",
              "</div>"
            ],
            "text/plain": [
              "     Sno      Date     Time  ... Cured Deaths Confirmed\n",
              "954  955  14/04/20  5:00 PM  ...   100     17       624\n",
              "955  956  14/04/20  5:00 PM  ...     0      0         2\n",
              "956  957  14/04/20  5:00 PM  ...     7      0        35\n",
              "957  958  14/04/20  5:00 PM  ...    49      5       657\n",
              "958  959  14/04/20  5:00 PM  ...    36      7       190\n",
              "\n",
              "[5 rows x 9 columns]"
            ]
          },
          "metadata": {
            "tags": []
          },
          "execution_count": 4
        }
      ]
    },
    {
      "cell_type": "code",
      "metadata": {
        "id": "jzw3JWQidIpR",
        "colab_type": "code",
        "colab": {
          "base_uri": "https://localhost:8080/",
          "height": 191
        },
        "outputId": "472dbde1-bbae-4e56-fb72-afd200d74acf"
      },
      "source": [
        "india_covid19_data.isna().sum()"
      ],
      "execution_count": 9,
      "outputs": [
        {
          "output_type": "execute_result",
          "data": {
            "text/plain": [
              "Sno                         0\n",
              "Date                        0\n",
              "Time                        0\n",
              "State/UnionTerritory        0\n",
              "ConfirmedIndianNational     0\n",
              "ConfirmedForeignNational    0\n",
              "Cured                       0\n",
              "Deaths                      0\n",
              "Confirmed                   0\n",
              "dtype: int64"
            ]
          },
          "metadata": {
            "tags": []
          },
          "execution_count": 9
        }
      ]
    },
    {
      "cell_type": "code",
      "metadata": {
        "id": "LoWM5tXVlFHy",
        "colab_type": "code",
        "colab": {}
      },
      "source": [
        "india_covid19_data['Date']=pd.to_datetime(india_covid19_data['Date'],dayfirst=True)"
      ],
      "execution_count": 0,
      "outputs": []
    },
    {
      "cell_type": "code",
      "metadata": {
        "id": "AOwCo3nplLcd",
        "colab_type": "code",
        "outputId": "b54358e4-2429-4841-945f-d6a2a4fb7ae5",
        "colab": {
          "base_uri": "https://localhost:8080/",
          "height": 331
        }
      },
      "source": [
        "india_covid19_data.groupby(['Date']).sum().reset_index().plot(x='Date',y=['Confirmed','Cured','Deaths'])"
      ],
      "execution_count": 8,
      "outputs": [
        {
          "output_type": "execute_result",
          "data": {
            "text/plain": [
              "<matplotlib.axes._subplots.AxesSubplot at 0x7fe855dc2b00>"
            ]
          },
          "metadata": {
            "tags": []
          },
          "execution_count": 8
        },
        {
          "output_type": "display_data",
          "data": {
            "image/png": "[encoded data removed]",
            "text/plain": [
              "<Figure size 432x288 with 1 Axes>"
            ]
          },
          "metadata": {
            "tags": [],
            "needs_background": "light"
          }
        }
      ]
    },
    {
      "cell_type": "markdown",
      "metadata": {
        "id": "Y5uxgngSzwgc",
        "colab_type": "text"
      },
      "source": [
        "# India Map"
      ]
    },
    {
      "cell_type": "code",
      "metadata": {
        "id": "pSPe0zXGsye7",
        "colab_type": "code",
        "outputId": "67b08d1d-d452-450f-ccab-e38b4eae8da6",
        "colab": {
          "base_uri": "https://localhost:8080/",
          "height": 1000
        }
      },
      "source": [
        "!pip install pyshp geopandas"
      ],
      "execution_count": 10,
      "outputs": [
        {
          "output_type": "stream",
          "text": [
            "Collecting pyshp\n",
            "\u001b[?25l  Downloading https://files.pythonhosted.org/packages/27/16/3bf15aa864fb77845fab8007eda22c2bd67bd6c1fd13496df452c8c43621/pyshp-2.1.0.tar.gz (215kB)\n",
            "\u001b[K     |████████████████████████████████| 225kB 2.8MB/s \n",
            "\u001b[?25hCollecting geopandas\n",
            "\u001b[?25l  Downloading https://files.pythonhosted.org/packages/83/c5/3cf9cdc39a6f2552922f79915f36b45a95b71fd343cfc51170a5b6ddb6e8/geopandas-0.7.0-py2.py3-none-any.whl (928kB)\n",
            "\u001b[K     |████████████████████████████████| 931kB 8.3MB/s \n",
            "\u001b[?25hCollecting earthpy\n",
            "\u001b[?25l  Downloading https://files.pythonhosted.org/packages/a5/15/27c629bb121ad8234ee022ed0a194c8f8eaed0a7cf5e4c1f46cbeb078191/earthpy-0.9.1.tar.gz (1.4MB)\n",
            "\u001b[K     |████████████████████████████████| 1.4MB 19.3MB/s \n",
            "\u001b[?25h  Installing build dependencies ... \u001b[?25l\u001b[?25hdone\n",
            "  Getting requirements to build wheel ... \u001b[?25l\u001b[?25hdone\n",
            "    Preparing wheel metadata ... \u001b[?25l\u001b[?25hdone\n",
            "Requirement already satisfied: pandas>=0.23.0 in /usr/local/lib/python3.6/dist-packages (from geopandas) (1.0.3)\n",
            "Collecting fiona\n",
            "\u001b[?25l  Downloading https://files.pythonhosted.org/packages/ec/20/4e63bc5c6e62df889297b382c3ccd4a7a488b00946aaaf81a118158c6f09/Fiona-1.8.13.post1-cp36-cp36m-manylinux1_x86_64.whl (14.7MB)\n",
            "\u001b[K     |████████████████████████████████| 14.7MB 304kB/s \n",
            "\u001b[?25hCollecting pyproj>=2.2.0\n",
            "\u001b[?25l  Downloading https://files.pythonhosted.org/packages/ce/37/705ee471f71130d4ceee41bbcb06f3b52175cb89273cbb5755ed5e6374e0/pyproj-2.6.0-cp36-cp36m-manylinux2010_x86_64.whl (10.4MB)\n",
            "\u001b[K     |████████████████████████████████| 10.4MB 48.9MB/s \n",
            "\u001b[?25hRequirement already satisfied: shapely in /usr/local/lib/python3.6/dist-packages (from geopandas) (1.7.0)\n",
            "Requirement already satisfied: matplotlib>=2.0.0 in /usr/local/lib/python3.6/dist-packages (from earthpy) (3.2.1)\n",
            "Requirement already satisfied: scikit-image in /usr/local/lib/python3.6/dist-packages (from earthpy) (0.16.2)\n",
            "Requirement already satisfied: requests in /usr/local/lib/python3.6/dist-packages (from earthpy) (2.21.0)\n",
            "Requirement already satisfied: numpy>=1.14.0 in /usr/local/lib/python3.6/dist-packages (from earthpy) (1.18.2)\n",
            "Collecting rasterio\n",
            "\u001b[?25l  Downloading https://files.pythonhosted.org/packages/c7/81/13321f88f582a00705c5f348724728e8999136e19d6e7c56f7e6ac9bb7f9/rasterio-1.1.3-cp36-cp36m-manylinux1_x86_64.whl (18.1MB)\n",
            "\u001b[K     |████████████████████████████████| 18.1MB 173kB/s \n",
            "\u001b[?25hRequirement already satisfied: pytz>=2017.2 in /usr/local/lib/python3.6/dist-packages (from pandas>=0.23.0->geopandas) (2018.9)\n",
            "Requirement already satisfied: python-dateutil>=2.6.1 in /usr/local/lib/python3.6/dist-packages (from pandas>=0.23.0->geopandas) (2.8.1)\n",
            "Collecting munch\n",
            "  Downloading https://files.pythonhosted.org/packages/cc/ab/85d8da5c9a45e072301beb37ad7f833cd344e04c817d97e0cc75681d248f/munch-2.5.0-py2.py3-none-any.whl\n",
            "Requirement already satisfied: six>=1.7 in /usr/local/lib/python3.6/dist-packages (from fiona->geopandas) (1.12.0)\n",
            "Collecting cligj>=0.5\n",
            "  Downloading https://files.pythonhosted.org/packages/e4/be/30a58b4b0733850280d01f8bd132591b4668ed5c7046761098d665ac2174/cligj-0.5.0-py3-none-any.whl\n",
            "Requirement already satisfied: attrs>=17 in /usr/local/lib/python3.6/dist-packages (from fiona->geopandas) (19.3.0)\n",
            "Requirement already satisfied: click<8,>=4.0 in /usr/local/lib/python3.6/dist-packages (from fiona->geopandas) (7.1.1)\n",
            "Collecting click-plugins>=1.0\n",
            "  Downloading https://files.pythonhosted.org/packages/e9/da/824b92d9942f4e472702488857914bdd50f73021efea15b4cad9aca8ecef/click_plugins-1.1.1-py2.py3-none-any.whl\n",
            "Requirement already satisfied: pyparsing!=2.0.4,!=2.1.2,!=2.1.6,>=2.0.1 in /usr/local/lib/python3.6/dist-packages (from matplotlib>=2.0.0->earthpy) (2.4.7)\n",
            "Requirement already satisfied: cycler>=0.10 in /usr/local/lib/python3.6/dist-packages (from matplotlib>=2.0.0->earthpy) (0.10.0)\n",
            "Requirement already satisfied: kiwisolver>=1.0.1 in /usr/local/lib/python3.6/dist-packages (from matplotlib>=2.0.0->earthpy) (1.2.0)\n",
            "Requirement already satisfied: imageio>=2.3.0 in /usr/local/lib/python3.6/dist-packages (from scikit-image->earthpy) (2.4.1)\n",
            "Requirement already satisfied: PyWavelets>=0.4.0 in /usr/local/lib/python3.6/dist-packages (from scikit-image->earthpy) (1.1.1)\n",
            "Requirement already satisfied: scipy>=0.19.0 in /usr/local/lib/python3.6/dist-packages (from scikit-image->earthpy) (1.4.1)\n",
            "Requirement already satisfied: pillow>=4.3.0 in /usr/local/lib/python3.6/dist-packages (from scikit-image->earthpy) (7.0.0)\n",
            "Requirement already satisfied: networkx>=2.0 in /usr/local/lib/python3.6/dist-packages (from scikit-image->earthpy) (2.4)\n",
            "Requirement already satisfied: certifi>=2017.4.17 in /usr/local/lib/python3.6/dist-packages (from requests->earthpy) (2020.4.5.1)\n",
            "Requirement already satisfied: idna<2.9,>=2.5 in /usr/local/lib/python3.6/dist-packages (from requests->earthpy) (2.8)\n",
            "Requirement already satisfied: urllib3<1.25,>=1.21.1 in /usr/local/lib/python3.6/dist-packages (from requests->earthpy) (1.24.3)\n",
            "Requirement already satisfied: chardet<3.1.0,>=3.0.2 in /usr/local/lib/python3.6/dist-packages (from requests->earthpy) (3.0.4)\n",
            "Collecting affine\n",
            "  Downloading https://files.pythonhosted.org/packages/ac/a6/1a39a1ede71210e3ddaf623982b06ecfc5c5c03741ae659073159184cd3e/affine-2.3.0-py2.py3-none-any.whl\n",
            "Collecting snuggs>=1.4.1\n",
            "  Downloading https://files.pythonhosted.org/packages/cc/0e/d27d6e806d6c0d1a2cfdc5d1f088e42339a0a54a09c3343f7f81ec8947ea/snuggs-1.4.7-py3-none-any.whl\n",
            "Requirement already satisfied: decorator>=4.3.0 in /usr/local/lib/python3.6/dist-packages (from networkx>=2.0->scikit-image->earthpy) (4.4.2)\n",
            "Building wheels for collected packages: earthpy\n",
            "  Building wheel for earthpy (PEP 517) ... \u001b[?25l\u001b[?25hdone\n",
            "  Created wheel for earthpy: filename=earthpy-0.9.1-cp36-none-any.whl size=1365034 sha256=e8461e0a6cc8d604f61a59b095c3a22c3b5e13e8f9848bc8e8b3182f1e131dbb\n",
            "  Stored in directory: /root/.cache/pip/wheels/19/73/bc/a463e618369ee186e5427252daabcda420b04be3644b2df40f\n",
            "Successfully built earthpy\n",
            "Building wheels for collected packages: pyshp\n",
            "  Building wheel for pyshp (setup.py) ... \u001b[?25l\u001b[?25hdone\n",
            "  Created wheel for pyshp: filename=pyshp-2.1.0-cp36-none-any.whl size=32609 sha256=2b68d70fe3b67f266d441a1a6ceb26720a8e1d453564b769b865af260e0e4df9\n",
            "  Stored in directory: /root/.cache/pip/wheels/a6/0c/de/321b5192ad416b328975a2f0385f72c64db4656501eba7cc1a\n",
            "Successfully built pyshp\n",
            "Installing collected packages: pyshp, munch, cligj, click-plugins, fiona, pyproj, geopandas, affine, snuggs, rasterio, earthpy\n",
            "Successfully installed affine-2.3.0 click-plugins-1.1.1 cligj-0.5.0 earthpy-0.9.1 fiona-1.8.13.post1 geopandas-0.7.0 munch-2.5.0 pyproj-2.6.0 pyshp-2.1.0 rasterio-1.1.3 snuggs-1.4.7\n"
          ],
          "name": "stdout"
        }
      ]
    },
    {
      "cell_type": "code",
      "metadata": {
        "id": "sPuy0DUn1Rcj",
        "colab_type": "code",
        "colab": {}
      },
      "source": [
        "import os\n",
        "import matplotlib.pyplot as plt\n",
        "import geopandas as gpd"
      ],
      "execution_count": 0,
      "outputs": []
    },
    {
      "cell_type": "code",
      "metadata": {
        "id": "7ypgAKN61UET",
        "colab_type": "code",
        "outputId": "fd9d734e-9068-4b88-891b-b39d266791a9",
        "colab": {
          "base_uri": "https://localhost:8080/",
          "height": 510
        }
      },
      "source": [
        "india_map_data = gpd.read_file('IND_adm/IND_adm1.shp')\n",
        "print(india_map_data.shape)\n",
        "india_map_data.head()"
      ],
      "execution_count": 13,
      "outputs": [
        {
          "output_type": "stream",
          "text": [
            "(36, 10)\n"
          ],
          "name": "stdout"
        },
        {
          "output_type": "execute_result",
          "data": {
            "text/html": [
              "<div>\n",
              "<style scoped>\n",
              "    .dataframe tbody tr th:only-of-type {\n",
              "        vertical-align: middle;\n",
              "    }\n",
              "\n",
              "    .dataframe tbody tr th {\n",
              "        vertical-align: top;\n",
              "    }\n",
              "\n",
              "    .dataframe thead th {\n",
              "        text-align: right;\n",
              "    }\n",
              "</style>\n",
              "<table border=\"1\" class=\"dataframe\">\n",
              "  <thead>\n",
              "    <tr style=\"text-align: right;\">\n",
              "      <th></th>\n",
              "      <th>ID_0</th>\n",
              "      <th>ISO</th>\n",
              "      <th>NAME_0</th>\n",
              "      <th>ID_1</th>\n",
              "      <th>NAME_1</th>\n",
              "      <th>TYPE_1</th>\n",
              "      <th>ENGTYPE_1</th>\n",
              "      <th>NL_NAME_1</th>\n",
              "      <th>VARNAME_1</th>\n",
              "      <th>geometry</th>\n",
              "    </tr>\n",
              "  </thead>\n",
              "  <tbody>\n",
              "    <tr>\n",
              "      <th>0</th>\n",
              "      <td>105</td>\n",
              "      <td>IND</td>\n",
              "      <td>India</td>\n",
              "      <td>1</td>\n",
              "      <td>Andaman and Nicobar</td>\n",
              "      <td>Union Territor</td>\n",
              "      <td>Union Territory</td>\n",
              "      <td>None</td>\n",
              "      <td>Andaman &amp; Nicobar Islands|Andaman et Nicobar|I...</td>\n",
              "      <td>MULTIPOLYGON (((93.78773 6.85264, 93.78849 6.8...</td>\n",
              "    </tr>\n",
              "    <tr>\n",
              "      <th>1</th>\n",
              "      <td>105</td>\n",
              "      <td>IND</td>\n",
              "      <td>India</td>\n",
              "      <td>2</td>\n",
              "      <td>Andhra Pradesh</td>\n",
              "      <td>State</td>\n",
              "      <td>State</td>\n",
              "      <td>None</td>\n",
              "      <td>None</td>\n",
              "      <td>MULTIPOLYGON (((80.27458 13.45958, 80.27458 13...</td>\n",
              "    </tr>\n",
              "    <tr>\n",
              "      <th>2</th>\n",
              "      <td>105</td>\n",
              "      <td>IND</td>\n",
              "      <td>India</td>\n",
              "      <td>3</td>\n",
              "      <td>Arunachal Pradesh</td>\n",
              "      <td>State</td>\n",
              "      <td>State</td>\n",
              "      <td>None</td>\n",
              "      <td>Agence de la Frontière du Nord-Est(French-obso...</td>\n",
              "      <td>POLYGON ((96.15778 29.38310, 96.16380 29.37668...</td>\n",
              "    </tr>\n",
              "    <tr>\n",
              "      <th>3</th>\n",
              "      <td>105</td>\n",
              "      <td>IND</td>\n",
              "      <td>India</td>\n",
              "      <td>4</td>\n",
              "      <td>Assam</td>\n",
              "      <td>State</td>\n",
              "      <td>State</td>\n",
              "      <td>None</td>\n",
              "      <td>None</td>\n",
              "      <td>MULTIPOLYGON (((89.87145 25.53730, 89.87118 25...</td>\n",
              "    </tr>\n",
              "    <tr>\n",
              "      <th>4</th>\n",
              "      <td>105</td>\n",
              "      <td>IND</td>\n",
              "      <td>India</td>\n",
              "      <td>5</td>\n",
              "      <td>Bihar</td>\n",
              "      <td>State</td>\n",
              "      <td>State</td>\n",
              "      <td>None</td>\n",
              "      <td>None</td>\n",
              "      <td>MULTIPOLYGON (((88.10548 26.53904, 88.10505 26...</td>\n",
              "    </tr>\n",
              "  </tbody>\n",
              "</table>\n",
              "</div>"
            ],
            "text/plain": [
              "   ID_0  ...                                           geometry\n",
              "0   105  ...  MULTIPOLYGON (((93.78773 6.85264, 93.78849 6.8...\n",
              "1   105  ...  MULTIPOLYGON (((80.27458 13.45958, 80.27458 13...\n",
              "2   105  ...  POLYGON ((96.15778 29.38310, 96.16380 29.37668...\n",
              "3   105  ...  MULTIPOLYGON (((89.87145 25.53730, 89.87118 25...\n",
              "4   105  ...  MULTIPOLYGON (((88.10548 26.53904, 88.10505 26...\n",
              "\n",
              "[5 rows x 10 columns]"
            ]
          },
          "metadata": {
            "tags": []
          },
          "execution_count": 13
        }
      ]
    },
    {
      "cell_type": "code",
      "metadata": {
        "id": "vpIaxkhtfnvW",
        "colab_type": "code",
        "colab": {
          "base_uri": "https://localhost:8080/",
          "height": 527
        },
        "outputId": "6422afa6-d03f-4fb3-bc43-afbcf3137e67"
      },
      "source": [
        "india_map_data2 = gpd.read_file('gadm36_IND_shp/gadm36_IND_1.shp')\n",
        "print(india_map_data2.shape)\n",
        "india_map_data2.head()"
      ],
      "execution_count": 14,
      "outputs": [
        {
          "output_type": "stream",
          "text": [
            "(36, 11)\n"
          ],
          "name": "stdout"
        },
        {
          "output_type": "execute_result",
          "data": {
            "text/html": [
              "<div>\n",
              "<style scoped>\n",
              "    .dataframe tbody tr th:only-of-type {\n",
              "        vertical-align: middle;\n",
              "    }\n",
              "\n",
              "    .dataframe tbody tr th {\n",
              "        vertical-align: top;\n",
              "    }\n",
              "\n",
              "    .dataframe thead th {\n",
              "        text-align: right;\n",
              "    }\n",
              "</style>\n",
              "<table border=\"1\" class=\"dataframe\">\n",
              "  <thead>\n",
              "    <tr style=\"text-align: right;\">\n",
              "      <th></th>\n",
              "      <th>GID_0</th>\n",
              "      <th>NAME_0</th>\n",
              "      <th>GID_1</th>\n",
              "      <th>NAME_1</th>\n",
              "      <th>VARNAME_1</th>\n",
              "      <th>NL_NAME_1</th>\n",
              "      <th>TYPE_1</th>\n",
              "      <th>ENGTYPE_1</th>\n",
              "      <th>CC_1</th>\n",
              "      <th>HASC_1</th>\n",
              "      <th>geometry</th>\n",
              "    </tr>\n",
              "  </thead>\n",
              "  <tbody>\n",
              "    <tr>\n",
              "      <th>0</th>\n",
              "      <td>IND</td>\n",
              "      <td>India</td>\n",
              "      <td>IND.1_1</td>\n",
              "      <td>Andaman and Nicobar</td>\n",
              "      <td>Andaman &amp; Nicobar Islands|Andaman et Nicobar|I...</td>\n",
              "      <td>None</td>\n",
              "      <td>Union Territor</td>\n",
              "      <td>Union Territory</td>\n",
              "      <td>None</td>\n",
              "      <td>IN.AN</td>\n",
              "      <td>MULTIPOLYGON (((93.78773 6.85264, 93.78849 6.8...</td>\n",
              "    </tr>\n",
              "    <tr>\n",
              "      <th>1</th>\n",
              "      <td>IND</td>\n",
              "      <td>India</td>\n",
              "      <td>IND.2_1</td>\n",
              "      <td>Andhra Pradesh</td>\n",
              "      <td>None</td>\n",
              "      <td>None</td>\n",
              "      <td>State</td>\n",
              "      <td>State</td>\n",
              "      <td>None</td>\n",
              "      <td>IN.AP</td>\n",
              "      <td>MULTIPOLYGON (((80.19264 13.52070, 80.19264 13...</td>\n",
              "    </tr>\n",
              "    <tr>\n",
              "      <th>2</th>\n",
              "      <td>IND</td>\n",
              "      <td>India</td>\n",
              "      <td>IND.3_1</td>\n",
              "      <td>Arunachal Pradesh</td>\n",
              "      <td>Agence de la Frontière du Nord-Est(French-obso...</td>\n",
              "      <td>None</td>\n",
              "      <td>State</td>\n",
              "      <td>State</td>\n",
              "      <td>None</td>\n",
              "      <td>IN.AR</td>\n",
              "      <td>POLYGON ((94.21111 27.61084, 94.21351 27.60442...</td>\n",
              "    </tr>\n",
              "    <tr>\n",
              "      <th>3</th>\n",
              "      <td>IND</td>\n",
              "      <td>India</td>\n",
              "      <td>IND.4_1</td>\n",
              "      <td>Assam</td>\n",
              "      <td>None</td>\n",
              "      <td>None</td>\n",
              "      <td>State</td>\n",
              "      <td>State</td>\n",
              "      <td>None</td>\n",
              "      <td>IN.AS</td>\n",
              "      <td>POLYGON ((89.83875 25.96647, 89.83814 25.96793...</td>\n",
              "    </tr>\n",
              "    <tr>\n",
              "      <th>4</th>\n",
              "      <td>IND</td>\n",
              "      <td>India</td>\n",
              "      <td>IND.5_1</td>\n",
              "      <td>Bihar</td>\n",
              "      <td>None</td>\n",
              "      <td>None</td>\n",
              "      <td>State</td>\n",
              "      <td>State</td>\n",
              "      <td>None</td>\n",
              "      <td>IN.BR</td>\n",
              "      <td>MULTIPOLYGON (((87.26292 27.85072, 87.25249 27...</td>\n",
              "    </tr>\n",
              "  </tbody>\n",
              "</table>\n",
              "</div>"
            ],
            "text/plain": [
              "  GID_0 NAME_0  ... HASC_1                                           geometry\n",
              "0   IND  India  ...  IN.AN  MULTIPOLYGON (((93.78773 6.85264, 93.78849 6.8...\n",
              "1   IND  India  ...  IN.AP  MULTIPOLYGON (((80.19264 13.52070, 80.19264 13...\n",
              "2   IND  India  ...  IN.AR  POLYGON ((94.21111 27.61084, 94.21351 27.60442...\n",
              "3   IND  India  ...  IN.AS  POLYGON ((89.83875 25.96647, 89.83814 25.96793...\n",
              "4   IND  India  ...  IN.BR  MULTIPOLYGON (((87.26292 27.85072, 87.25249 27...\n",
              "\n",
              "[5 rows x 11 columns]"
            ]
          },
          "metadata": {
            "tags": []
          },
          "execution_count": 14
        }
      ]
    },
    {
      "cell_type": "code",
      "metadata": {
        "id": "in0Asku7jarZ",
        "colab_type": "code",
        "colab": {
          "base_uri": "https://localhost:8080/",
          "height": 418
        },
        "outputId": "c41785bc-688b-492c-fefd-efb202eded55"
      },
      "source": [
        "print(india_map_data.isna().sum())\n",
        "print(india_map_data2.isna().sum())"
      ],
      "execution_count": 18,
      "outputs": [
        {
          "output_type": "stream",
          "text": [
            "ID_0          0\n",
            "ISO           0\n",
            "NAME_0        0\n",
            "ID_1          0\n",
            "NAME_1        0\n",
            "TYPE_1        0\n",
            "ENGTYPE_1     0\n",
            "NL_NAME_1    36\n",
            "VARNAME_1    22\n",
            "geometry      0\n",
            "dtype: int64\n",
            "GID_0         0\n",
            "NAME_0        0\n",
            "GID_1         0\n",
            "NAME_1        0\n",
            "VARNAME_1    22\n",
            "NL_NAME_1    36\n",
            "TYPE_1        0\n",
            "ENGTYPE_1     0\n",
            "CC_1         36\n",
            "HASC_1        0\n",
            "geometry      0\n",
            "dtype: int64\n"
          ],
          "name": "stdout"
        }
      ]
    },
    {
      "cell_type": "code",
      "metadata": {
        "id": "qwvm5xcj3VcX",
        "colab_type": "code",
        "outputId": "0c08393f-3ccf-4827-b1ed-a989fdf15eb7",
        "colab": {
          "base_uri": "https://localhost:8080/",
          "height": 864
        }
      },
      "source": [
        "india_map_data.plot(column='NAME_1',categorical=True,figsize=(7,12),cmap='Set2')\n",
        "india_map_data2.plot(column='NAME_1',categorical=True,figsize=(7,12),cmap='Set2')"
      ],
      "execution_count": 17,
      "outputs": [
        {
          "output_type": "execute_result",
          "data": {
            "text/plain": [
              "<matplotlib.axes._subplots.AxesSubplot at 0x7fe84d955ba8>"
            ]
          },
          "metadata": {
            "tags": []
          },
          "execution_count": 17
        },
        {
          "output_type": "display_data",
          "data": {
            "image/png": "[encoded data removed]",
            "text/plain": [
              "<Figure size 504x864 with 1 Axes>"
            ]
          },
          "metadata": {
            "tags": [],
            "needs_background": "light"
          }
        },
        {
          "output_type": "display_data",
          "data": {
            "image/png": "[encoded data removed]",
            "text/plain": [
              "<Figure size 504x864 with 1 Axes>"
            ]
          },
          "metadata": {
            "tags": [],
            "needs_background": "light"
          }
        }
      ]
    },
    {
      "cell_type": "markdown",
      "metadata": {
        "id": "p0ZNRg_m_0mG",
        "colab_type": "text"
      },
      "source": [
        "# Merging covid and map data"
      ]
    },
    {
      "cell_type": "code",
      "metadata": {
        "id": "vJGU5etbj2fE",
        "colab_type": "code",
        "colab": {
          "base_uri": "https://localhost:8080/",
          "height": 1000
        },
        "outputId": "9afd7f02-ccc2-4b1e-c5e2-b2c9b003ef56"
      },
      "source": [
        "print(india_map_data.groupby(['ENGTYPE_1','NAME_1']).count())\n",
        "print(india_map_data2.groupby(['TYPE_1','NAME_1']).count())"
      ],
      "execution_count": 24,
      "outputs": [
        {
          "output_type": "stream",
          "text": [
            "                                        ID_0  ISO  ...  VARNAME_1  geometry\n",
            "ENGTYPE_1       NAME_1                             ...                     \n",
            "State           Andhra Pradesh             1    1  ...          0         1\n",
            "                Arunachal Pradesh          1    1  ...          1         1\n",
            "                Assam                      1    1  ...          0         1\n",
            "                Bihar                      1    1  ...          0         1\n",
            "                Chhattisgarh               1    1  ...          0         1\n",
            "                Goa                        1    1  ...          1         1\n",
            "                Gujarat                    1    1  ...          1         1\n",
            "                Haryana                    1    1  ...          0         1\n",
            "                Jammu and Kashmir          1    1  ...          0         1\n",
            "                Jharkhand                  1    1  ...          1         1\n",
            "                Karnataka                  1    1  ...          1         1\n",
            "                Kerala                     1    1  ...          0         1\n",
            "                Madhya Pradesh             1    1  ...          0         1\n",
            "                Maharashtra                1    1  ...          0         1\n",
            "                Manipur                    1    1  ...          0         1\n",
            "                Meghalaya                  1    1  ...          0         1\n",
            "                Mizoram                    1    1  ...          0         1\n",
            "                Nagaland                   1    1  ...          0         1\n",
            "                Orissa                     1    1  ...          0         1\n",
            "                Punjab                     1    1  ...          0         1\n",
            "                Rajasthan                  1    1  ...          1         1\n",
            "                Sikkim                     1    1  ...          0         1\n",
            "                Tamil Nadu                 1    1  ...          1         1\n",
            "                Telangana                  1    1  ...          0         1\n",
            "                Tripura                    1    1  ...          0         1\n",
            "                Uttar Pradesh              1    1  ...          1         1\n",
            "                Uttaranchal                1    1  ...          1         1\n",
            "                West Bengal                1    1  ...          1         1\n",
            "Union Territory Andaman and Nicobar        1    1  ...          1         1\n",
            "                Chandigarh                 1    1  ...          0         1\n",
            "                Dadra and Nagar Haveli     1    1  ...          1         1\n",
            "                Daman and Diu              1    1  ...          0         1\n",
            "                Delhi                      1    1  ...          0         1\n",
            "                Himachal Pradesh           1    1  ...          0         1\n",
            "                Lakshadweep                1    1  ...          1         1\n",
            "                Puducherry                 1    1  ...          1         1\n",
            "\n",
            "[36 rows x 8 columns]\n",
            "                                       GID_0  NAME_0  ...  HASC_1  geometry\n",
            "TYPE_1         NAME_1                                 ...                  \n",
            "State          Andhra Pradesh              1       1  ...       1         1\n",
            "               Arunachal Pradesh           1       1  ...       1         1\n",
            "               Assam                       1       1  ...       1         1\n",
            "               Bihar                       1       1  ...       1         1\n",
            "               Chhattisgarh                1       1  ...       1         1\n",
            "               Goa                         1       1  ...       1         1\n",
            "               Gujarat                     1       1  ...       1         1\n",
            "               Haryana                     1       1  ...       1         1\n",
            "               Jammu and Kashmir           1       1  ...       1         1\n",
            "               Jharkhand                   1       1  ...       1         1\n",
            "               Karnataka                   1       1  ...       1         1\n",
            "               Kerala                      1       1  ...       1         1\n",
            "               Madhya Pradesh              1       1  ...       1         1\n",
            "               Maharashtra                 1       1  ...       1         1\n",
            "               Manipur                     1       1  ...       1         1\n",
            "               Meghalaya                   1       1  ...       1         1\n",
            "               Mizoram                     1       1  ...       1         1\n",
            "               Nagaland                    1       1  ...       1         1\n",
            "               Odisha                      1       1  ...       1         1\n",
            "               Punjab                      1       1  ...       1         1\n",
            "               Rajasthan                   1       1  ...       1         1\n",
            "               Sikkim                      1       1  ...       1         1\n",
            "               Tamil Nadu                  1       1  ...       1         1\n",
            "               Telangana                   1       1  ...       1         1\n",
            "               Tripura                     1       1  ...       1         1\n",
            "               Uttar Pradesh               1       1  ...       1         1\n",
            "               Uttarakhand                 1       1  ...       1         1\n",
            "               West Bengal                 1       1  ...       1         1\n",
            "Union Territor Andaman and Nicobar         1       1  ...       1         1\n",
            "               Chandigarh                  1       1  ...       1         1\n",
            "               Dadra and Nagar Haveli      1       1  ...       1         1\n",
            "               Daman and Diu               1       1  ...       1         1\n",
            "               Himachal Pradesh            1       1  ...       1         1\n",
            "               Lakshadweep                 1       1  ...       1         1\n",
            "               NCT of Delhi                1       1  ...       1         1\n",
            "               Puducherry                  1       1  ...       1         1\n",
            "\n",
            "[36 rows x 9 columns]\n"
          ],
          "name": "stdout"
        }
      ]
    },
    {
      "cell_type": "code",
      "metadata": {
        "id": "9Ne0ILTU7lHD",
        "colab_type": "code",
        "outputId": "efd447d8-10e1-4fcc-a282-b0787efdb584",
        "colab": {
          "base_uri": "https://localhost:8080/",
          "height": 52
        }
      },
      "source": [
        "print(india_covid19_data.shape)\n",
        "print(india_map_data.shape)"
      ],
      "execution_count": 25,
      "outputs": [
        {
          "output_type": "stream",
          "text": [
            "(959, 9)\n",
            "(36, 10)\n"
          ],
          "name": "stdout"
        }
      ]
    },
    {
      "cell_type": "code",
      "metadata": {
        "id": "kdGOUk6N_9JE",
        "colab_type": "code",
        "outputId": "988fc12a-15ad-449c-e69a-ad792d82c7f5",
        "colab": {
          "base_uri": "https://localhost:8080/",
          "height": 139
        }
      },
      "source": [
        "print(india_covid19_data.columns)\n",
        "print(india_map_data.columns)"
      ],
      "execution_count": 26,
      "outputs": [
        {
          "output_type": "stream",
          "text": [
            "Index(['Sno', 'Date', 'Time', 'State/UnionTerritory',\n",
            "       'ConfirmedIndianNational', 'ConfirmedForeignNational', 'Cured',\n",
            "       'Deaths', 'Confirmed'],\n",
            "      dtype='object')\n",
            "Index(['ID_0', 'ISO', 'NAME_0', 'ID_1', 'NAME_1', 'TYPE_1', 'ENGTYPE_1',\n",
            "       'NL_NAME_1', 'VARNAME_1', 'geometry'],\n",
            "      dtype='object')\n"
          ],
          "name": "stdout"
        }
      ]
    },
    {
      "cell_type": "code",
      "metadata": {
        "id": "uER-WxaDAR5p",
        "colab_type": "code",
        "outputId": "cbf6bbca-c104-40de-f97f-073951cd8ceb",
        "colab": {
          "base_uri": "https://localhost:8080/",
          "height": 296
        }
      },
      "source": [
        "states_covid19_data=np.sort(india_covid19_data['State/UnionTerritory'].unique())\n",
        "print(states_covid19_data)\n",
        "print(states_covid19_data.shape)\n",
        "\n",
        "print(np.sort(india_map_data['NAME_1']))\n",
        "print(india_map_data['NAME_1'].shape)"
      ],
      "execution_count": 27,
      "outputs": [
        {
          "output_type": "stream",
          "text": [
            "['Andaman and Nicobar Islands' 'Andhra Pradesh' 'Arunachal Pradesh'\n",
            " 'Assam' 'Bihar' 'Chandigarh' 'Chhattisgarh' 'Delhi' 'Goa' 'Gujarat'\n",
            " 'Haryana' 'Himachal Pradesh' 'Jammu and Kashmir' 'Jharkhand' 'Karnataka'\n",
            " 'Kerala' 'Ladakh' 'Madhya Pradesh' 'Maharashtra' 'Manipur' 'Meghalaya'\n",
            " 'Mizoram' 'Nagaland' 'Odisha' 'Puducherry' 'Punjab' 'Rajasthan'\n",
            " 'Tamil Nadu' 'Telengana' 'Tripura' 'Unassigned' 'Uttar Pradesh'\n",
            " 'Uttarakhand' 'West Bengal']\n",
            "(34,)\n",
            "['Andaman and Nicobar' 'Andhra Pradesh' 'Arunachal Pradesh' 'Assam'\n",
            " 'Bihar' 'Chandigarh' 'Chhattisgarh' 'Dadra and Nagar Haveli'\n",
            " 'Daman and Diu' 'Delhi' 'Goa' 'Gujarat' 'Haryana' 'Himachal Pradesh'\n",
            " 'Jammu and Kashmir' 'Jharkhand' 'Karnataka' 'Kerala' 'Lakshadweep'\n",
            " 'Madhya Pradesh' 'Maharashtra' 'Manipur' 'Meghalaya' 'Mizoram' 'Nagaland'\n",
            " 'Orissa' 'Puducherry' 'Punjab' 'Rajasthan' 'Sikkim' 'Tamil Nadu'\n",
            " 'Telangana' 'Tripura' 'Uttar Pradesh' 'Uttaranchal' 'West Bengal']\n",
            "(36,)\n"
          ],
          "name": "stdout"
        }
      ]
    },
    {
      "cell_type": "code",
      "metadata": {
        "id": "BIeP8Oo3Ckq1",
        "colab_type": "code",
        "outputId": "44a080a1-0279-43b1-ddda-6a5c3e89bec5",
        "colab": {
          "base_uri": "https://localhost:8080/",
          "height": 750
        }
      },
      "source": [
        "state_id_dict={row['NAME_1']:row['ID_1'] for index,row in india_map_data.iterrows()}\n",
        "state_id_dict['Andaman and Nicobar Islands']=state_id_dict['Andaman and Nicobar']\n",
        "state_id_dict['Uttarakhand']=state_id_dict['Uttaranchal']\n",
        "state_id_dict['Telengana']=state_id_dict['Telangana']\n",
        "state_id_dict['Odisha']=state_id_dict['Orissa']\n",
        "state_id_dict['Ladakh']=state_id_dict['Jammu and Kashmir']\n",
        "\n",
        "print(len(state_id_dict))\n",
        "state_id_dict"
      ],
      "execution_count": 28,
      "outputs": [
        {
          "output_type": "stream",
          "text": [
            "41\n"
          ],
          "name": "stdout"
        },
        {
          "output_type": "execute_result",
          "data": {
            "text/plain": [
              "{'Andaman and Nicobar': 1,\n",
              " 'Andaman and Nicobar Islands': 1,\n",
              " 'Andhra Pradesh': 2,\n",
              " 'Arunachal Pradesh': 3,\n",
              " 'Assam': 4,\n",
              " 'Bihar': 5,\n",
              " 'Chandigarh': 6,\n",
              " 'Chhattisgarh': 7,\n",
              " 'Dadra and Nagar Haveli': 8,\n",
              " 'Daman and Diu': 9,\n",
              " 'Delhi': 10,\n",
              " 'Goa': 11,\n",
              " 'Gujarat': 12,\n",
              " 'Haryana': 13,\n",
              " 'Himachal Pradesh': 14,\n",
              " 'Jammu and Kashmir': 15,\n",
              " 'Jharkhand': 16,\n",
              " 'Karnataka': 17,\n",
              " 'Kerala': 18,\n",
              " 'Ladakh': 15,\n",
              " 'Lakshadweep': 19,\n",
              " 'Madhya Pradesh': 20,\n",
              " 'Maharashtra': 21,\n",
              " 'Manipur': 22,\n",
              " 'Meghalaya': 23,\n",
              " 'Mizoram': 24,\n",
              " 'Nagaland': 25,\n",
              " 'Odisha': 26,\n",
              " 'Orissa': 26,\n",
              " 'Puducherry': 27,\n",
              " 'Punjab': 28,\n",
              " 'Rajasthan': 29,\n",
              " 'Sikkim': 30,\n",
              " 'Tamil Nadu': 31,\n",
              " 'Telangana': 32,\n",
              " 'Telengana': 32,\n",
              " 'Tripura': 33,\n",
              " 'Uttar Pradesh': 34,\n",
              " 'Uttarakhand': 35,\n",
              " 'Uttaranchal': 35,\n",
              " 'West Bengal': 36}"
            ]
          },
          "metadata": {
            "tags": []
          },
          "execution_count": 28
        }
      ]
    },
    {
      "cell_type": "code",
      "metadata": {
        "id": "HTq3gvfrHCGY",
        "colab_type": "code",
        "outputId": "af41a073-c6f9-4b61-8f1b-105189f0d009",
        "colab": {
          "base_uri": "https://localhost:8080/",
          "height": 209
        }
      },
      "source": [
        "india_covid19_data['state_id']=india_covid19_data['State/UnionTerritory'].map(state_id_dict)\n",
        "india_covid19_data.isna().sum()"
      ],
      "execution_count": 29,
      "outputs": [
        {
          "output_type": "execute_result",
          "data": {
            "text/plain": [
              "Sno                         0\n",
              "Date                        0\n",
              "Time                        0\n",
              "State/UnionTerritory        0\n",
              "ConfirmedIndianNational     0\n",
              "ConfirmedForeignNational    0\n",
              "Cured                       0\n",
              "Deaths                      0\n",
              "Confirmed                   0\n",
              "state_id                    3\n",
              "dtype: int64"
            ]
          },
          "metadata": {
            "tags": []
          },
          "execution_count": 29
        }
      ]
    },
    {
      "cell_type": "code",
      "metadata": {
        "id": "opiMLQLNK1sN",
        "colab_type": "code",
        "outputId": "a17f79a1-f71e-45db-eb07-7966902398b6",
        "colab": {
          "base_uri": "https://localhost:8080/",
          "height": 52
        }
      },
      "source": [
        "india_covid19_data[india_covid19_data['state_id'].isna()]['State/UnionTerritory'].value_counts()"
      ],
      "execution_count": 30,
      "outputs": [
        {
          "output_type": "execute_result",
          "data": {
            "text/plain": [
              "Unassigned    3\n",
              "Name: State/UnionTerritory, dtype: int64"
            ]
          },
          "metadata": {
            "tags": []
          },
          "execution_count": 30
        }
      ]
    },
    {
      "cell_type": "code",
      "metadata": {
        "id": "DORJbAF8PWfG",
        "colab_type": "code",
        "outputId": "5217cc9f-1399-4c6d-b090-7359eed4df51",
        "colab": {
          "base_uri": "https://localhost:8080/",
          "height": 645
        }
      },
      "source": [
        "india_covid19_data.groupby('State/UnionTerritory').mean()['state_id']"
      ],
      "execution_count": 31,
      "outputs": [
        {
          "output_type": "execute_result",
          "data": {
            "text/plain": [
              "State/UnionTerritory\n",
              "Andaman and Nicobar Islands     1.0\n",
              "Andhra Pradesh                  2.0\n",
              "Arunachal Pradesh               3.0\n",
              "Assam                           4.0\n",
              "Bihar                           5.0\n",
              "Chandigarh                      6.0\n",
              "Chhattisgarh                    7.0\n",
              "Delhi                          10.0\n",
              "Goa                            11.0\n",
              "Gujarat                        12.0\n",
              "Haryana                        13.0\n",
              "Himachal Pradesh               14.0\n",
              "Jammu and Kashmir              15.0\n",
              "Jharkhand                      16.0\n",
              "Karnataka                      17.0\n",
              "Kerala                         18.0\n",
              "Ladakh                         15.0\n",
              "Madhya Pradesh                 20.0\n",
              "Maharashtra                    21.0\n",
              "Manipur                        22.0\n",
              "Meghalaya                      23.0\n",
              "Mizoram                        24.0\n",
              "Nagaland                       25.0\n",
              "Odisha                         26.0\n",
              "Puducherry                     27.0\n",
              "Punjab                         28.0\n",
              "Rajasthan                      29.0\n",
              "Tamil Nadu                     31.0\n",
              "Telengana                      32.0\n",
              "Tripura                        33.0\n",
              "Unassigned                      NaN\n",
              "Uttar Pradesh                  34.0\n",
              "Uttarakhand                    35.0\n",
              "West Bengal                    36.0\n",
              "Name: state_id, dtype: float64"
            ]
          },
          "metadata": {
            "tags": []
          },
          "execution_count": 31
        }
      ]
    },
    {
      "cell_type": "code",
      "metadata": {
        "id": "PV3Q4Esmtvac",
        "colab_type": "code",
        "colab": {
          "base_uri": "https://localhost:8080/",
          "height": 645
        },
        "outputId": "9331d364-54b8-440c-9465-9650017eeef8"
      },
      "source": [
        "india_covid19_data.dropna(inplace=True)\n",
        "print(india_covid19_data.groupby('State/UnionTerritory').mean()['state_id'])\n",
        "print(f\"States with NA state_id: {india_covid19_data[india_covid19_data['state_id'].isna()]['State/UnionTerritory'].value_counts()}\")"
      ],
      "execution_count": 120,
      "outputs": [
        {
          "output_type": "stream",
          "text": [
            "State/UnionTerritory\n",
            "Andaman and Nicobar Islands     1.0\n",
            "Andhra Pradesh                  2.0\n",
            "Arunachal Pradesh               3.0\n",
            "Assam                           4.0\n",
            "Bihar                           5.0\n",
            "Chandigarh                      6.0\n",
            "Chhattisgarh                    7.0\n",
            "Delhi                          10.0\n",
            "Goa                            11.0\n",
            "Gujarat                        12.0\n",
            "Haryana                        13.0\n",
            "Himachal Pradesh               14.0\n",
            "Jammu and Kashmir              15.0\n",
            "Jharkhand                      16.0\n",
            "Karnataka                      17.0\n",
            "Kerala                         18.0\n",
            "Ladakh                         15.0\n",
            "Madhya Pradesh                 20.0\n",
            "Maharashtra                    21.0\n",
            "Manipur                        22.0\n",
            "Meghalaya                      23.0\n",
            "Mizoram                        24.0\n",
            "Nagaland                       25.0\n",
            "Odisha                         26.0\n",
            "Puducherry                     27.0\n",
            "Punjab                         28.0\n",
            "Rajasthan                      29.0\n",
            "Tamil Nadu                     31.0\n",
            "Telengana                      32.0\n",
            "Tripura                        33.0\n",
            "Uttar Pradesh                  34.0\n",
            "Uttarakhand                    35.0\n",
            "West Bengal                    36.0\n",
            "Name: state_id, dtype: float64\n",
            "States with NA state_id: Series([], Name: State/UnionTerritory, dtype: int64)\n"
          ],
          "name": "stdout"
        }
      ]
    },
    {
      "cell_type": "code",
      "metadata": {
        "id": "6g1P146UvOdh",
        "colab_type": "code",
        "colab": {}
      },
      "source": [
        "india_covid19_data['state_id']=india_covid19_data['state_id'].apply(int)"
      ],
      "execution_count": 0,
      "outputs": []
    },
    {
      "cell_type": "code",
      "metadata": {
        "id": "_UVFWjYQVusc",
        "colab_type": "code",
        "outputId": "ce8e8afb-8e04-4553-c08a-e9a18178754d",
        "colab": {
          "base_uri": "https://localhost:8080/",
          "height": 1000
        }
      },
      "source": [
        "gb=india_covid19_data.groupby(['State/UnionTerritory','Date']).sum()\n",
        "state_index=gb.index.levels[0]\n",
        "covid19_data_for_map=pd.DataFrame(columns=gb.reset_index(level='State/UnionTerritory').columns)\n",
        "for state in state_index:\n",
        "  last_date=gb.loc[state].index[-1]\n",
        "  df=gb.loc[state,last_date,:]\n",
        "  covid19_data_for_map=pd.concat([covid19_data_for_map,df.reset_index()],ignore_index=True)\n",
        "covid19_data_for_map"
      ],
      "execution_count": 131,
      "outputs": [
        {
          "output_type": "execute_result",
          "data": {
            "text/html": [
              "<div>\n",
              "<style scoped>\n",
              "    .dataframe tbody tr th:only-of-type {\n",
              "        vertical-align: middle;\n",
              "    }\n",
              "\n",
              "    .dataframe tbody tr th {\n",
              "        vertical-align: top;\n",
              "    }\n",
              "\n",
              "    .dataframe thead th {\n",
              "        text-align: right;\n",
              "    }\n",
              "</style>\n",
              "<table border=\"1\" class=\"dataframe\">\n",
              "  <thead>\n",
              "    <tr style=\"text-align: right;\">\n",
              "      <th></th>\n",
              "      <th>State/UnionTerritory</th>\n",
              "      <th>Sno</th>\n",
              "      <th>Cured</th>\n",
              "      <th>Deaths</th>\n",
              "      <th>Confirmed</th>\n",
              "      <th>state_id</th>\n",
              "      <th>Date</th>\n",
              "    </tr>\n",
              "  </thead>\n",
              "  <tbody>\n",
              "    <tr>\n",
              "      <th>0</th>\n",
              "      <td>Andaman and Nicobar Islands</td>\n",
              "      <td>928</td>\n",
              "      <td>10</td>\n",
              "      <td>0</td>\n",
              "      <td>11</td>\n",
              "      <td>1</td>\n",
              "      <td>2020-04-14</td>\n",
              "    </tr>\n",
              "    <tr>\n",
              "      <th>1</th>\n",
              "      <td>Andhra Pradesh</td>\n",
              "      <td>927</td>\n",
              "      <td>14</td>\n",
              "      <td>9</td>\n",
              "      <td>473</td>\n",
              "      <td>2</td>\n",
              "      <td>2020-04-14</td>\n",
              "    </tr>\n",
              "    <tr>\n",
              "      <th>2</th>\n",
              "      <td>Arunachal Pradesh</td>\n",
              "      <td>929</td>\n",
              "      <td>0</td>\n",
              "      <td>0</td>\n",
              "      <td>1</td>\n",
              "      <td>3</td>\n",
              "      <td>2020-04-14</td>\n",
              "    </tr>\n",
              "    <tr>\n",
              "      <th>3</th>\n",
              "      <td>Assam</td>\n",
              "      <td>930</td>\n",
              "      <td>0</td>\n",
              "      <td>1</td>\n",
              "      <td>31</td>\n",
              "      <td>4</td>\n",
              "      <td>2020-04-14</td>\n",
              "    </tr>\n",
              "    <tr>\n",
              "      <th>4</th>\n",
              "      <td>Bihar</td>\n",
              "      <td>931</td>\n",
              "      <td>26</td>\n",
              "      <td>1</td>\n",
              "      <td>66</td>\n",
              "      <td>5</td>\n",
              "      <td>2020-04-14</td>\n",
              "    </tr>\n",
              "    <tr>\n",
              "      <th>5</th>\n",
              "      <td>Chandigarh</td>\n",
              "      <td>932</td>\n",
              "      <td>7</td>\n",
              "      <td>0</td>\n",
              "      <td>21</td>\n",
              "      <td>6</td>\n",
              "      <td>2020-04-14</td>\n",
              "    </tr>\n",
              "    <tr>\n",
              "      <th>6</th>\n",
              "      <td>Chhattisgarh</td>\n",
              "      <td>933</td>\n",
              "      <td>10</td>\n",
              "      <td>0</td>\n",
              "      <td>31</td>\n",
              "      <td>7</td>\n",
              "      <td>2020-04-14</td>\n",
              "    </tr>\n",
              "    <tr>\n",
              "      <th>7</th>\n",
              "      <td>Delhi</td>\n",
              "      <td>934</td>\n",
              "      <td>30</td>\n",
              "      <td>28</td>\n",
              "      <td>1510</td>\n",
              "      <td>10</td>\n",
              "      <td>2020-04-14</td>\n",
              "    </tr>\n",
              "    <tr>\n",
              "      <th>8</th>\n",
              "      <td>Goa</td>\n",
              "      <td>935</td>\n",
              "      <td>5</td>\n",
              "      <td>0</td>\n",
              "      <td>7</td>\n",
              "      <td>11</td>\n",
              "      <td>2020-04-14</td>\n",
              "    </tr>\n",
              "    <tr>\n",
              "      <th>9</th>\n",
              "      <td>Gujarat</td>\n",
              "      <td>936</td>\n",
              "      <td>55</td>\n",
              "      <td>26</td>\n",
              "      <td>617</td>\n",
              "      <td>12</td>\n",
              "      <td>2020-04-14</td>\n",
              "    </tr>\n",
              "    <tr>\n",
              "      <th>10</th>\n",
              "      <td>Haryana</td>\n",
              "      <td>937</td>\n",
              "      <td>34</td>\n",
              "      <td>3</td>\n",
              "      <td>199</td>\n",
              "      <td>13</td>\n",
              "      <td>2020-04-14</td>\n",
              "    </tr>\n",
              "    <tr>\n",
              "      <th>11</th>\n",
              "      <td>Himachal Pradesh</td>\n",
              "      <td>938</td>\n",
              "      <td>13</td>\n",
              "      <td>1</td>\n",
              "      <td>32</td>\n",
              "      <td>14</td>\n",
              "      <td>2020-04-14</td>\n",
              "    </tr>\n",
              "    <tr>\n",
              "      <th>12</th>\n",
              "      <td>Jammu and Kashmir</td>\n",
              "      <td>939</td>\n",
              "      <td>16</td>\n",
              "      <td>4</td>\n",
              "      <td>270</td>\n",
              "      <td>15</td>\n",
              "      <td>2020-04-14</td>\n",
              "    </tr>\n",
              "    <tr>\n",
              "      <th>13</th>\n",
              "      <td>Jharkhand</td>\n",
              "      <td>940</td>\n",
              "      <td>0</td>\n",
              "      <td>2</td>\n",
              "      <td>24</td>\n",
              "      <td>16</td>\n",
              "      <td>2020-04-14</td>\n",
              "    </tr>\n",
              "    <tr>\n",
              "      <th>14</th>\n",
              "      <td>Karnataka</td>\n",
              "      <td>941</td>\n",
              "      <td>65</td>\n",
              "      <td>9</td>\n",
              "      <td>258</td>\n",
              "      <td>17</td>\n",
              "      <td>2020-04-14</td>\n",
              "    </tr>\n",
              "    <tr>\n",
              "      <th>15</th>\n",
              "      <td>Kerala</td>\n",
              "      <td>942</td>\n",
              "      <td>198</td>\n",
              "      <td>3</td>\n",
              "      <td>379</td>\n",
              "      <td>18</td>\n",
              "      <td>2020-04-14</td>\n",
              "    </tr>\n",
              "    <tr>\n",
              "      <th>16</th>\n",
              "      <td>Ladakh</td>\n",
              "      <td>943</td>\n",
              "      <td>10</td>\n",
              "      <td>0</td>\n",
              "      <td>15</td>\n",
              "      <td>15</td>\n",
              "      <td>2020-04-14</td>\n",
              "    </tr>\n",
              "    <tr>\n",
              "      <th>17</th>\n",
              "      <td>Madhya Pradesh</td>\n",
              "      <td>944</td>\n",
              "      <td>51</td>\n",
              "      <td>50</td>\n",
              "      <td>730</td>\n",
              "      <td>20</td>\n",
              "      <td>2020-04-14</td>\n",
              "    </tr>\n",
              "    <tr>\n",
              "      <th>18</th>\n",
              "      <td>Maharashtra</td>\n",
              "      <td>945</td>\n",
              "      <td>229</td>\n",
              "      <td>160</td>\n",
              "      <td>2337</td>\n",
              "      <td>21</td>\n",
              "      <td>2020-04-14</td>\n",
              "    </tr>\n",
              "    <tr>\n",
              "      <th>19</th>\n",
              "      <td>Manipur</td>\n",
              "      <td>946</td>\n",
              "      <td>1</td>\n",
              "      <td>0</td>\n",
              "      <td>2</td>\n",
              "      <td>22</td>\n",
              "      <td>2020-04-14</td>\n",
              "    </tr>\n",
              "    <tr>\n",
              "      <th>20</th>\n",
              "      <td>Meghalaya</td>\n",
              "      <td>947</td>\n",
              "      <td>0</td>\n",
              "      <td>0</td>\n",
              "      <td>1</td>\n",
              "      <td>23</td>\n",
              "      <td>2020-04-14</td>\n",
              "    </tr>\n",
              "    <tr>\n",
              "      <th>21</th>\n",
              "      <td>Mizoram</td>\n",
              "      <td>948</td>\n",
              "      <td>0</td>\n",
              "      <td>0</td>\n",
              "      <td>1</td>\n",
              "      <td>24</td>\n",
              "      <td>2020-04-14</td>\n",
              "    </tr>\n",
              "    <tr>\n",
              "      <th>22</th>\n",
              "      <td>Nagaland</td>\n",
              "      <td>949</td>\n",
              "      <td>0</td>\n",
              "      <td>0</td>\n",
              "      <td>1</td>\n",
              "      <td>25</td>\n",
              "      <td>2020-04-14</td>\n",
              "    </tr>\n",
              "    <tr>\n",
              "      <th>23</th>\n",
              "      <td>Odisha</td>\n",
              "      <td>950</td>\n",
              "      <td>18</td>\n",
              "      <td>1</td>\n",
              "      <td>55</td>\n",
              "      <td>26</td>\n",
              "      <td>2020-04-14</td>\n",
              "    </tr>\n",
              "    <tr>\n",
              "      <th>24</th>\n",
              "      <td>Puducherry</td>\n",
              "      <td>951</td>\n",
              "      <td>1</td>\n",
              "      <td>0</td>\n",
              "      <td>7</td>\n",
              "      <td>27</td>\n",
              "      <td>2020-04-14</td>\n",
              "    </tr>\n",
              "    <tr>\n",
              "      <th>25</th>\n",
              "      <td>Punjab</td>\n",
              "      <td>952</td>\n",
              "      <td>14</td>\n",
              "      <td>12</td>\n",
              "      <td>176</td>\n",
              "      <td>28</td>\n",
              "      <td>2020-04-14</td>\n",
              "    </tr>\n",
              "    <tr>\n",
              "      <th>26</th>\n",
              "      <td>Rajasthan</td>\n",
              "      <td>953</td>\n",
              "      <td>133</td>\n",
              "      <td>3</td>\n",
              "      <td>879</td>\n",
              "      <td>29</td>\n",
              "      <td>2020-04-14</td>\n",
              "    </tr>\n",
              "    <tr>\n",
              "      <th>27</th>\n",
              "      <td>Tamil Nadu</td>\n",
              "      <td>954</td>\n",
              "      <td>58</td>\n",
              "      <td>11</td>\n",
              "      <td>1173</td>\n",
              "      <td>31</td>\n",
              "      <td>2020-04-14</td>\n",
              "    </tr>\n",
              "    <tr>\n",
              "      <th>28</th>\n",
              "      <td>Telengana</td>\n",
              "      <td>955</td>\n",
              "      <td>100</td>\n",
              "      <td>17</td>\n",
              "      <td>624</td>\n",
              "      <td>32</td>\n",
              "      <td>2020-04-14</td>\n",
              "    </tr>\n",
              "    <tr>\n",
              "      <th>29</th>\n",
              "      <td>Tripura</td>\n",
              "      <td>956</td>\n",
              "      <td>0</td>\n",
              "      <td>0</td>\n",
              "      <td>2</td>\n",
              "      <td>33</td>\n",
              "      <td>2020-04-14</td>\n",
              "    </tr>\n",
              "    <tr>\n",
              "      <th>30</th>\n",
              "      <td>Uttar Pradesh</td>\n",
              "      <td>958</td>\n",
              "      <td>49</td>\n",
              "      <td>5</td>\n",
              "      <td>657</td>\n",
              "      <td>34</td>\n",
              "      <td>2020-04-14</td>\n",
              "    </tr>\n",
              "    <tr>\n",
              "      <th>31</th>\n",
              "      <td>Uttarakhand</td>\n",
              "      <td>957</td>\n",
              "      <td>7</td>\n",
              "      <td>0</td>\n",
              "      <td>35</td>\n",
              "      <td>35</td>\n",
              "      <td>2020-04-14</td>\n",
              "    </tr>\n",
              "    <tr>\n",
              "      <th>32</th>\n",
              "      <td>West Bengal</td>\n",
              "      <td>959</td>\n",
              "      <td>36</td>\n",
              "      <td>7</td>\n",
              "      <td>190</td>\n",
              "      <td>36</td>\n",
              "      <td>2020-04-14</td>\n",
              "    </tr>\n",
              "  </tbody>\n",
              "</table>\n",
              "</div>"
            ],
            "text/plain": [
              "           State/UnionTerritory  Sno Cured Deaths Confirmed state_id       Date\n",
              "0   Andaman and Nicobar Islands  928    10      0        11        1 2020-04-14\n",
              "1                Andhra Pradesh  927    14      9       473        2 2020-04-14\n",
              "2             Arunachal Pradesh  929     0      0         1        3 2020-04-14\n",
              "3                         Assam  930     0      1        31        4 2020-04-14\n",
              "4                         Bihar  931    26      1        66        5 2020-04-14\n",
              "5                    Chandigarh  932     7      0        21        6 2020-04-14\n",
              "6                  Chhattisgarh  933    10      0        31        7 2020-04-14\n",
              "7                         Delhi  934    30     28      1510       10 2020-04-14\n",
              "8                           Goa  935     5      0         7       11 2020-04-14\n",
              "9                       Gujarat  936    55     26       617       12 2020-04-14\n",
              "10                      Haryana  937    34      3       199       13 2020-04-14\n",
              "11             Himachal Pradesh  938    13      1        32       14 2020-04-14\n",
              "12            Jammu and Kashmir  939    16      4       270       15 2020-04-14\n",
              "13                    Jharkhand  940     0      2        24       16 2020-04-14\n",
              "14                    Karnataka  941    65      9       258       17 2020-04-14\n",
              "15                       Kerala  942   198      3       379       18 2020-04-14\n",
              "16                       Ladakh  943    10      0        15       15 2020-04-14\n",
              "17               Madhya Pradesh  944    51     50       730       20 2020-04-14\n",
              "18                  Maharashtra  945   229    160      2337       21 2020-04-14\n",
              "19                      Manipur  946     1      0         2       22 2020-04-14\n",
              "20                    Meghalaya  947     0      0         1       23 2020-04-14\n",
              "21                      Mizoram  948     0      0         1       24 2020-04-14\n",
              "22                     Nagaland  949     0      0         1       25 2020-04-14\n",
              "23                       Odisha  950    18      1        55       26 2020-04-14\n",
              "24                   Puducherry  951     1      0         7       27 2020-04-14\n",
              "25                       Punjab  952    14     12       176       28 2020-04-14\n",
              "26                    Rajasthan  953   133      3       879       29 2020-04-14\n",
              "27                   Tamil Nadu  954    58     11      1173       31 2020-04-14\n",
              "28                    Telengana  955   100     17       624       32 2020-04-14\n",
              "29                      Tripura  956     0      0         2       33 2020-04-14\n",
              "30                Uttar Pradesh  958    49      5       657       34 2020-04-14\n",
              "31                  Uttarakhand  957     7      0        35       35 2020-04-14\n",
              "32                  West Bengal  959    36      7       190       36 2020-04-14"
            ]
          },
          "metadata": {
            "tags": []
          },
          "execution_count": 131
        }
      ]
    },
    {
      "cell_type": "code",
      "metadata": {
        "id": "aERcPxpJqpQ0",
        "colab_type": "code",
        "colab": {
          "base_uri": "https://localhost:8080/",
          "height": 201
        },
        "outputId": "d90c2fde-8f18-4948-e1b3-cd56757321d2"
      },
      "source": [
        "india_covid19_data.groupby(['Date','State/UnionTerritory']).sum().loc['2020-04-14'].reset_index().head()"
      ],
      "execution_count": 133,
      "outputs": [
        {
          "output_type": "execute_result",
          "data": {
            "text/html": [
              "<div>\n",
              "<style scoped>\n",
              "    .dataframe tbody tr th:only-of-type {\n",
              "        vertical-align: middle;\n",
              "    }\n",
              "\n",
              "    .dataframe tbody tr th {\n",
              "        vertical-align: top;\n",
              "    }\n",
              "\n",
              "    .dataframe thead th {\n",
              "        text-align: right;\n",
              "    }\n",
              "</style>\n",
              "<table border=\"1\" class=\"dataframe\">\n",
              "  <thead>\n",
              "    <tr style=\"text-align: right;\">\n",
              "      <th></th>\n",
              "      <th>Date</th>\n",
              "      <th>State/UnionTerritory</th>\n",
              "      <th>Sno</th>\n",
              "      <th>Cured</th>\n",
              "      <th>Deaths</th>\n",
              "      <th>Confirmed</th>\n",
              "      <th>state_id</th>\n",
              "    </tr>\n",
              "  </thead>\n",
              "  <tbody>\n",
              "    <tr>\n",
              "      <th>0</th>\n",
              "      <td>2020-04-14</td>\n",
              "      <td>Andaman and Nicobar Islands</td>\n",
              "      <td>928</td>\n",
              "      <td>10</td>\n",
              "      <td>0</td>\n",
              "      <td>11</td>\n",
              "      <td>1</td>\n",
              "    </tr>\n",
              "    <tr>\n",
              "      <th>1</th>\n",
              "      <td>2020-04-14</td>\n",
              "      <td>Andhra Pradesh</td>\n",
              "      <td>927</td>\n",
              "      <td>14</td>\n",
              "      <td>9</td>\n",
              "      <td>473</td>\n",
              "      <td>2</td>\n",
              "    </tr>\n",
              "    <tr>\n",
              "      <th>2</th>\n",
              "      <td>2020-04-14</td>\n",
              "      <td>Arunachal Pradesh</td>\n",
              "      <td>929</td>\n",
              "      <td>0</td>\n",
              "      <td>0</td>\n",
              "      <td>1</td>\n",
              "      <td>3</td>\n",
              "    </tr>\n",
              "    <tr>\n",
              "      <th>3</th>\n",
              "      <td>2020-04-14</td>\n",
              "      <td>Assam</td>\n",
              "      <td>930</td>\n",
              "      <td>0</td>\n",
              "      <td>1</td>\n",
              "      <td>31</td>\n",
              "      <td>4</td>\n",
              "    </tr>\n",
              "    <tr>\n",
              "      <th>4</th>\n",
              "      <td>2020-04-14</td>\n",
              "      <td>Bihar</td>\n",
              "      <td>931</td>\n",
              "      <td>26</td>\n",
              "      <td>1</td>\n",
              "      <td>66</td>\n",
              "      <td>5</td>\n",
              "    </tr>\n",
              "  </tbody>\n",
              "</table>\n",
              "</div>"
            ],
            "text/plain": [
              "        Date         State/UnionTerritory  Sno  ...  Deaths  Confirmed  state_id\n",
              "0 2020-04-14  Andaman and Nicobar Islands  928  ...       0         11         1\n",
              "1 2020-04-14               Andhra Pradesh  927  ...       9        473         2\n",
              "2 2020-04-14            Arunachal Pradesh  929  ...       0          1         3\n",
              "3 2020-04-14                        Assam  930  ...       1         31         4\n",
              "4 2020-04-14                        Bihar  931  ...       1         66         5\n",
              "\n",
              "[5 rows x 7 columns]"
            ]
          },
          "metadata": {
            "tags": []
          },
          "execution_count": 133
        }
      ]
    },
    {
      "cell_type": "code",
      "metadata": {
        "id": "YXqqBl8gwkYi",
        "colab_type": "code",
        "colab": {
          "base_uri": "https://localhost:8080/",
          "height": 1000
        },
        "outputId": "37eb2245-6de4-451f-c793-8bb36a7749bc"
      },
      "source": [
        "merged_map_data=pd.merge(india_map_data,covid19_data_for_map,how='left',left_on='ID_1',right_on='state_id')\n",
        "merged_map_data"
      ],
      "execution_count": 141,
      "outputs": [
        {
          "output_type": "execute_result",
          "data": {
            "text/html": [
              "<div>\n",
              "<style scoped>\n",
              "    .dataframe tbody tr th:only-of-type {\n",
              "        vertical-align: middle;\n",
              "    }\n",
              "\n",
              "    .dataframe tbody tr th {\n",
              "        vertical-align: top;\n",
              "    }\n",
              "\n",
              "    .dataframe thead th {\n",
              "        text-align: right;\n",
              "    }\n",
              "</style>\n",
              "<table border=\"1\" class=\"dataframe\">\n",
              "  <thead>\n",
              "    <tr style=\"text-align: right;\">\n",
              "      <th></th>\n",
              "      <th>ID_0</th>\n",
              "      <th>ISO</th>\n",
              "      <th>NAME_0</th>\n",
              "      <th>ID_1</th>\n",
              "      <th>NAME_1</th>\n",
              "      <th>TYPE_1</th>\n",
              "      <th>ENGTYPE_1</th>\n",
              "      <th>NL_NAME_1</th>\n",
              "      <th>VARNAME_1</th>\n",
              "      <th>geometry</th>\n",
              "      <th>State/UnionTerritory</th>\n",
              "      <th>Sno</th>\n",
              "      <th>Cured</th>\n",
              "      <th>Deaths</th>\n",
              "      <th>Confirmed</th>\n",
              "      <th>state_id</th>\n",
              "      <th>Date</th>\n",
              "    </tr>\n",
              "  </thead>\n",
              "  <tbody>\n",
              "    <tr>\n",
              "      <th>0</th>\n",
              "      <td>105</td>\n",
              "      <td>IND</td>\n",
              "      <td>India</td>\n",
              "      <td>1</td>\n",
              "      <td>Andaman and Nicobar</td>\n",
              "      <td>Union Territor</td>\n",
              "      <td>Union Territory</td>\n",
              "      <td>None</td>\n",
              "      <td>Andaman &amp; Nicobar Islands|Andaman et Nicobar|I...</td>\n",
              "      <td>MULTIPOLYGON (((93.78773 6.85264, 93.78849 6.8...</td>\n",
              "      <td>Andaman and Nicobar Islands</td>\n",
              "      <td>928</td>\n",
              "      <td>10</td>\n",
              "      <td>0</td>\n",
              "      <td>11</td>\n",
              "      <td>1</td>\n",
              "      <td>2020-04-14</td>\n",
              "    </tr>\n",
              "    <tr>\n",
              "      <th>1</th>\n",
              "      <td>105</td>\n",
              "      <td>IND</td>\n",
              "      <td>India</td>\n",
              "      <td>2</td>\n",
              "      <td>Andhra Pradesh</td>\n",
              "      <td>State</td>\n",
              "      <td>State</td>\n",
              "      <td>None</td>\n",
              "      <td>None</td>\n",
              "      <td>MULTIPOLYGON (((80.27458 13.45958, 80.27458 13...</td>\n",
              "      <td>Andhra Pradesh</td>\n",
              "      <td>927</td>\n",
              "      <td>14</td>\n",
              "      <td>9</td>\n",
              "      <td>473</td>\n",
              "      <td>2</td>\n",
              "      <td>2020-04-14</td>\n",
              "    </tr>\n",
              "    <tr>\n",
              "      <th>2</th>\n",
              "      <td>105</td>\n",
              "      <td>IND</td>\n",
              "      <td>India</td>\n",
              "      <td>3</td>\n",
              "      <td>Arunachal Pradesh</td>\n",
              "      <td>State</td>\n",
              "      <td>State</td>\n",
              "      <td>None</td>\n",
              "      <td>Agence de la Frontière du Nord-Est(French-obso...</td>\n",
              "      <td>POLYGON ((96.15778 29.38310, 96.16380 29.37668...</td>\n",
              "      <td>Arunachal Pradesh</td>\n",
              "      <td>929</td>\n",
              "      <td>0</td>\n",
              "      <td>0</td>\n",
              "      <td>1</td>\n",
              "      <td>3</td>\n",
              "      <td>2020-04-14</td>\n",
              "    </tr>\n",
              "    <tr>\n",
              "      <th>3</th>\n",
              "      <td>105</td>\n",
              "      <td>IND</td>\n",
              "      <td>India</td>\n",
              "      <td>4</td>\n",
              "      <td>Assam</td>\n",
              "      <td>State</td>\n",
              "      <td>State</td>\n",
              "      <td>None</td>\n",
              "      <td>None</td>\n",
              "      <td>MULTIPOLYGON (((89.87145 25.53730, 89.87118 25...</td>\n",
              "      <td>Assam</td>\n",
              "      <td>930</td>\n",
              "      <td>0</td>\n",
              "      <td>1</td>\n",
              "      <td>31</td>\n",
              "      <td>4</td>\n",
              "      <td>2020-04-14</td>\n",
              "    </tr>\n",
              "    <tr>\n",
              "      <th>4</th>\n",
              "      <td>105</td>\n",
              "      <td>IND</td>\n",
              "      <td>India</td>\n",
              "      <td>5</td>\n",
              "      <td>Bihar</td>\n",
              "      <td>State</td>\n",
              "      <td>State</td>\n",
              "      <td>None</td>\n",
              "      <td>None</td>\n",
              "      <td>MULTIPOLYGON (((88.10548 26.53904, 88.10505 26...</td>\n",
              "      <td>Bihar</td>\n",
              "      <td>931</td>\n",
              "      <td>26</td>\n",
              "      <td>1</td>\n",
              "      <td>66</td>\n",
              "      <td>5</td>\n",
              "      <td>2020-04-14</td>\n",
              "    </tr>\n",
              "    <tr>\n",
              "      <th>5</th>\n",
              "      <td>105</td>\n",
              "      <td>IND</td>\n",
              "      <td>India</td>\n",
              "      <td>6</td>\n",
              "      <td>Chandigarh</td>\n",
              "      <td>Union Territor</td>\n",
              "      <td>Union Territory</td>\n",
              "      <td>None</td>\n",
              "      <td>None</td>\n",
              "      <td>POLYGON ((76.80293 30.67548, 76.79437 30.66932...</td>\n",
              "      <td>Chandigarh</td>\n",
              "      <td>932</td>\n",
              "      <td>7</td>\n",
              "      <td>0</td>\n",
              "      <td>21</td>\n",
              "      <td>6</td>\n",
              "      <td>2020-04-14</td>\n",
              "    </tr>\n",
              "    <tr>\n",
              "      <th>6</th>\n",
              "      <td>105</td>\n",
              "      <td>IND</td>\n",
              "      <td>India</td>\n",
              "      <td>7</td>\n",
              "      <td>Chhattisgarh</td>\n",
              "      <td>State</td>\n",
              "      <td>State</td>\n",
              "      <td>None</td>\n",
              "      <td>None</td>\n",
              "      <td>POLYGON ((83.32760 24.09965, 83.34575 24.09707...</td>\n",
              "      <td>Chhattisgarh</td>\n",
              "      <td>933</td>\n",
              "      <td>10</td>\n",
              "      <td>0</td>\n",
              "      <td>31</td>\n",
              "      <td>7</td>\n",
              "      <td>2020-04-14</td>\n",
              "    </tr>\n",
              "    <tr>\n",
              "      <th>7</th>\n",
              "      <td>105</td>\n",
              "      <td>IND</td>\n",
              "      <td>India</td>\n",
              "      <td>8</td>\n",
              "      <td>Dadra and Nagar Haveli</td>\n",
              "      <td>Union Territor</td>\n",
              "      <td>Union Territory</td>\n",
              "      <td>None</td>\n",
              "      <td>DAdra et Nagar Haveli|Dadra e Nagar Haveli</td>\n",
              "      <td>POLYGON ((73.02468 20.09630, 73.01955 20.10502...</td>\n",
              "      <td>NaN</td>\n",
              "      <td>NaN</td>\n",
              "      <td>NaN</td>\n",
              "      <td>NaN</td>\n",
              "      <td>NaN</td>\n",
              "      <td>NaN</td>\n",
              "      <td>NaT</td>\n",
              "    </tr>\n",
              "    <tr>\n",
              "      <th>8</th>\n",
              "      <td>105</td>\n",
              "      <td>IND</td>\n",
              "      <td>India</td>\n",
              "      <td>9</td>\n",
              "      <td>Daman and Diu</td>\n",
              "      <td>Union Territor</td>\n",
              "      <td>Union Territory</td>\n",
              "      <td>None</td>\n",
              "      <td>None</td>\n",
              "      <td>MULTIPOLYGON (((72.86014 20.47096, 72.86340 20...</td>\n",
              "      <td>NaN</td>\n",
              "      <td>NaN</td>\n",
              "      <td>NaN</td>\n",
              "      <td>NaN</td>\n",
              "      <td>NaN</td>\n",
              "      <td>NaN</td>\n",
              "      <td>NaT</td>\n",
              "    </tr>\n",
              "    <tr>\n",
              "      <th>9</th>\n",
              "      <td>105</td>\n",
              "      <td>IND</td>\n",
              "      <td>India</td>\n",
              "      <td>10</td>\n",
              "      <td>Delhi</td>\n",
              "      <td>Union Territor</td>\n",
              "      <td>Union Territory</td>\n",
              "      <td>None</td>\n",
              "      <td>None</td>\n",
              "      <td>POLYGON ((77.32713 28.68516, 77.32539 28.68250...</td>\n",
              "      <td>Delhi</td>\n",
              "      <td>934</td>\n",
              "      <td>30</td>\n",
              "      <td>28</td>\n",
              "      <td>1510</td>\n",
              "      <td>10</td>\n",
              "      <td>2020-04-14</td>\n",
              "    </tr>\n",
              "    <tr>\n",
              "      <th>10</th>\n",
              "      <td>105</td>\n",
              "      <td>IND</td>\n",
              "      <td>India</td>\n",
              "      <td>11</td>\n",
              "      <td>Goa</td>\n",
              "      <td>State</td>\n",
              "      <td>State</td>\n",
              "      <td>None</td>\n",
              "      <td>Gôa</td>\n",
              "      <td>MULTIPOLYGON (((73.78181 15.35569, 73.78181 15...</td>\n",
              "      <td>Goa</td>\n",
              "      <td>935</td>\n",
              "      <td>5</td>\n",
              "      <td>0</td>\n",
              "      <td>7</td>\n",
              "      <td>11</td>\n",
              "      <td>2020-04-14</td>\n",
              "    </tr>\n",
              "    <tr>\n",
              "      <th>11</th>\n",
              "      <td>105</td>\n",
              "      <td>IND</td>\n",
              "      <td>India</td>\n",
              "      <td>12</td>\n",
              "      <td>Gujarat</td>\n",
              "      <td>State</td>\n",
              "      <td>State</td>\n",
              "      <td>None</td>\n",
              "      <td>Goudjerate|Gujerat|Gujerate</td>\n",
              "      <td>MULTIPOLYGON (((70.86097 20.75292, 70.86097 20...</td>\n",
              "      <td>Gujarat</td>\n",
              "      <td>936</td>\n",
              "      <td>55</td>\n",
              "      <td>26</td>\n",
              "      <td>617</td>\n",
              "      <td>12</td>\n",
              "      <td>2020-04-14</td>\n",
              "    </tr>\n",
              "    <tr>\n",
              "      <th>12</th>\n",
              "      <td>105</td>\n",
              "      <td>IND</td>\n",
              "      <td>India</td>\n",
              "      <td>13</td>\n",
              "      <td>Haryana</td>\n",
              "      <td>State</td>\n",
              "      <td>State</td>\n",
              "      <td>None</td>\n",
              "      <td>None</td>\n",
              "      <td>POLYGON ((76.83715 30.87887, 76.85243 30.87069...</td>\n",
              "      <td>Haryana</td>\n",
              "      <td>937</td>\n",
              "      <td>34</td>\n",
              "      <td>3</td>\n",
              "      <td>199</td>\n",
              "      <td>13</td>\n",
              "      <td>2020-04-14</td>\n",
              "    </tr>\n",
              "    <tr>\n",
              "      <th>13</th>\n",
              "      <td>105</td>\n",
              "      <td>IND</td>\n",
              "      <td>India</td>\n",
              "      <td>14</td>\n",
              "      <td>Himachal Pradesh</td>\n",
              "      <td>Union Territor</td>\n",
              "      <td>Union Territory</td>\n",
              "      <td>None</td>\n",
              "      <td>None</td>\n",
              "      <td>POLYGON ((76.80276 33.23666, 76.80630 33.23623...</td>\n",
              "      <td>Himachal Pradesh</td>\n",
              "      <td>938</td>\n",
              "      <td>13</td>\n",
              "      <td>1</td>\n",
              "      <td>32</td>\n",
              "      <td>14</td>\n",
              "      <td>2020-04-14</td>\n",
              "    </tr>\n",
              "    <tr>\n",
              "      <th>14</th>\n",
              "      <td>105</td>\n",
              "      <td>IND</td>\n",
              "      <td>India</td>\n",
              "      <td>15</td>\n",
              "      <td>Jammu and Kashmir</td>\n",
              "      <td>State</td>\n",
              "      <td>State</td>\n",
              "      <td>None</td>\n",
              "      <td>None</td>\n",
              "      <td>POLYGON ((77.89957 35.42789, 77.90297 35.42759...</td>\n",
              "      <td>Jammu and Kashmir</td>\n",
              "      <td>939</td>\n",
              "      <td>16</td>\n",
              "      <td>4</td>\n",
              "      <td>270</td>\n",
              "      <td>15</td>\n",
              "      <td>2020-04-14</td>\n",
              "    </tr>\n",
              "    <tr>\n",
              "      <th>15</th>\n",
              "      <td>105</td>\n",
              "      <td>IND</td>\n",
              "      <td>India</td>\n",
              "      <td>15</td>\n",
              "      <td>Jammu and Kashmir</td>\n",
              "      <td>State</td>\n",
              "      <td>State</td>\n",
              "      <td>None</td>\n",
              "      <td>None</td>\n",
              "      <td>POLYGON ((77.89957 35.42789, 77.90297 35.42759...</td>\n",
              "      <td>Ladakh</td>\n",
              "      <td>943</td>\n",
              "      <td>10</td>\n",
              "      <td>0</td>\n",
              "      <td>15</td>\n",
              "      <td>15</td>\n",
              "      <td>2020-04-14</td>\n",
              "    </tr>\n",
              "    <tr>\n",
              "      <th>16</th>\n",
              "      <td>105</td>\n",
              "      <td>IND</td>\n",
              "      <td>India</td>\n",
              "      <td>16</td>\n",
              "      <td>Jharkhand</td>\n",
              "      <td>State</td>\n",
              "      <td>State</td>\n",
              "      <td>None</td>\n",
              "      <td>Vananchal</td>\n",
              "      <td>POLYGON ((87.59989 25.31466, 87.60688 25.31138...</td>\n",
              "      <td>Jharkhand</td>\n",
              "      <td>940</td>\n",
              "      <td>0</td>\n",
              "      <td>2</td>\n",
              "      <td>24</td>\n",
              "      <td>16</td>\n",
              "      <td>2020-04-14</td>\n",
              "    </tr>\n",
              "    <tr>\n",
              "      <th>17</th>\n",
              "      <td>105</td>\n",
              "      <td>IND</td>\n",
              "      <td>India</td>\n",
              "      <td>17</td>\n",
              "      <td>Karnataka</td>\n",
              "      <td>State</td>\n",
              "      <td>State</td>\n",
              "      <td>None</td>\n",
              "      <td>Maisur|Mysore</td>\n",
              "      <td>MULTIPOLYGON (((74.67097 13.19986, 74.67097 13...</td>\n",
              "      <td>Karnataka</td>\n",
              "      <td>941</td>\n",
              "      <td>65</td>\n",
              "      <td>9</td>\n",
              "      <td>258</td>\n",
              "      <td>17</td>\n",
              "      <td>2020-04-14</td>\n",
              "    </tr>\n",
              "    <tr>\n",
              "      <th>18</th>\n",
              "      <td>105</td>\n",
              "      <td>IND</td>\n",
              "      <td>India</td>\n",
              "      <td>18</td>\n",
              "      <td>Kerala</td>\n",
              "      <td>State</td>\n",
              "      <td>State</td>\n",
              "      <td>None</td>\n",
              "      <td>None</td>\n",
              "      <td>MULTIPOLYGON (((76.46736 9.54097, 76.46736 9.5...</td>\n",
              "      <td>Kerala</td>\n",
              "      <td>942</td>\n",
              "      <td>198</td>\n",
              "      <td>3</td>\n",
              "      <td>379</td>\n",
              "      <td>18</td>\n",
              "      <td>2020-04-14</td>\n",
              "    </tr>\n",
              "    <tr>\n",
              "      <th>19</th>\n",
              "      <td>105</td>\n",
              "      <td>IND</td>\n",
              "      <td>India</td>\n",
              "      <td>19</td>\n",
              "      <td>Lakshadweep</td>\n",
              "      <td>Union Territor</td>\n",
              "      <td>Union Territory</td>\n",
              "      <td>None</td>\n",
              "      <td>Íles Laquedives|Laccadive|Minicoy and Amindivi...</td>\n",
              "      <td>MULTIPOLYGON (((73.01014 8.28042, 73.01014 8.2...</td>\n",
              "      <td>NaN</td>\n",
              "      <td>NaN</td>\n",
              "      <td>NaN</td>\n",
              "      <td>NaN</td>\n",
              "      <td>NaN</td>\n",
              "      <td>NaN</td>\n",
              "      <td>NaT</td>\n",
              "    </tr>\n",
              "    <tr>\n",
              "      <th>20</th>\n",
              "      <td>105</td>\n",
              "      <td>IND</td>\n",
              "      <td>India</td>\n",
              "      <td>20</td>\n",
              "      <td>Madhya Pradesh</td>\n",
              "      <td>State</td>\n",
              "      <td>State</td>\n",
              "      <td>None</td>\n",
              "      <td>None</td>\n",
              "      <td>POLYGON ((78.36465 26.86884, 78.36688 26.86259...</td>\n",
              "      <td>Madhya Pradesh</td>\n",
              "      <td>944</td>\n",
              "      <td>51</td>\n",
              "      <td>50</td>\n",
              "      <td>730</td>\n",
              "      <td>20</td>\n",
              "      <td>2020-04-14</td>\n",
              "    </tr>\n",
              "    <tr>\n",
              "      <th>21</th>\n",
              "      <td>105</td>\n",
              "      <td>IND</td>\n",
              "      <td>India</td>\n",
              "      <td>21</td>\n",
              "      <td>Maharashtra</td>\n",
              "      <td>State</td>\n",
              "      <td>State</td>\n",
              "      <td>None</td>\n",
              "      <td>None</td>\n",
              "      <td>MULTIPOLYGON (((73.45597 15.88986, 73.45597 15...</td>\n",
              "      <td>Maharashtra</td>\n",
              "      <td>945</td>\n",
              "      <td>229</td>\n",
              "      <td>160</td>\n",
              "      <td>2337</td>\n",
              "      <td>21</td>\n",
              "      <td>2020-04-14</td>\n",
              "    </tr>\n",
              "    <tr>\n",
              "      <th>22</th>\n",
              "      <td>105</td>\n",
              "      <td>IND</td>\n",
              "      <td>India</td>\n",
              "      <td>22</td>\n",
              "      <td>Manipur</td>\n",
              "      <td>State</td>\n",
              "      <td>State</td>\n",
              "      <td>None</td>\n",
              "      <td>None</td>\n",
              "      <td>POLYGON ((94.57723 25.64833, 94.57609 25.64470...</td>\n",
              "      <td>Manipur</td>\n",
              "      <td>946</td>\n",
              "      <td>1</td>\n",
              "      <td>0</td>\n",
              "      <td>2</td>\n",
              "      <td>22</td>\n",
              "      <td>2020-04-14</td>\n",
              "    </tr>\n",
              "    <tr>\n",
              "      <th>23</th>\n",
              "      <td>105</td>\n",
              "      <td>IND</td>\n",
              "      <td>India</td>\n",
              "      <td>23</td>\n",
              "      <td>Meghalaya</td>\n",
              "      <td>State</td>\n",
              "      <td>State</td>\n",
              "      <td>None</td>\n",
              "      <td>None</td>\n",
              "      <td>POLYGON ((91.85384 26.10479, 91.86470 26.10035...</td>\n",
              "      <td>Meghalaya</td>\n",
              "      <td>947</td>\n",
              "      <td>0</td>\n",
              "      <td>0</td>\n",
              "      <td>1</td>\n",
              "      <td>23</td>\n",
              "      <td>2020-04-14</td>\n",
              "    </tr>\n",
              "    <tr>\n",
              "      <th>24</th>\n",
              "      <td>105</td>\n",
              "      <td>IND</td>\n",
              "      <td>India</td>\n",
              "      <td>24</td>\n",
              "      <td>Mizoram</td>\n",
              "      <td>State</td>\n",
              "      <td>State</td>\n",
              "      <td>None</td>\n",
              "      <td>None</td>\n",
              "      <td>POLYGON ((92.80080 24.41905, 92.80370 24.41879...</td>\n",
              "      <td>Mizoram</td>\n",
              "      <td>948</td>\n",
              "      <td>0</td>\n",
              "      <td>0</td>\n",
              "      <td>1</td>\n",
              "      <td>24</td>\n",
              "      <td>2020-04-14</td>\n",
              "    </tr>\n",
              "    <tr>\n",
              "      <th>25</th>\n",
              "      <td>105</td>\n",
              "      <td>IND</td>\n",
              "      <td>India</td>\n",
              "      <td>25</td>\n",
              "      <td>Nagaland</td>\n",
              "      <td>State</td>\n",
              "      <td>State</td>\n",
              "      <td>None</td>\n",
              "      <td>None</td>\n",
              "      <td>POLYGON ((95.21445 26.93695, 95.21706 26.93420...</td>\n",
              "      <td>Nagaland</td>\n",
              "      <td>949</td>\n",
              "      <td>0</td>\n",
              "      <td>0</td>\n",
              "      <td>1</td>\n",
              "      <td>25</td>\n",
              "      <td>2020-04-14</td>\n",
              "    </tr>\n",
              "    <tr>\n",
              "      <th>26</th>\n",
              "      <td>105</td>\n",
              "      <td>IND</td>\n",
              "      <td>India</td>\n",
              "      <td>26</td>\n",
              "      <td>Orissa</td>\n",
              "      <td>State</td>\n",
              "      <td>State</td>\n",
              "      <td>None</td>\n",
              "      <td>None</td>\n",
              "      <td>MULTIPOLYGON (((84.76986 19.10597, 84.76986 19...</td>\n",
              "      <td>Odisha</td>\n",
              "      <td>950</td>\n",
              "      <td>18</td>\n",
              "      <td>1</td>\n",
              "      <td>55</td>\n",
              "      <td>26</td>\n",
              "      <td>2020-04-14</td>\n",
              "    </tr>\n",
              "    <tr>\n",
              "      <th>27</th>\n",
              "      <td>105</td>\n",
              "      <td>IND</td>\n",
              "      <td>India</td>\n",
              "      <td>27</td>\n",
              "      <td>Puducherry</td>\n",
              "      <td>Union Territor</td>\n",
              "      <td>Union Territory</td>\n",
              "      <td>None</td>\n",
              "      <td>Pondicherry|Puduchcheri|Pondichéry</td>\n",
              "      <td>MULTIPOLYGON (((79.84486 10.82653, 79.84486 10...</td>\n",
              "      <td>Puducherry</td>\n",
              "      <td>951</td>\n",
              "      <td>1</td>\n",
              "      <td>0</td>\n",
              "      <td>7</td>\n",
              "      <td>27</td>\n",
              "      <td>2020-04-14</td>\n",
              "    </tr>\n",
              "    <tr>\n",
              "      <th>28</th>\n",
              "      <td>105</td>\n",
              "      <td>IND</td>\n",
              "      <td>India</td>\n",
              "      <td>28</td>\n",
              "      <td>Punjab</td>\n",
              "      <td>State</td>\n",
              "      <td>State</td>\n",
              "      <td>None</td>\n",
              "      <td>None</td>\n",
              "      <td>POLYGON ((75.86877 32.48868, 75.88712 32.47203...</td>\n",
              "      <td>Punjab</td>\n",
              "      <td>952</td>\n",
              "      <td>14</td>\n",
              "      <td>12</td>\n",
              "      <td>176</td>\n",
              "      <td>28</td>\n",
              "      <td>2020-04-14</td>\n",
              "    </tr>\n",
              "    <tr>\n",
              "      <th>29</th>\n",
              "      <td>105</td>\n",
              "      <td>IND</td>\n",
              "      <td>India</td>\n",
              "      <td>29</td>\n",
              "      <td>Rajasthan</td>\n",
              "      <td>State</td>\n",
              "      <td>State</td>\n",
              "      <td>None</td>\n",
              "      <td>Greater Rajasthan|Rajputana</td>\n",
              "      <td>POLYGON ((73.88944 29.97761, 73.89118 29.97007...</td>\n",
              "      <td>Rajasthan</td>\n",
              "      <td>953</td>\n",
              "      <td>133</td>\n",
              "      <td>3</td>\n",
              "      <td>879</td>\n",
              "      <td>29</td>\n",
              "      <td>2020-04-14</td>\n",
              "    </tr>\n",
              "    <tr>\n",
              "      <th>30</th>\n",
              "      <td>105</td>\n",
              "      <td>IND</td>\n",
              "      <td>India</td>\n",
              "      <td>30</td>\n",
              "      <td>Sikkim</td>\n",
              "      <td>State</td>\n",
              "      <td>State</td>\n",
              "      <td>None</td>\n",
              "      <td>None</td>\n",
              "      <td>POLYGON ((88.64526 28.09912, 88.65411 28.08984...</td>\n",
              "      <td>NaN</td>\n",
              "      <td>NaN</td>\n",
              "      <td>NaN</td>\n",
              "      <td>NaN</td>\n",
              "      <td>NaN</td>\n",
              "      <td>NaN</td>\n",
              "      <td>NaT</td>\n",
              "    </tr>\n",
              "    <tr>\n",
              "      <th>31</th>\n",
              "      <td>105</td>\n",
              "      <td>IND</td>\n",
              "      <td>India</td>\n",
              "      <td>31</td>\n",
              "      <td>Tamil Nadu</td>\n",
              "      <td>State</td>\n",
              "      <td>State</td>\n",
              "      <td>None</td>\n",
              "      <td>Madras|Tamilnad</td>\n",
              "      <td>MULTIPOLYGON (((77.55596 8.07903, 77.55596 8.0...</td>\n",
              "      <td>Tamil Nadu</td>\n",
              "      <td>954</td>\n",
              "      <td>58</td>\n",
              "      <td>11</td>\n",
              "      <td>1173</td>\n",
              "      <td>31</td>\n",
              "      <td>2020-04-14</td>\n",
              "    </tr>\n",
              "    <tr>\n",
              "      <th>32</th>\n",
              "      <td>105</td>\n",
              "      <td>IND</td>\n",
              "      <td>India</td>\n",
              "      <td>32</td>\n",
              "      <td>Telangana</td>\n",
              "      <td>State</td>\n",
              "      <td>State</td>\n",
              "      <td>None</td>\n",
              "      <td>None</td>\n",
              "      <td>POLYGON ((78.33625 19.88319, 78.34669 19.88140...</td>\n",
              "      <td>Telengana</td>\n",
              "      <td>955</td>\n",
              "      <td>100</td>\n",
              "      <td>17</td>\n",
              "      <td>624</td>\n",
              "      <td>32</td>\n",
              "      <td>2020-04-14</td>\n",
              "    </tr>\n",
              "    <tr>\n",
              "      <th>33</th>\n",
              "      <td>105</td>\n",
              "      <td>IND</td>\n",
              "      <td>India</td>\n",
              "      <td>33</td>\n",
              "      <td>Tripura</td>\n",
              "      <td>State</td>\n",
              "      <td>State</td>\n",
              "      <td>None</td>\n",
              "      <td>None</td>\n",
              "      <td>POLYGON ((92.18520 24.52287, 92.18896 24.52019...</td>\n",
              "      <td>Tripura</td>\n",
              "      <td>956</td>\n",
              "      <td>0</td>\n",
              "      <td>0</td>\n",
              "      <td>2</td>\n",
              "      <td>33</td>\n",
              "      <td>2020-04-14</td>\n",
              "    </tr>\n",
              "    <tr>\n",
              "      <th>34</th>\n",
              "      <td>105</td>\n",
              "      <td>IND</td>\n",
              "      <td>India</td>\n",
              "      <td>34</td>\n",
              "      <td>Uttar Pradesh</td>\n",
              "      <td>State</td>\n",
              "      <td>State</td>\n",
              "      <td>None</td>\n",
              "      <td>United Provinces</td>\n",
              "      <td>POLYGON ((77.58468 30.40878, 77.58639 30.40801...</td>\n",
              "      <td>Uttar Pradesh</td>\n",
              "      <td>958</td>\n",
              "      <td>49</td>\n",
              "      <td>5</td>\n",
              "      <td>657</td>\n",
              "      <td>34</td>\n",
              "      <td>2020-04-14</td>\n",
              "    </tr>\n",
              "    <tr>\n",
              "      <th>35</th>\n",
              "      <td>105</td>\n",
              "      <td>IND</td>\n",
              "      <td>India</td>\n",
              "      <td>35</td>\n",
              "      <td>Uttaranchal</td>\n",
              "      <td>State</td>\n",
              "      <td>State</td>\n",
              "      <td>None</td>\n",
              "      <td>Uttarakhand</td>\n",
              "      <td>POLYGON ((79.19478 31.35362, 79.19817 31.35196...</td>\n",
              "      <td>Uttarakhand</td>\n",
              "      <td>957</td>\n",
              "      <td>7</td>\n",
              "      <td>0</td>\n",
              "      <td>35</td>\n",
              "      <td>35</td>\n",
              "      <td>2020-04-14</td>\n",
              "    </tr>\n",
              "    <tr>\n",
              "      <th>36</th>\n",
              "      <td>105</td>\n",
              "      <td>IND</td>\n",
              "      <td>India</td>\n",
              "      <td>36</td>\n",
              "      <td>West Bengal</td>\n",
              "      <td>State</td>\n",
              "      <td>State</td>\n",
              "      <td>None</td>\n",
              "      <td>Bangla|Bengala Occidentale|Bengala Ocidental|B...</td>\n",
              "      <td>MULTIPOLYGON (((88.01861 21.57278, 88.01889 21...</td>\n",
              "      <td>West Bengal</td>\n",
              "      <td>959</td>\n",
              "      <td>36</td>\n",
              "      <td>7</td>\n",
              "      <td>190</td>\n",
              "      <td>36</td>\n",
              "      <td>2020-04-14</td>\n",
              "    </tr>\n",
              "  </tbody>\n",
              "</table>\n",
              "</div>"
            ],
            "text/plain": [
              "    ID_0  ISO NAME_0 ID_1  ... Deaths Confirmed state_id       Date\n",
              "0    105  IND  India    1  ...      0        11        1 2020-04-14\n",
              "1    105  IND  India    2  ...      9       473        2 2020-04-14\n",
              "2    105  IND  India    3  ...      0         1        3 2020-04-14\n",
              "3    105  IND  India    4  ...      1        31        4 2020-04-14\n",
              "4    105  IND  India    5  ...      1        66        5 2020-04-14\n",
              "5    105  IND  India    6  ...      0        21        6 2020-04-14\n",
              "6    105  IND  India    7  ...      0        31        7 2020-04-14\n",
              "7    105  IND  India    8  ...    NaN       NaN      NaN        NaT\n",
              "8    105  IND  India    9  ...    NaN       NaN      NaN        NaT\n",
              "9    105  IND  India   10  ...     28      1510       10 2020-04-14\n",
              "10   105  IND  India   11  ...      0         7       11 2020-04-14\n",
              "11   105  IND  India   12  ...     26       617       12 2020-04-14\n",
              "12   105  IND  India   13  ...      3       199       13 2020-04-14\n",
              "13   105  IND  India   14  ...      1        32       14 2020-04-14\n",
              "14   105  IND  India   15  ...      4       270       15 2020-04-14\n",
              "15   105  IND  India   15  ...      0        15       15 2020-04-14\n",
              "16   105  IND  India   16  ...      2        24       16 2020-04-14\n",
              "17   105  IND  India   17  ...      9       258       17 2020-04-14\n",
              "18   105  IND  India   18  ...      3       379       18 2020-04-14\n",
              "19   105  IND  India   19  ...    NaN       NaN      NaN        NaT\n",
              "20   105  IND  India   20  ...     50       730       20 2020-04-14\n",
              "21   105  IND  India   21  ...    160      2337       21 2020-04-14\n",
              "22   105  IND  India   22  ...      0         2       22 2020-04-14\n",
              "23   105  IND  India   23  ...      0         1       23 2020-04-14\n",
              "24   105  IND  India   24  ...      0         1       24 2020-04-14\n",
              "25   105  IND  India   25  ...      0         1       25 2020-04-14\n",
              "26   105  IND  India   26  ...      1        55       26 2020-04-14\n",
              "27   105  IND  India   27  ...      0         7       27 2020-04-14\n",
              "28   105  IND  India   28  ...     12       176       28 2020-04-14\n",
              "29   105  IND  India   29  ...      3       879       29 2020-04-14\n",
              "30   105  IND  India   30  ...    NaN       NaN      NaN        NaT\n",
              "31   105  IND  India   31  ...     11      1173       31 2020-04-14\n",
              "32   105  IND  India   32  ...     17       624       32 2020-04-14\n",
              "33   105  IND  India   33  ...      0         2       33 2020-04-14\n",
              "34   105  IND  India   34  ...      5       657       34 2020-04-14\n",
              "35   105  IND  India   35  ...      0        35       35 2020-04-14\n",
              "36   105  IND  India   36  ...      7       190       36 2020-04-14\n",
              "\n",
              "[37 rows x 17 columns]"
            ]
          },
          "metadata": {
            "tags": []
          },
          "execution_count": 141
        }
      ]
    },
    {
      "cell_type": "code",
      "metadata": {
        "id": "zZXWGjzf0YQZ",
        "colab_type": "code",
        "colab": {
          "base_uri": "https://localhost:8080/",
          "height": 87
        },
        "outputId": "ae2f5f42-f0bb-477b-891d-bc4b32e61041"
      },
      "source": [
        "merged_map_data.columns"
      ],
      "execution_count": 142,
      "outputs": [
        {
          "output_type": "execute_result",
          "data": {
            "text/plain": [
              "Index(['ID_0', 'ISO', 'NAME_0', 'ID_1', 'NAME_1', 'TYPE_1', 'ENGTYPE_1',\n",
              "       'NL_NAME_1', 'VARNAME_1', 'geometry', 'State/UnionTerritory', 'Sno',\n",
              "       'Cured', 'Deaths', 'Confirmed', 'state_id', 'Date'],\n",
              "      dtype='object')"
            ]
          },
          "metadata": {
            "tags": []
          },
          "execution_count": 142
        }
      ]
    },
    {
      "cell_type": "code",
      "metadata": {
        "id": "9hVz2vOD3ldD",
        "colab_type": "code",
        "colab": {}
      },
      "source": [
        "merged_map_data=merged_map_data.astype({'Cured':np.float, 'Deaths':np.float, 'Confirmed':np.float})"
      ],
      "execution_count": 0,
      "outputs": []
    },
    {
      "cell_type": "code",
      "metadata": {
        "id": "J6UP4IcD0SaT",
        "colab_type": "code",
        "colab": {
          "base_uri": "https://localhost:8080/",
          "height": 600
        },
        "outputId": "2409190f-fc49-43c3-ee77-88161c129613"
      },
      "source": [
        "merged_map_data.plot(column='Confirmed',categorical=False,figsize=(12,10),cmap='YlOrRd',legend=True)"
      ],
      "execution_count": 164,
      "outputs": [
        {
          "output_type": "execute_result",
          "data": {
            "text/plain": [
              "<matplotlib.axes._subplots.AxesSubplot at 0x7fe847a50b00>"
            ]
          },
          "metadata": {
            "tags": []
          },
          "execution_count": 164
        },
        {
          "output_type": "display_data",
          "data": {
            "image/png": "[encoded data removed]",
            "text/plain": [
              "<Figure size 864x720 with 2 Axes>"
            ]
          },
          "metadata": {
            "tags": [],
            "needs_background": "light"
          }
        }
      ]
    },
    {
      "cell_type": "code",
      "metadata": {
        "id": "wFbrPhfA3usy",
        "colab_type": "code",
        "colab": {
          "base_uri": "https://localhost:8080/",
          "height": 600
        },
        "outputId": "23dc91f7-16bc-4b6c-f73d-1064e8efdad0"
      },
      "source": [
        "merged_map_data.plot(column='Cured',categorical=False,figsize=(12,10),cmap='YlGn',legend=True)"
      ],
      "execution_count": 166,
      "outputs": [
        {
          "output_type": "execute_result",
          "data": {
            "text/plain": [
              "<matplotlib.axes._subplots.AxesSubplot at 0x7fe8476d6940>"
            ]
          },
          "metadata": {
            "tags": []
          },
          "execution_count": 166
        },
        {
          "output_type": "display_data",
          "data": {
            "image/png": "[encoded data removed]",
            "text/plain": [
              "<Figure size 864x720 with 2 Axes>"
            ]
          },
          "metadata": {
            "tags": [],
            "needs_background": "light"
          }
        }
      ]
    },
    {
      "cell_type": "code",
      "metadata": {
        "id": "9K4Y4MuS7Gfn",
        "colab_type": "code",
        "colab": {
          "base_uri": "https://localhost:8080/",
          "height": 604
        },
        "outputId": "ce91773f-1c1f-45d7-dcde-b23f69c68fcc"
      },
      "source": [
        "merged_map_data.plot(column='Deaths',categorical=False,figsize=(12,10),cmap='YlOrRd',legend=True)"
      ],
      "execution_count": 168,
      "outputs": [
        {
          "output_type": "execute_result",
          "data": {
            "text/plain": [
              "<matplotlib.axes._subplots.AxesSubplot at 0x7fe847527160>"
            ]
          },
          "metadata": {
            "tags": []
          },
          "execution_count": 168
        },
        {
          "output_type": "display_data",
          "data": {
            "image/png": "[encoded data removed]",
            "text/plain": [
              "<Figure size 864x720 with 2 Axes>"
            ]
          },
          "metadata": {
            "tags": [],
            "needs_background": "light"
          }
        }
      ]
    },
    {
      "cell_type": "markdown",
      "metadata": {
        "id": "ZYHMrxu67gbn",
        "colab_type": "text"
      },
      "source": [
        "# PLOT-1a NUMBER OF CASES IN INDIA (DAILY AND CUMULATIVE)"
      ]
    },
    {
      "cell_type": "code",
      "metadata": {
        "id": "ePLPvxsN8DFr",
        "colab_type": "code",
        "colab": {
          "base_uri": "https://localhost:8080/",
          "height": 323
        },
        "outputId": "555acb6c-6227-4091-c118-79862820b157"
      },
      "source": [
        "print(india_covid19_data.shape)\n",
        "india_covid19_data.head()"
      ],
      "execution_count": 172,
      "outputs": [
        {
          "output_type": "stream",
          "text": [
            "(956, 10)\n"
          ],
          "name": "stdout"
        },
        {
          "output_type": "execute_result",
          "data": {
            "text/html": [
              "<div>\n",
              "<style scoped>\n",
              "    .dataframe tbody tr th:only-of-type {\n",
              "        vertical-align: middle;\n",
              "    }\n",
              "\n",
              "    .dataframe tbody tr th {\n",
              "        vertical-align: top;\n",
              "    }\n",
              "\n",
              "    .dataframe thead th {\n",
              "        text-align: right;\n",
              "    }\n",
              "</style>\n",
              "<table border=\"1\" class=\"dataframe\">\n",
              "  <thead>\n",
              "    <tr style=\"text-align: right;\">\n",
              "      <th></th>\n",
              "      <th>Sno</th>\n",
              "      <th>Date</th>\n",
              "      <th>Time</th>\n",
              "      <th>State/UnionTerritory</th>\n",
              "      <th>ConfirmedIndianNational</th>\n",
              "      <th>ConfirmedForeignNational</th>\n",
              "      <th>Cured</th>\n",
              "      <th>Deaths</th>\n",
              "      <th>Confirmed</th>\n",
              "      <th>state_id</th>\n",
              "    </tr>\n",
              "  </thead>\n",
              "  <tbody>\n",
              "    <tr>\n",
              "      <th>0</th>\n",
              "      <td>1</td>\n",
              "      <td>2020-01-30</td>\n",
              "      <td>6:00 PM</td>\n",
              "      <td>Kerala</td>\n",
              "      <td>1</td>\n",
              "      <td>0</td>\n",
              "      <td>0</td>\n",
              "      <td>0</td>\n",
              "      <td>1</td>\n",
              "      <td>18</td>\n",
              "    </tr>\n",
              "    <tr>\n",
              "      <th>1</th>\n",
              "      <td>2</td>\n",
              "      <td>2020-01-31</td>\n",
              "      <td>6:00 PM</td>\n",
              "      <td>Kerala</td>\n",
              "      <td>1</td>\n",
              "      <td>0</td>\n",
              "      <td>0</td>\n",
              "      <td>0</td>\n",
              "      <td>1</td>\n",
              "      <td>18</td>\n",
              "    </tr>\n",
              "    <tr>\n",
              "      <th>2</th>\n",
              "      <td>3</td>\n",
              "      <td>2020-02-01</td>\n",
              "      <td>6:00 PM</td>\n",
              "      <td>Kerala</td>\n",
              "      <td>2</td>\n",
              "      <td>0</td>\n",
              "      <td>0</td>\n",
              "      <td>0</td>\n",
              "      <td>2</td>\n",
              "      <td>18</td>\n",
              "    </tr>\n",
              "    <tr>\n",
              "      <th>3</th>\n",
              "      <td>4</td>\n",
              "      <td>2020-02-02</td>\n",
              "      <td>6:00 PM</td>\n",
              "      <td>Kerala</td>\n",
              "      <td>3</td>\n",
              "      <td>0</td>\n",
              "      <td>0</td>\n",
              "      <td>0</td>\n",
              "      <td>3</td>\n",
              "      <td>18</td>\n",
              "    </tr>\n",
              "    <tr>\n",
              "      <th>4</th>\n",
              "      <td>5</td>\n",
              "      <td>2020-02-03</td>\n",
              "      <td>6:00 PM</td>\n",
              "      <td>Kerala</td>\n",
              "      <td>3</td>\n",
              "      <td>0</td>\n",
              "      <td>0</td>\n",
              "      <td>0</td>\n",
              "      <td>3</td>\n",
              "      <td>18</td>\n",
              "    </tr>\n",
              "  </tbody>\n",
              "</table>\n",
              "</div>"
            ],
            "text/plain": [
              "   Sno       Date     Time  ... Deaths Confirmed state_id\n",
              "0    1 2020-01-30  6:00 PM  ...      0         1       18\n",
              "1    2 2020-01-31  6:00 PM  ...      0         1       18\n",
              "2    3 2020-02-01  6:00 PM  ...      0         2       18\n",
              "3    4 2020-02-02  6:00 PM  ...      0         3       18\n",
              "4    5 2020-02-03  6:00 PM  ...      0         3       18\n",
              "\n",
              "[5 rows x 10 columns]"
            ]
          },
          "metadata": {
            "tags": []
          },
          "execution_count": 172
        }
      ]
    },
    {
      "cell_type": "code",
      "metadata": {
        "id": "aUhN71J8AClJ",
        "colab_type": "code",
        "colab": {
          "base_uri": "https://localhost:8080/",
          "height": 445
        },
        "outputId": "45e98e65-a85d-4b7d-c6da-19983aea375b"
      },
      "source": [
        "gb=india_covid19_data.groupby('Date').sum()\n",
        "gb"
      ],
      "execution_count": 180,
      "outputs": [
        {
          "output_type": "execute_result",
          "data": {
            "text/html": [
              "<div>\n",
              "<style scoped>\n",
              "    .dataframe tbody tr th:only-of-type {\n",
              "        vertical-align: middle;\n",
              "    }\n",
              "\n",
              "    .dataframe tbody tr th {\n",
              "        vertical-align: top;\n",
              "    }\n",
              "\n",
              "    .dataframe thead th {\n",
              "        text-align: right;\n",
              "    }\n",
              "</style>\n",
              "<table border=\"1\" class=\"dataframe\">\n",
              "  <thead>\n",
              "    <tr style=\"text-align: right;\">\n",
              "      <th></th>\n",
              "      <th>Sno</th>\n",
              "      <th>Cured</th>\n",
              "      <th>Deaths</th>\n",
              "      <th>Confirmed</th>\n",
              "      <th>state_id</th>\n",
              "    </tr>\n",
              "    <tr>\n",
              "      <th>Date</th>\n",
              "      <th></th>\n",
              "      <th></th>\n",
              "      <th></th>\n",
              "      <th></th>\n",
              "      <th></th>\n",
              "    </tr>\n",
              "  </thead>\n",
              "  <tbody>\n",
              "    <tr>\n",
              "      <th>2020-01-30</th>\n",
              "      <td>1</td>\n",
              "      <td>0</td>\n",
              "      <td>0</td>\n",
              "      <td>1</td>\n",
              "      <td>18</td>\n",
              "    </tr>\n",
              "    <tr>\n",
              "      <th>2020-01-31</th>\n",
              "      <td>2</td>\n",
              "      <td>0</td>\n",
              "      <td>0</td>\n",
              "      <td>1</td>\n",
              "      <td>18</td>\n",
              "    </tr>\n",
              "    <tr>\n",
              "      <th>2020-02-01</th>\n",
              "      <td>3</td>\n",
              "      <td>0</td>\n",
              "      <td>0</td>\n",
              "      <td>2</td>\n",
              "      <td>18</td>\n",
              "    </tr>\n",
              "    <tr>\n",
              "      <th>2020-02-02</th>\n",
              "      <td>4</td>\n",
              "      <td>0</td>\n",
              "      <td>0</td>\n",
              "      <td>3</td>\n",
              "      <td>18</td>\n",
              "    </tr>\n",
              "    <tr>\n",
              "      <th>2020-02-03</th>\n",
              "      <td>5</td>\n",
              "      <td>0</td>\n",
              "      <td>0</td>\n",
              "      <td>3</td>\n",
              "      <td>18</td>\n",
              "    </tr>\n",
              "    <tr>\n",
              "      <th>...</th>\n",
              "      <td>...</td>\n",
              "      <td>...</td>\n",
              "      <td>...</td>\n",
              "      <td>...</td>\n",
              "      <td>...</td>\n",
              "    </tr>\n",
              "    <tr>\n",
              "      <th>2020-04-10</th>\n",
              "      <td>25327</td>\n",
              "      <td>516</td>\n",
              "      <td>206</td>\n",
              "      <td>6761</td>\n",
              "      <td>567</td>\n",
              "    </tr>\n",
              "    <tr>\n",
              "      <th>2020-04-11</th>\n",
              "      <td>26288</td>\n",
              "      <td>653</td>\n",
              "      <td>242</td>\n",
              "      <td>7529</td>\n",
              "      <td>567</td>\n",
              "    </tr>\n",
              "    <tr>\n",
              "      <th>2020-04-12</th>\n",
              "      <td>27249</td>\n",
              "      <td>765</td>\n",
              "      <td>273</td>\n",
              "      <td>8447</td>\n",
              "      <td>567</td>\n",
              "    </tr>\n",
              "    <tr>\n",
              "      <th>2020-04-13</th>\n",
              "      <td>29136</td>\n",
              "      <td>980</td>\n",
              "      <td>324</td>\n",
              "      <td>9352</td>\n",
              "      <td>592</td>\n",
              "    </tr>\n",
              "    <tr>\n",
              "      <th>2020-04-14</th>\n",
              "      <td>31119</td>\n",
              "      <td>1190</td>\n",
              "      <td>353</td>\n",
              "      <td>10815</td>\n",
              "      <td>615</td>\n",
              "    </tr>\n",
              "  </tbody>\n",
              "</table>\n",
              "<p>76 rows × 5 columns</p>\n",
              "</div>"
            ],
            "text/plain": [
              "              Sno  Cured  Deaths  Confirmed  state_id\n",
              "Date                                                 \n",
              "2020-01-30      1      0       0          1        18\n",
              "2020-01-31      2      0       0          1        18\n",
              "2020-02-01      3      0       0          2        18\n",
              "2020-02-02      4      0       0          3        18\n",
              "2020-02-03      5      0       0          3        18\n",
              "...           ...    ...     ...        ...       ...\n",
              "2020-04-10  25327    516     206       6761       567\n",
              "2020-04-11  26288    653     242       7529       567\n",
              "2020-04-12  27249    765     273       8447       567\n",
              "2020-04-13  29136    980     324       9352       592\n",
              "2020-04-14  31119   1190     353      10815       615\n",
              "\n",
              "[76 rows x 5 columns]"
            ]
          },
          "metadata": {
            "tags": []
          },
          "execution_count": 180
        }
      ]
    },
    {
      "cell_type": "code",
      "metadata": {
        "id": "BSqmSmy08PHN",
        "colab_type": "code",
        "colab": {
          "base_uri": "https://localhost:8080/",
          "height": 347
        },
        "outputId": "a367a987-53e8-4a28-88cb-ab42818f8530"
      },
      "source": [
        "gb.plot(y=['Confirmed','Cured','Deaths'],color=['b','g','r'])\n",
        "plt.title('Cummulative')"
      ],
      "execution_count": 200,
      "outputs": [
        {
          "output_type": "execute_result",
          "data": {
            "text/plain": [
              "Text(0.5, 1.0, 'Cummulative')"
            ]
          },
          "metadata": {
            "tags": []
          },
          "execution_count": 200
        },
        {
          "output_type": "display_data",
          "data": {
            "image/png": "[encoded data removed]",
            "text/plain": [
              "<Figure size 432x288 with 1 Axes>"
            ]
          },
          "metadata": {
            "tags": [],
            "needs_background": "light"
          }
        }
      ]
    },
    {
      "cell_type": "code",
      "metadata": {
        "id": "Y30TbtK-BU_9",
        "colab_type": "code",
        "colab": {
          "base_uri": "https://localhost:8080/",
          "height": 347
        },
        "outputId": "99025b62-caca-41f7-c198-e62410d32ed7"
      },
      "source": [
        "gb.plot(y=['Cured','Deaths'],color=['g','r'])\n",
        "plt.title('Cummulative')"
      ],
      "execution_count": 201,
      "outputs": [
        {
          "output_type": "execute_result",
          "data": {
            "text/plain": [
              "Text(0.5, 1.0, 'Cummulative')"
            ]
          },
          "metadata": {
            "tags": []
          },
          "execution_count": 201
        },
        {
          "output_type": "display_data",
          "data": {
            "image/png": "[encoded data removed]",
            "text/plain": [
              "<Figure size 432x288 with 1 Axes>"
            ]
          },
          "metadata": {
            "tags": [],
            "needs_background": "light"
          }
        }
      ]
    },
    {
      "cell_type": "code",
      "metadata": {
        "id": "Vss-558z_9x3",
        "colab_type": "code",
        "colab": {
          "base_uri": "https://localhost:8080/",
          "height": 347
        },
        "outputId": "746cf323-92a6-45e4-e8d9-c7695bedf5f5"
      },
      "source": [
        "gb.diff().plot(y=['Confirmed','Cured','Deaths'],color=['b','g','r'])\n",
        "plt.title('Daily')"
      ],
      "execution_count": 202,
      "outputs": [
        {
          "output_type": "execute_result",
          "data": {
            "text/plain": [
              "Text(0.5, 1.0, 'Daily')"
            ]
          },
          "metadata": {
            "tags": []
          },
          "execution_count": 202
        },
        {
          "output_type": "display_data",
          "data": {
            "image/png": "[encoded data removed]",
            "text/plain": [
              "<Figure size 432x288 with 1 Axes>"
            ]
          },
          "metadata": {
            "tags": [],
            "needs_background": "light"
          }
        }
      ]
    },
    {
      "cell_type": "code",
      "metadata": {
        "id": "Aap_fUC8AgWJ",
        "colab_type": "code",
        "colab": {
          "base_uri": "https://localhost:8080/",
          "height": 347
        },
        "outputId": "19dc9056-c67b-43a3-d67e-cf908d5f2875"
      },
      "source": [
        "gb.diff().plot(y=['Cured','Deaths'],color = ['g', 'r'])\n",
        "plt.title('Daily')"
      ],
      "execution_count": 203,
      "outputs": [
        {
          "output_type": "execute_result",
          "data": {
            "text/plain": [
              "Text(0.5, 1.0, 'Daily')"
            ]
          },
          "metadata": {
            "tags": []
          },
          "execution_count": 203
        },
        {
          "output_type": "display_data",
          "data": {
            "image/png": "[encoded data removed]",
            "text/plain": [
              "<Figure size 432x288 with 1 Axes>"
            ]
          },
          "metadata": {
            "tags": [],
            "needs_background": "light"
          }
        }
      ]
    },
    {
      "cell_type": "code",
      "metadata": {
        "id": "JxGCjnvSCpol",
        "colab_type": "code",
        "colab": {
          "base_uri": "https://localhost:8080/",
          "height": 338
        },
        "outputId": "1a9abcc7-feae-43a9-e6c2-856f24b5554b"
      },
      "source": [
        "plt.fill_between(gb.index,gb['Cured'],0)\n",
        "plt.xticks(rotation=45)"
      ],
      "execution_count": 207,
      "outputs": [
        {
          "output_type": "execute_result",
          "data": {
            "text/plain": [
              "(array([737456., 737470., 737485., 737499., 737516., 737530.]),\n",
              " <a list of 6 Text major ticklabel objects>)"
            ]
          },
          "metadata": {
            "tags": []
          },
          "execution_count": 207
        },
        {
          "output_type": "display_data",
          "data": {
            "image/png": "[encoded data removed]",
            "text/plain": [
              "<Figure size 432x288 with 1 Axes>"
            ]
          },
          "metadata": {
            "tags": [],
            "needs_background": "light"
          }
        }
      ]
    },
    {
      "cell_type": "code",
      "metadata": {
        "id": "b6ChzRmSHT5Z",
        "colab_type": "code",
        "colab": {
          "base_uri": "https://localhost:8080/",
          "height": 289
        },
        "outputId": "7849fb0d-223a-40ad-bf3f-e9e113597a3b"
      },
      "source": [
        ""
      ],
      "execution_count": 206,
      "outputs": [
        {
          "output_type": "error",
          "ename": "AttributeError",
          "evalue": "ignored",
          "traceback": [
            "\u001b[0;31m---------------------------------------------------------------------------\u001b[0m",
            "\u001b[0;31mAttributeError\u001b[0m                            Traceback (most recent call last)",
            "\u001b[0;32m<ipython-input-206-e0ffdbe6cd0d>\u001b[0m in \u001b[0;36m<module>\u001b[0;34m()\u001b[0m\n\u001b[0;32m----> 1\u001b[0;31m \u001b[0mgb\u001b[0m\u001b[0;34m.\u001b[0m\u001b[0mfill_between\u001b[0m\u001b[0;34m(\u001b[0m\u001b[0;34m[\u001b[0m\u001b[0;34m'Cured'\u001b[0m\u001b[0;34m]\u001b[0m\u001b[0;34m,\u001b[0m\u001b[0;36m0\u001b[0m\u001b[0;34m)\u001b[0m\u001b[0;34m\u001b[0m\u001b[0;34m\u001b[0m\u001b[0m\n\u001b[0m",
            "\u001b[0;32m/usr/local/lib/python3.6/dist-packages/pandas/core/generic.py\u001b[0m in \u001b[0;36m__getattr__\u001b[0;34m(self, name)\u001b[0m\n\u001b[1;32m   5272\u001b[0m             \u001b[0;32mif\u001b[0m \u001b[0mself\u001b[0m\u001b[0;34m.\u001b[0m\u001b[0m_info_axis\u001b[0m\u001b[0;34m.\u001b[0m\u001b[0m_can_hold_identifiers_and_holds_name\u001b[0m\u001b[0;34m(\u001b[0m\u001b[0mname\u001b[0m\u001b[0;34m)\u001b[0m\u001b[0;34m:\u001b[0m\u001b[0;34m\u001b[0m\u001b[0;34m\u001b[0m\u001b[0m\n\u001b[1;32m   5273\u001b[0m                 \u001b[0;32mreturn\u001b[0m \u001b[0mself\u001b[0m\u001b[0;34m[\u001b[0m\u001b[0mname\u001b[0m\u001b[0;34m]\u001b[0m\u001b[0;34m\u001b[0m\u001b[0;34m\u001b[0m\u001b[0m\n\u001b[0;32m-> 5274\u001b[0;31m             \u001b[0;32mreturn\u001b[0m \u001b[0mobject\u001b[0m\u001b[0;34m.\u001b[0m\u001b[0m__getattribute__\u001b[0m\u001b[0;34m(\u001b[0m\u001b[0mself\u001b[0m\u001b[0;34m,\u001b[0m \u001b[0mname\u001b[0m\u001b[0;34m)\u001b[0m\u001b[0;34m\u001b[0m\u001b[0;34m\u001b[0m\u001b[0m\n\u001b[0m\u001b[1;32m   5275\u001b[0m \u001b[0;34m\u001b[0m\u001b[0m\n\u001b[1;32m   5276\u001b[0m     \u001b[0;32mdef\u001b[0m \u001b[0m__setattr__\u001b[0m\u001b[0;34m(\u001b[0m\u001b[0mself\u001b[0m\u001b[0;34m,\u001b[0m \u001b[0mname\u001b[0m\u001b[0;34m:\u001b[0m \u001b[0mstr\u001b[0m\u001b[0;34m,\u001b[0m \u001b[0mvalue\u001b[0m\u001b[0;34m)\u001b[0m \u001b[0;34m->\u001b[0m \u001b[0;32mNone\u001b[0m\u001b[0;34m:\u001b[0m\u001b[0;34m\u001b[0m\u001b[0;34m\u001b[0m\u001b[0m\n",
            "\u001b[0;31mAttributeError\u001b[0m: 'DataFrame' object has no attribute 'fill_between'"
          ]
        }
      ]
    }
  ]
}