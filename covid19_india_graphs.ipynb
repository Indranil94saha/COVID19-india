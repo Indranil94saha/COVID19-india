{
  "nbformat": 4,
  "nbformat_minor": 0,
  "metadata": {
    "colab": {
      "name": "covid19_india_graphs.ipynb",
      "provenance": [],
      "collapsed_sections": [],
      "authorship_tag": "ABX9TyNSBtn041ZvdQFeBzO07nVk",
      "include_colab_link": true
    },
    "kernelspec": {
      "name": "python3",
      "display_name": "Python 3"
    }
  },
  "cells": [
    {
      "cell_type": "markdown",
      "metadata": {
        "id": "view-in-github",
        "colab_type": "text"
      },
      "source": [
        "<a href=\"https://colab.research.google.com/github/stories-of-life/COVID19-india/blob/develop/covid19_india_graphs.ipynb\" target=\"_parent\"><img src=\"https://colab.research.google.com/assets/colab-badge.svg\" alt=\"Open In Colab\"/></a>"
      ]
    },
    {
      "cell_type": "markdown",
      "metadata": {
        "id": "PGw4kGivYZSq",
        "colab_type": "text"
      },
      "source": [
        "# Fetch data from Kaggle"
      ]
    },
    {
      "cell_type": "code",
      "metadata": {
        "id": "-6UpK8qPdzzy",
        "colab_type": "code",
        "outputId": "7b5d9f1a-d551-41bb-fbdd-20c1e89bdad9",
        "colab": {
          "base_uri": "https://localhost:8080/",
          "height": 87
        }
      },
      "source": [
        "from google.colab import drive\n",
        "drive.mount('/content/gdrive')\n",
        "\n",
        "!mkdir ~/.kaggle\n",
        "!cp '/content/gdrive/My Drive/kaggle.json' ~/.kaggle\n",
        "drive.flush_and_unmount()\n",
        "!ls ~/.kaggle\n",
        "!kaggle datasets download -d sudalairajkumar/covid19-in-india"
      ],
      "execution_count": 10,
      "outputs": [
        {
          "output_type": "stream",
          "text": [
            "Mounted at /content/gdrive\n",
            "mkdir: cannot create directory ‘/root/.kaggle’: File exists\n",
            "kaggle.json\n",
            "covid19-in-india.zip: Skipping, found more recently modified local copy (use --force to force download)\n"
          ],
          "name": "stdout"
        }
      ]
    },
    {
      "cell_type": "code",
      "metadata": {
        "id": "jCT9R9GouTFJ",
        "colab_type": "code",
        "colab": {
          "base_uri": "https://localhost:8080/",
          "height": 366
        },
        "outputId": "1094efd6-46ae-4a11-fee3-51c56cac1ae9"
      },
      "source": [
        "!wget http://biogeo.ucdavis.edu/data/diva/adm/IND_adm.zip"
      ],
      "execution_count": 18,
      "outputs": [
        {
          "output_type": "stream",
          "text": [
            "--2020-04-14 12:45:46--  http://biogeo.ucdavis.edu/data/diva/adm/IND_adm.zip\n",
            "Resolving biogeo.ucdavis.edu (biogeo.ucdavis.edu)... 128.120.228.172\n",
            "Connecting to biogeo.ucdavis.edu (biogeo.ucdavis.edu)|128.120.228.172|:80... connected.\n",
            "HTTP request sent, awaiting response... 302 Found\n",
            "Location: https://biogeo.ucdavis.edu/data/diva/adm/IND_adm.zip [following]\n",
            "--2020-04-14 12:45:46--  https://biogeo.ucdavis.edu/data/diva/adm/IND_adm.zip\n",
            "Connecting to biogeo.ucdavis.edu (biogeo.ucdavis.edu)|128.120.228.172|:443... connected.\n",
            "HTTP request sent, awaiting response... 302 Found\n",
            "Location: https://data.biogeo.ucdavis.edu/data/diva/adm/IND_adm.zip [following]\n",
            "--2020-04-14 12:45:47--  https://data.biogeo.ucdavis.edu/data/diva/adm/IND_adm.zip\n",
            "Resolving data.biogeo.ucdavis.edu (data.biogeo.ucdavis.edu)... 128.120.228.172\n",
            "Connecting to data.biogeo.ucdavis.edu (data.biogeo.ucdavis.edu)|128.120.228.172|:443... connected.\n",
            "HTTP request sent, awaiting response... 200 OK\n",
            "Length: 14925870 (14M) [application/zip]\n",
            "Saving to: ‘IND_adm.zip’\n",
            "\n",
            "IND_adm.zip         100%[===================>]  14.23M  9.02MB/s    in 1.6s    \n",
            "\n",
            "2020-04-14 12:45:49 (9.02 MB/s) - ‘IND_adm.zip’ saved [14925870/14925870]\n",
            "\n"
          ],
          "name": "stdout"
        }
      ]
    },
    {
      "cell_type": "markdown",
      "metadata": {
        "id": "aWpBvDzlj3BG",
        "colab_type": "text"
      },
      "source": [
        "# Data Processing"
      ]
    },
    {
      "cell_type": "code",
      "metadata": {
        "id": "9Is5PrX3kLTp",
        "colab_type": "code",
        "colab": {
          "base_uri": "https://localhost:8080/",
          "height": 628
        },
        "outputId": "8c5f3e7c-e359-488a-d5b1-5a2fd172616a"
      },
      "source": [
        "!unzip covid19-in-india.zip -d covid19-in-india\n",
        "!unzip IND_adm.zip -d IND_adm"
      ],
      "execution_count": 19,
      "outputs": [
        {
          "output_type": "stream",
          "text": [
            "Archive:  covid19-in-india.zip\n",
            "  inflating: covid19-in-india/AgeGroupDetails.csv  \n",
            "  inflating: covid19-in-india/HospitalBedsIndia.csv  \n",
            "  inflating: covid19-in-india/ICMRTestingDetails.csv  \n",
            "  inflating: covid19-in-india/ICMRTestingLabs.csv  \n",
            "  inflating: covid19-in-india/IndividualDetails.csv  \n",
            "  inflating: covid19-in-india/StatewiseTestingDetails.csv  \n",
            "  inflating: covid19-in-india/covid_19_india.csv  \n",
            "  inflating: covid19-in-india/population_india_census2011.csv  \n",
            "Archive:  IND_adm.zip\n",
            " extracting: IND_adm/IND_adm0.cpg    \n",
            "  inflating: IND_adm/IND_adm0.csv    \n",
            "  inflating: IND_adm/IND_adm0.dbf    \n",
            "  inflating: IND_adm/IND_adm0.prj    \n",
            "  inflating: IND_adm/IND_adm0.shp    \n",
            "  inflating: IND_adm/IND_adm0.shx    \n",
            " extracting: IND_adm/IND_adm1.cpg    \n",
            "  inflating: IND_adm/IND_adm1.csv    \n",
            "  inflating: IND_adm/IND_adm1.dbf    \n",
            "  inflating: IND_adm/IND_adm1.prj    \n",
            "  inflating: IND_adm/IND_adm1.shp    \n",
            "  inflating: IND_adm/IND_adm1.shx    \n",
            " extracting: IND_adm/IND_adm2.cpg    \n",
            "  inflating: IND_adm/IND_adm2.csv    \n",
            "  inflating: IND_adm/IND_adm2.dbf    \n",
            "  inflating: IND_adm/IND_adm2.prj    \n",
            "  inflating: IND_adm/IND_adm2.shp    \n",
            "  inflating: IND_adm/IND_adm2.shx    \n",
            " extracting: IND_adm/IND_adm3.cpg    \n",
            "  inflating: IND_adm/IND_adm3.csv    \n",
            "  inflating: IND_adm/IND_adm3.dbf    \n",
            "  inflating: IND_adm/IND_adm3.prj    \n",
            "  inflating: IND_adm/IND_adm3.shp    \n",
            "  inflating: IND_adm/IND_adm3.shx    \n",
            "  inflating: IND_adm/license.txt     \n"
          ],
          "name": "stdout"
        }
      ]
    },
    {
      "cell_type": "code",
      "metadata": {
        "id": "rl6zrNnKgrYq",
        "colab_type": "code",
        "colab": {}
      },
      "source": [
        "import pandas as pd\n",
        "import numpy as np\n",
        "import matplotlib.pyplot as plt"
      ],
      "execution_count": 0,
      "outputs": []
    },
    {
      "cell_type": "code",
      "metadata": {
        "id": "1D_HVyRMk7Xl",
        "colab_type": "code",
        "colab": {
          "base_uri": "https://localhost:8080/",
          "height": 393
        },
        "outputId": "2feadd28-1e2d-4bb9-bf4a-5a3546d966bc"
      },
      "source": [
        "df=pd.read_csv('covid_19_india.csv')\n",
        "print(df.shape)\n",
        "print(df.columns)\n",
        "df.tail()"
      ],
      "execution_count": 14,
      "outputs": [
        {
          "output_type": "stream",
          "text": [
            "(926, 9)\n",
            "Index(['Sno', 'Date', 'Time', 'State/UnionTerritory',\n",
            "       'ConfirmedIndianNational', 'ConfirmedForeignNational', 'Cured',\n",
            "       'Deaths', 'Confirmed'],\n",
            "      dtype='object')\n"
          ],
          "name": "stdout"
        },
        {
          "output_type": "execute_result",
          "data": {
            "text/html": [
              "<div>\n",
              "<style scoped>\n",
              "    .dataframe tbody tr th:only-of-type {\n",
              "        vertical-align: middle;\n",
              "    }\n",
              "\n",
              "    .dataframe tbody tr th {\n",
              "        vertical-align: top;\n",
              "    }\n",
              "\n",
              "    .dataframe thead th {\n",
              "        text-align: right;\n",
              "    }\n",
              "</style>\n",
              "<table border=\"1\" class=\"dataframe\">\n",
              "  <thead>\n",
              "    <tr style=\"text-align: right;\">\n",
              "      <th></th>\n",
              "      <th>Sno</th>\n",
              "      <th>Date</th>\n",
              "      <th>Time</th>\n",
              "      <th>State/UnionTerritory</th>\n",
              "      <th>ConfirmedIndianNational</th>\n",
              "      <th>ConfirmedForeignNational</th>\n",
              "      <th>Cured</th>\n",
              "      <th>Deaths</th>\n",
              "      <th>Confirmed</th>\n",
              "    </tr>\n",
              "  </thead>\n",
              "  <tbody>\n",
              "    <tr>\n",
              "      <th>921</th>\n",
              "      <td>922</td>\n",
              "      <td>13/04/20</td>\n",
              "      <td>5:00 PM</td>\n",
              "      <td>Telengana</td>\n",
              "      <td>-</td>\n",
              "      <td>-</td>\n",
              "      <td>100</td>\n",
              "      <td>16</td>\n",
              "      <td>562</td>\n",
              "    </tr>\n",
              "    <tr>\n",
              "      <th>922</th>\n",
              "      <td>923</td>\n",
              "      <td>13/04/20</td>\n",
              "      <td>5:00 PM</td>\n",
              "      <td>Tripura</td>\n",
              "      <td>-</td>\n",
              "      <td>-</td>\n",
              "      <td>0</td>\n",
              "      <td>0</td>\n",
              "      <td>2</td>\n",
              "    </tr>\n",
              "    <tr>\n",
              "      <th>923</th>\n",
              "      <td>924</td>\n",
              "      <td>13/04/20</td>\n",
              "      <td>5:00 PM</td>\n",
              "      <td>Uttarakhand</td>\n",
              "      <td>-</td>\n",
              "      <td>-</td>\n",
              "      <td>5</td>\n",
              "      <td>0</td>\n",
              "      <td>35</td>\n",
              "    </tr>\n",
              "    <tr>\n",
              "      <th>924</th>\n",
              "      <td>925</td>\n",
              "      <td>13/04/20</td>\n",
              "      <td>5:00 PM</td>\n",
              "      <td>Uttar Pradesh</td>\n",
              "      <td>-</td>\n",
              "      <td>-</td>\n",
              "      <td>47</td>\n",
              "      <td>5</td>\n",
              "      <td>483</td>\n",
              "    </tr>\n",
              "    <tr>\n",
              "      <th>925</th>\n",
              "      <td>926</td>\n",
              "      <td>13/04/20</td>\n",
              "      <td>5:00 PM</td>\n",
              "      <td>West Bengal</td>\n",
              "      <td>-</td>\n",
              "      <td>-</td>\n",
              "      <td>29</td>\n",
              "      <td>7</td>\n",
              "      <td>152</td>\n",
              "    </tr>\n",
              "  </tbody>\n",
              "</table>\n",
              "</div>"
            ],
            "text/plain": [
              "     Sno      Date     Time  ... Cured Deaths Confirmed\n",
              "921  922  13/04/20  5:00 PM  ...   100     16       562\n",
              "922  923  13/04/20  5:00 PM  ...     0      0         2\n",
              "923  924  13/04/20  5:00 PM  ...     5      0        35\n",
              "924  925  13/04/20  5:00 PM  ...    47      5       483\n",
              "925  926  13/04/20  5:00 PM  ...    29      7       152\n",
              "\n",
              "[5 rows x 9 columns]"
            ]
          },
          "metadata": {
            "tags": []
          },
          "execution_count": 14
        }
      ]
    },
    {
      "cell_type": "code",
      "metadata": {
        "id": "LoWM5tXVlFHy",
        "colab_type": "code",
        "colab": {}
      },
      "source": [
        "df['Date']=pd.to_datetime(df['Date'],dayfirst=True)"
      ],
      "execution_count": 0,
      "outputs": []
    },
    {
      "cell_type": "code",
      "metadata": {
        "id": "AOwCo3nplLcd",
        "colab_type": "code",
        "colab": {
          "base_uri": "https://localhost:8080/",
          "height": 331
        },
        "outputId": "fe5e4afb-1216-468d-9d99-8681e8dafa8a"
      },
      "source": [
        "df.groupby(['Date']).sum().reset_index().plot(x='Date',y=['Confirmed','Cured','Deaths'])"
      ],
      "execution_count": 16,
      "outputs": [
        {
          "output_type": "execute_result",
          "data": {
            "text/plain": [
              "<matplotlib.axes._subplots.AxesSubplot at 0x7fde5dace748>"
            ]
          },
          "metadata": {
            "tags": []
          },
          "execution_count": 16
        },
        {
          "output_type": "display_data",
          "data": {
            "image/png": "[encoded data removed]",
            "text/plain": [
              "<Figure size 432x288 with 1 Axes>"
            ]
          },
          "metadata": {
            "tags": [],
            "needs_background": "light"
          }
        }
      ]
    },
    {
      "cell_type": "markdown",
      "metadata": {
        "id": "Y5uxgngSzwgc",
        "colab_type": "text"
      },
      "source": [
        "# India Map"
      ]
    },
    {
      "cell_type": "code",
      "metadata": {
        "id": "pSPe0zXGsye7",
        "colab_type": "code",
        "colab": {
          "base_uri": "https://localhost:8080/",
          "height": 1000
        },
        "outputId": "63e22a36-9bd2-4434-f0db-8307b540a8f7"
      },
      "source": [
        "!pip install pyshp geopandas earthpy"
      ],
      "execution_count": 20,
      "outputs": [
        {
          "output_type": "stream",
          "text": [
            "Requirement already satisfied: pyshp in /usr/local/lib/python3.6/dist-packages (2.1.0)\n",
            "Collecting geopandas\n",
            "\u001b[?25l  Downloading https://files.pythonhosted.org/packages/83/c5/3cf9cdc39a6f2552922f79915f36b45a95b71fd343cfc51170a5b6ddb6e8/geopandas-0.7.0-py2.py3-none-any.whl (928kB)\n",
            "\r\u001b[K     |▍                               | 10kB 18.6MB/s eta 0:00:01\r\u001b[K     |▊                               | 20kB 1.7MB/s eta 0:00:01\r\u001b[K     |█                               | 30kB 2.5MB/s eta 0:00:01\r\u001b[K     |█▍                              | 40kB 3.2MB/s eta 0:00:01\r\u001b[K     |█▊                              | 51kB 2.0MB/s eta 0:00:01\r\u001b[K     |██▏                             | 61kB 2.4MB/s eta 0:00:01\r\u001b[K     |██▌                             | 71kB 2.8MB/s eta 0:00:01\r\u001b[K     |██▉                             | 81kB 3.2MB/s eta 0:00:01\r\u001b[K     |███▏                            | 92kB 2.4MB/s eta 0:00:01\r\u001b[K     |███▌                            | 102kB 2.7MB/s eta 0:00:01\r\u001b[K     |███▉                            | 112kB 2.7MB/s eta 0:00:01\r\u001b[K     |████▎                           | 122kB 2.7MB/s eta 0:00:01\r\u001b[K     |████▋                           | 133kB 2.7MB/s eta 0:00:01\r\u001b[K     |█████                           | 143kB 2.7MB/s eta 0:00:01\r\u001b[K     |█████▎                          | 153kB 2.7MB/s eta 0:00:01\r\u001b[K     |█████▋                          | 163kB 2.7MB/s eta 0:00:01\r\u001b[K     |██████                          | 174kB 2.7MB/s eta 0:00:01\r\u001b[K     |██████▍                         | 184kB 2.7MB/s eta 0:00:01\r\u001b[K     |██████▊                         | 194kB 2.7MB/s eta 0:00:01\r\u001b[K     |███████                         | 204kB 2.7MB/s eta 0:00:01\r\u001b[K     |███████▍                        | 215kB 2.7MB/s eta 0:00:01\r\u001b[K     |███████▊                        | 225kB 2.7MB/s eta 0:00:01\r\u001b[K     |████████▏                       | 235kB 2.7MB/s eta 0:00:01\r\u001b[K     |████████▌                       | 245kB 2.7MB/s eta 0:00:01\r\u001b[K     |████████▉                       | 256kB 2.7MB/s eta 0:00:01\r\u001b[K     |█████████▏                      | 266kB 2.7MB/s eta 0:00:01\r\u001b[K     |█████████▌                      | 276kB 2.7MB/s eta 0:00:01\r\u001b[K     |█████████▉                      | 286kB 2.7MB/s eta 0:00:01\r\u001b[K     |██████████▎                     | 296kB 2.7MB/s eta 0:00:01\r\u001b[K     |██████████▋                     | 307kB 2.7MB/s eta 0:00:01\r\u001b[K     |███████████                     | 317kB 2.7MB/s eta 0:00:01\r\u001b[K     |███████████▎                    | 327kB 2.7MB/s eta 0:00:01\r\u001b[K     |███████████▋                    | 337kB 2.7MB/s eta 0:00:01\r\u001b[K     |████████████                    | 348kB 2.7MB/s eta 0:00:01\r\u001b[K     |████████████▍                   | 358kB 2.7MB/s eta 0:00:01\r\u001b[K     |████████████▊                   | 368kB 2.7MB/s eta 0:00:01\r\u001b[K     |█████████████                   | 378kB 2.7MB/s eta 0:00:01\r\u001b[K     |█████████████▍                  | 389kB 2.7MB/s eta 0:00:01\r\u001b[K     |█████████████▊                  | 399kB 2.7MB/s eta 0:00:01\r\u001b[K     |██████████████▏                 | 409kB 2.7MB/s eta 0:00:01\r\u001b[K     |██████████████▌                 | 419kB 2.7MB/s eta 0:00:01\r\u001b[K     |██████████████▉                 | 430kB 2.7MB/s eta 0:00:01\r\u001b[K     |███████████████▏                | 440kB 2.7MB/s eta 0:00:01\r\u001b[K     |███████████████▌                | 450kB 2.7MB/s eta 0:00:01\r\u001b[K     |███████████████▉                | 460kB 2.7MB/s eta 0:00:01\r\u001b[K     |████████████████▎               | 471kB 2.7MB/s eta 0:00:01\r\u001b[K     |████████████████▋               | 481kB 2.7MB/s eta 0:00:01\r\u001b[K     |█████████████████               | 491kB 2.7MB/s eta 0:00:01\r\u001b[K     |█████████████████▎              | 501kB 2.7MB/s eta 0:00:01\r\u001b[K     |█████████████████▋              | 512kB 2.7MB/s eta 0:00:01\r\u001b[K     |██████████████████              | 522kB 2.7MB/s eta 0:00:01\r\u001b[K     |██████████████████▍             | 532kB 2.7MB/s eta 0:00:01\r\u001b[K     |██████████████████▊             | 542kB 2.7MB/s eta 0:00:01\r\u001b[K     |███████████████████             | 552kB 2.7MB/s eta 0:00:01\r\u001b[K     |███████████████████▍            | 563kB 2.7MB/s eta 0:00:01\r\u001b[K     |███████████████████▊            | 573kB 2.7MB/s eta 0:00:01\r\u001b[K     |████████████████████▏           | 583kB 2.7MB/s eta 0:00:01\r\u001b[K     |████████████████████▌           | 593kB 2.7MB/s eta 0:00:01\r\u001b[K     |████████████████████▉           | 604kB 2.7MB/s eta 0:00:01\r\u001b[K     |█████████████████████▏          | 614kB 2.7MB/s eta 0:00:01\r\u001b[K     |█████████████████████▌          | 624kB 2.7MB/s eta 0:00:01\r\u001b[K     |██████████████████████          | 634kB 2.7MB/s eta 0:00:01\r\u001b[K     |██████████████████████▎         | 645kB 2.7MB/s eta 0:00:01\r\u001b[K     |██████████████████████▋         | 655kB 2.7MB/s eta 0:00:01\r\u001b[K     |███████████████████████         | 665kB 2.7MB/s eta 0:00:01\r\u001b[K     |███████████████████████▎        | 675kB 2.7MB/s eta 0:00:01\r\u001b[K     |███████████████████████▋        | 686kB 2.7MB/s eta 0:00:01\r\u001b[K     |████████████████████████        | 696kB 2.7MB/s eta 0:00:01\r\u001b[K     |████████████████████████▍       | 706kB 2.7MB/s eta 0:00:01\r\u001b[K     |████████████████████████▊       | 716kB 2.7MB/s eta 0:00:01\r\u001b[K     |█████████████████████████       | 727kB 2.7MB/s eta 0:00:01\r\u001b[K     |█████████████████████████▍      | 737kB 2.7MB/s eta 0:00:01\r\u001b[K     |█████████████████████████▊      | 747kB 2.7MB/s eta 0:00:01\r\u001b[K     |██████████████████████████▏     | 757kB 2.7MB/s eta 0:00:01\r\u001b[K     |██████████████████████████▌     | 768kB 2.7MB/s eta 0:00:01\r\u001b[K     |██████████████████████████▉     | 778kB 2.7MB/s eta 0:00:01\r\u001b[K     |███████████████████████████▏    | 788kB 2.7MB/s eta 0:00:01\r\u001b[K     |███████████████████████████▌    | 798kB 2.7MB/s eta 0:00:01\r\u001b[K     |████████████████████████████    | 808kB 2.7MB/s eta 0:00:01\r\u001b[K     |████████████████████████████▎   | 819kB 2.7MB/s eta 0:00:01\r\u001b[K     |████████████████████████████▋   | 829kB 2.7MB/s eta 0:00:01\r\u001b[K     |█████████████████████████████   | 839kB 2.7MB/s eta 0:00:01\r\u001b[K     |█████████████████████████████▎  | 849kB 2.7MB/s eta 0:00:01\r\u001b[K     |█████████████████████████████▋  | 860kB 2.7MB/s eta 0:00:01\r\u001b[K     |██████████████████████████████  | 870kB 2.7MB/s eta 0:00:01\r\u001b[K     |██████████████████████████████▍ | 880kB 2.7MB/s eta 0:00:01\r\u001b[K     |██████████████████████████████▊ | 890kB 2.7MB/s eta 0:00:01\r\u001b[K     |███████████████████████████████ | 901kB 2.7MB/s eta 0:00:01\r\u001b[K     |███████████████████████████████▍| 911kB 2.7MB/s eta 0:00:01\r\u001b[K     |███████████████████████████████▊| 921kB 2.7MB/s eta 0:00:01\r\u001b[K     |████████████████████████████████| 931kB 2.7MB/s \n",
            "\u001b[?25hCollecting earthpy\n",
            "\u001b[?25l  Downloading https://files.pythonhosted.org/packages/a5/15/27c629bb121ad8234ee022ed0a194c8f8eaed0a7cf5e4c1f46cbeb078191/earthpy-0.9.1.tar.gz (1.4MB)\n",
            "\r\u001b[K     |▎                               | 10kB 23.6MB/s eta 0:00:01\r\u001b[K     |▌                               | 20kB 27.8MB/s eta 0:00:01\r\u001b[K     |▊                               | 30kB 33.2MB/s eta 0:00:01\r\u001b[K     |█                               | 40kB 35.6MB/s eta 0:00:01\r\u001b[K     |█▏                              | 51kB 38.2MB/s eta 0:00:01\r\u001b[K     |█▍                              | 61kB 41.2MB/s eta 0:00:01\r\u001b[K     |█▊                              | 71kB 39.9MB/s eta 0:00:01\r\u001b[K     |██                              | 81kB 40.2MB/s eta 0:00:01\r\u001b[K     |██▏                             | 92kB 41.5MB/s eta 0:00:01\r\u001b[K     |██▍                             | 102kB 42.8MB/s eta 0:00:01\r\u001b[K     |██▋                             | 112kB 42.8MB/s eta 0:00:01\r\u001b[K     |██▉                             | 122kB 42.8MB/s eta 0:00:01\r\u001b[K     |███▏                            | 133kB 42.8MB/s eta 0:00:01\r\u001b[K     |███▍                            | 143kB 42.8MB/s eta 0:00:01\r\u001b[K     |███▋                            | 153kB 42.8MB/s eta 0:00:01\r\u001b[K     |███▉                            | 163kB 42.8MB/s eta 0:00:01\r\u001b[K     |████                            | 174kB 42.8MB/s eta 0:00:01\r\u001b[K     |████▎                           | 184kB 42.8MB/s eta 0:00:01\r\u001b[K     |████▋                           | 194kB 42.8MB/s eta 0:00:01\r\u001b[K     |████▉                           | 204kB 42.8MB/s eta 0:00:01\r\u001b[K     |█████                           | 215kB 42.8MB/s eta 0:00:01\r\u001b[K     |█████▎                          | 225kB 42.8MB/s eta 0:00:01\r\u001b[K     |█████▌                          | 235kB 42.8MB/s eta 0:00:01\r\u001b[K     |█████▊                          | 245kB 42.8MB/s eta 0:00:01\r\u001b[K     |██████                          | 256kB 42.8MB/s eta 0:00:01\r\u001b[K     |██████▎                         | 266kB 42.8MB/s eta 0:00:01\r\u001b[K     |██████▌                         | 276kB 42.8MB/s eta 0:00:01\r\u001b[K     |██████▊                         | 286kB 42.8MB/s eta 0:00:01\r\u001b[K     |███████                         | 296kB 42.8MB/s eta 0:00:01\r\u001b[K     |███████▏                        | 307kB 42.8MB/s eta 0:00:01\r\u001b[K     |███████▌                        | 317kB 42.8MB/s eta 0:00:01\r\u001b[K     |███████▊                        | 327kB 42.8MB/s eta 0:00:01\r\u001b[K     |████████                        | 337kB 42.8MB/s eta 0:00:01\r\u001b[K     |████████▏                       | 348kB 42.8MB/s eta 0:00:01\r\u001b[K     |████████▍                       | 358kB 42.8MB/s eta 0:00:01\r\u001b[K     |████████▋                       | 368kB 42.8MB/s eta 0:00:01\r\u001b[K     |█████████                       | 378kB 42.8MB/s eta 0:00:01\r\u001b[K     |█████████▏                      | 389kB 42.8MB/s eta 0:00:01\r\u001b[K     |█████████▍                      | 399kB 42.8MB/s eta 0:00:01\r\u001b[K     |█████████▋                      | 409kB 42.8MB/s eta 0:00:01\r\u001b[K     |█████████▉                      | 419kB 42.8MB/s eta 0:00:01\r\u001b[K     |██████████                      | 430kB 42.8MB/s eta 0:00:01\r\u001b[K     |██████████▎                     | 440kB 42.8MB/s eta 0:00:01\r\u001b[K     |██████████▋                     | 450kB 42.8MB/s eta 0:00:01\r\u001b[K     |██████████▉                     | 460kB 42.8MB/s eta 0:00:01\r\u001b[K     |███████████                     | 471kB 42.8MB/s eta 0:00:01\r\u001b[K     |███████████▎                    | 481kB 42.8MB/s eta 0:00:01\r\u001b[K     |███████████▌                    | 491kB 42.8MB/s eta 0:00:01\r\u001b[K     |███████████▊                    | 501kB 42.8MB/s eta 0:00:01\r\u001b[K     |████████████                    | 512kB 42.8MB/s eta 0:00:01\r\u001b[K     |████████████▎                   | 522kB 42.8MB/s eta 0:00:01\r\u001b[K     |████████████▌                   | 532kB 42.8MB/s eta 0:00:01\r\u001b[K     |████████████▊                   | 542kB 42.8MB/s eta 0:00:01\r\u001b[K     |█████████████                   | 552kB 42.8MB/s eta 0:00:01\r\u001b[K     |█████████████▏                  | 563kB 42.8MB/s eta 0:00:01\r\u001b[K     |█████████████▌                  | 573kB 42.8MB/s eta 0:00:01\r\u001b[K     |█████████████▊                  | 583kB 42.8MB/s eta 0:00:01\r\u001b[K     |██████████████                  | 593kB 42.8MB/s eta 0:00:01\r\u001b[K     |██████████████▏                 | 604kB 42.8MB/s eta 0:00:01\r\u001b[K     |██████████████▍                 | 614kB 42.8MB/s eta 0:00:01\r\u001b[K     |██████████████▋                 | 624kB 42.8MB/s eta 0:00:01\r\u001b[K     |███████████████                 | 634kB 42.8MB/s eta 0:00:01\r\u001b[K     |███████████████▏                | 645kB 42.8MB/s eta 0:00:01\r\u001b[K     |███████████████▍                | 655kB 42.8MB/s eta 0:00:01\r\u001b[K     |███████████████▋                | 665kB 42.8MB/s eta 0:00:01\r\u001b[K     |███████████████▉                | 675kB 42.8MB/s eta 0:00:01\r\u001b[K     |████████████████                | 686kB 42.8MB/s eta 0:00:01\r\u001b[K     |████████████████▍               | 696kB 42.8MB/s eta 0:00:01\r\u001b[K     |████████████████▋               | 706kB 42.8MB/s eta 0:00:01\r\u001b[K     |████████████████▉               | 716kB 42.8MB/s eta 0:00:01\r\u001b[K     |█████████████████               | 727kB 42.8MB/s eta 0:00:01\r\u001b[K     |█████████████████▎              | 737kB 42.8MB/s eta 0:00:01\r\u001b[K     |█████████████████▌              | 747kB 42.8MB/s eta 0:00:01\r\u001b[K     |█████████████████▉              | 757kB 42.8MB/s eta 0:00:01\r\u001b[K     |██████████████████              | 768kB 42.8MB/s eta 0:00:01\r\u001b[K     |██████████████████▎             | 778kB 42.8MB/s eta 0:00:01\r\u001b[K     |██████████████████▌             | 788kB 42.8MB/s eta 0:00:01\r\u001b[K     |██████████████████▊             | 798kB 42.8MB/s eta 0:00:01\r\u001b[K     |███████████████████             | 808kB 42.8MB/s eta 0:00:01\r\u001b[K     |███████████████████▎            | 819kB 42.8MB/s eta 0:00:01\r\u001b[K     |███████████████████▌            | 829kB 42.8MB/s eta 0:00:01\r\u001b[K     |███████████████████▊            | 839kB 42.8MB/s eta 0:00:01\r\u001b[K     |████████████████████            | 849kB 42.8MB/s eta 0:00:01\r\u001b[K     |████████████████████▏           | 860kB 42.8MB/s eta 0:00:01\r\u001b[K     |████████████████████▍           | 870kB 42.8MB/s eta 0:00:01\r\u001b[K     |████████████████████▋           | 880kB 42.8MB/s eta 0:00:01\r\u001b[K     |█████████████████████           | 890kB 42.8MB/s eta 0:00:01\r\u001b[K     |█████████████████████▏          | 901kB 42.8MB/s eta 0:00:01\r\u001b[K     |█████████████████████▍          | 911kB 42.8MB/s eta 0:00:01\r\u001b[K     |█████████████████████▋          | 921kB 42.8MB/s eta 0:00:01\r\u001b[K     |█████████████████████▉          | 931kB 42.8MB/s eta 0:00:01\r\u001b[K     |██████████████████████          | 942kB 42.8MB/s eta 0:00:01\r\u001b[K     |██████████████████████▍         | 952kB 42.8MB/s eta 0:00:01\r\u001b[K     |██████████████████████▋         | 962kB 42.8MB/s eta 0:00:01\r\u001b[K     |██████████████████████▉         | 972kB 42.8MB/s eta 0:00:01\r\u001b[K     |███████████████████████         | 983kB 42.8MB/s eta 0:00:01\r\u001b[K     |███████████████████████▎        | 993kB 42.8MB/s eta 0:00:01\r\u001b[K     |███████████████████████▌        | 1.0MB 42.8MB/s eta 0:00:01\r\u001b[K     |███████████████████████▉        | 1.0MB 42.8MB/s eta 0:00:01\r\u001b[K     |████████████████████████        | 1.0MB 42.8MB/s eta 0:00:01\r\u001b[K     |████████████████████████▎       | 1.0MB 42.8MB/s eta 0:00:01\r\u001b[K     |████████████████████████▌       | 1.0MB 42.8MB/s eta 0:00:01\r\u001b[K     |████████████████████████▊       | 1.1MB 42.8MB/s eta 0:00:01\r\u001b[K     |█████████████████████████       | 1.1MB 42.8MB/s eta 0:00:01\r\u001b[K     |█████████████████████████▎      | 1.1MB 42.8MB/s eta 0:00:01\r\u001b[K     |█████████████████████████▌      | 1.1MB 42.8MB/s eta 0:00:01\r\u001b[K     |█████████████████████████▊      | 1.1MB 42.8MB/s eta 0:00:01\r\u001b[K     |██████████████████████████      | 1.1MB 42.8MB/s eta 0:00:01\r\u001b[K     |██████████████████████████▏     | 1.1MB 42.8MB/s eta 0:00:01\r\u001b[K     |██████████████████████████▍     | 1.1MB 42.8MB/s eta 0:00:01\r\u001b[K     |██████████████████████████▊     | 1.1MB 42.8MB/s eta 0:00:01\r\u001b[K     |███████████████████████████     | 1.1MB 42.8MB/s eta 0:00:01\r\u001b[K     |███████████████████████████▏    | 1.2MB 42.8MB/s eta 0:00:01\r\u001b[K     |███████████████████████████▍    | 1.2MB 42.8MB/s eta 0:00:01\r\u001b[K     |███████████████████████████▋    | 1.2MB 42.8MB/s eta 0:00:01\r\u001b[K     |███████████████████████████▉    | 1.2MB 42.8MB/s eta 0:00:01\r\u001b[K     |████████████████████████████▏   | 1.2MB 42.8MB/s eta 0:00:01\r\u001b[K     |████████████████████████████▍   | 1.2MB 42.8MB/s eta 0:00:01\r\u001b[K     |████████████████████████████▋   | 1.2MB 42.8MB/s eta 0:00:01\r\u001b[K     |████████████████████████████▉   | 1.2MB 42.8MB/s eta 0:00:01\r\u001b[K     |█████████████████████████████   | 1.2MB 42.8MB/s eta 0:00:01\r\u001b[K     |█████████████████████████████▎  | 1.2MB 42.8MB/s eta 0:00:01\r\u001b[K     |█████████████████████████████▋  | 1.3MB 42.8MB/s eta 0:00:01\r\u001b[K     |█████████████████████████████▉  | 1.3MB 42.8MB/s eta 0:00:01\r\u001b[K     |██████████████████████████████  | 1.3MB 42.8MB/s eta 0:00:01\r\u001b[K     |██████████████████████████████▎ | 1.3MB 42.8MB/s eta 0:00:01\r\u001b[K     |██████████████████████████████▌ | 1.3MB 42.8MB/s eta 0:00:01\r\u001b[K     |██████████████████████████████▊ | 1.3MB 42.8MB/s eta 0:00:01\r\u001b[K     |███████████████████████████████ | 1.3MB 42.8MB/s eta 0:00:01\r\u001b[K     |███████████████████████████████▎| 1.3MB 42.8MB/s eta 0:00:01\r\u001b[K     |███████████████████████████████▌| 1.3MB 42.8MB/s eta 0:00:01\r\u001b[K     |███████████████████████████████▊| 1.4MB 42.8MB/s eta 0:00:01\r\u001b[K     |████████████████████████████████| 1.4MB 42.8MB/s eta 0:00:01\r\u001b[K     |████████████████████████████████| 1.4MB 42.8MB/s \n",
            "\u001b[?25h  Installing build dependencies ... \u001b[?25l\u001b[?25hdone\n",
            "  Getting requirements to build wheel ... \u001b[?25l\u001b[?25hdone\n",
            "    Preparing wheel metadata ... \u001b[?25l\u001b[?25hdone\n",
            "Collecting fiona\n",
            "\u001b[?25l  Downloading https://files.pythonhosted.org/packages/ec/20/4e63bc5c6e62df889297b382c3ccd4a7a488b00946aaaf81a118158c6f09/Fiona-1.8.13.post1-cp36-cp36m-manylinux1_x86_64.whl (14.7MB)\n",
            "\u001b[K     |████████████████████████████████| 14.7MB 308kB/s \n",
            "\u001b[?25hRequirement already satisfied: pandas>=0.23.0 in /usr/local/lib/python3.6/dist-packages (from geopandas) (1.0.3)\n",
            "Requirement already satisfied: shapely in /usr/local/lib/python3.6/dist-packages (from geopandas) (1.7.0)\n",
            "Collecting pyproj>=2.2.0\n",
            "\u001b[?25l  Downloading https://files.pythonhosted.org/packages/ce/37/705ee471f71130d4ceee41bbcb06f3b52175cb89273cbb5755ed5e6374e0/pyproj-2.6.0-cp36-cp36m-manylinux2010_x86_64.whl (10.4MB)\n",
            "\u001b[K     |████████████████████████████████| 10.4MB 38.8MB/s \n",
            "\u001b[?25hRequirement already satisfied: scikit-image in /usr/local/lib/python3.6/dist-packages (from earthpy) (0.16.2)\n",
            "Requirement already satisfied: matplotlib>=2.0.0 in /usr/local/lib/python3.6/dist-packages (from earthpy) (3.2.1)\n",
            "Requirement already satisfied: requests in /usr/local/lib/python3.6/dist-packages (from earthpy) (2.21.0)\n",
            "Requirement already satisfied: numpy>=1.14.0 in /usr/local/lib/python3.6/dist-packages (from earthpy) (1.18.2)\n",
            "Collecting rasterio\n",
            "\u001b[?25l  Downloading https://files.pythonhosted.org/packages/c7/81/13321f88f582a00705c5f348724728e8999136e19d6e7c56f7e6ac9bb7f9/rasterio-1.1.3-cp36-cp36m-manylinux1_x86_64.whl (18.1MB)\n",
            "\u001b[K     |████████████████████████████████| 18.1MB 237kB/s \n",
            "\u001b[?25hCollecting cligj>=0.5\n",
            "  Downloading https://files.pythonhosted.org/packages/e4/be/30a58b4b0733850280d01f8bd132591b4668ed5c7046761098d665ac2174/cligj-0.5.0-py3-none-any.whl\n",
            "Requirement already satisfied: attrs>=17 in /usr/local/lib/python3.6/dist-packages (from fiona->geopandas) (19.3.0)\n",
            "Requirement already satisfied: six>=1.7 in /usr/local/lib/python3.6/dist-packages (from fiona->geopandas) (1.12.0)\n",
            "Collecting munch\n",
            "  Downloading https://files.pythonhosted.org/packages/cc/ab/85d8da5c9a45e072301beb37ad7f833cd344e04c817d97e0cc75681d248f/munch-2.5.0-py2.py3-none-any.whl\n",
            "Collecting click-plugins>=1.0\n",
            "  Downloading https://files.pythonhosted.org/packages/e9/da/824b92d9942f4e472702488857914bdd50f73021efea15b4cad9aca8ecef/click_plugins-1.1.1-py2.py3-none-any.whl\n",
            "Requirement already satisfied: click<8,>=4.0 in /usr/local/lib/python3.6/dist-packages (from fiona->geopandas) (7.1.1)\n",
            "Requirement already satisfied: python-dateutil>=2.6.1 in /usr/local/lib/python3.6/dist-packages (from pandas>=0.23.0->geopandas) (2.8.1)\n",
            "Requirement already satisfied: pytz>=2017.2 in /usr/local/lib/python3.6/dist-packages (from pandas>=0.23.0->geopandas) (2018.9)\n",
            "Requirement already satisfied: PyWavelets>=0.4.0 in /usr/local/lib/python3.6/dist-packages (from scikit-image->earthpy) (1.1.1)\n",
            "Requirement already satisfied: networkx>=2.0 in /usr/local/lib/python3.6/dist-packages (from scikit-image->earthpy) (2.4)\n",
            "Requirement already satisfied: pillow>=4.3.0 in /usr/local/lib/python3.6/dist-packages (from scikit-image->earthpy) (7.0.0)\n",
            "Requirement already satisfied: scipy>=0.19.0 in /usr/local/lib/python3.6/dist-packages (from scikit-image->earthpy) (1.4.1)\n",
            "Requirement already satisfied: imageio>=2.3.0 in /usr/local/lib/python3.6/dist-packages (from scikit-image->earthpy) (2.4.1)\n",
            "Requirement already satisfied: kiwisolver>=1.0.1 in /usr/local/lib/python3.6/dist-packages (from matplotlib>=2.0.0->earthpy) (1.2.0)\n",
            "Requirement already satisfied: cycler>=0.10 in /usr/local/lib/python3.6/dist-packages (from matplotlib>=2.0.0->earthpy) (0.10.0)\n",
            "Requirement already satisfied: pyparsing!=2.0.4,!=2.1.2,!=2.1.6,>=2.0.1 in /usr/local/lib/python3.6/dist-packages (from matplotlib>=2.0.0->earthpy) (2.4.7)\n",
            "Requirement already satisfied: certifi>=2017.4.17 in /usr/local/lib/python3.6/dist-packages (from requests->earthpy) (2020.4.5.1)\n",
            "Requirement already satisfied: urllib3<1.25,>=1.21.1 in /usr/local/lib/python3.6/dist-packages (from requests->earthpy) (1.24.3)\n",
            "Requirement already satisfied: idna<2.9,>=2.5 in /usr/local/lib/python3.6/dist-packages (from requests->earthpy) (2.8)\n",
            "Requirement already satisfied: chardet<3.1.0,>=3.0.2 in /usr/local/lib/python3.6/dist-packages (from requests->earthpy) (3.0.4)\n",
            "Collecting snuggs>=1.4.1\n",
            "  Downloading https://files.pythonhosted.org/packages/cc/0e/d27d6e806d6c0d1a2cfdc5d1f088e42339a0a54a09c3343f7f81ec8947ea/snuggs-1.4.7-py3-none-any.whl\n",
            "Collecting affine\n",
            "  Downloading https://files.pythonhosted.org/packages/ac/a6/1a39a1ede71210e3ddaf623982b06ecfc5c5c03741ae659073159184cd3e/affine-2.3.0-py2.py3-none-any.whl\n",
            "Requirement already satisfied: decorator>=4.3.0 in /usr/local/lib/python3.6/dist-packages (from networkx>=2.0->scikit-image->earthpy) (4.4.2)\n",
            "Building wheels for collected packages: earthpy\n",
            "  Building wheel for earthpy (PEP 517) ... \u001b[?25l\u001b[?25hdone\n",
            "  Created wheel for earthpy: filename=earthpy-0.9.1-cp36-none-any.whl size=1365034 sha256=42bd447de9cdecf9da738ff58bd29517d28f50015a95d9fa971181029f1de64a\n",
            "  Stored in directory: /root/.cache/pip/wheels/19/73/bc/a463e618369ee186e5427252daabcda420b04be3644b2df40f\n",
            "Successfully built earthpy\n",
            "Installing collected packages: cligj, munch, click-plugins, fiona, pyproj, geopandas, snuggs, affine, rasterio, earthpy\n",
            "Successfully installed affine-2.3.0 click-plugins-1.1.1 cligj-0.5.0 earthpy-0.9.1 fiona-1.8.13.post1 geopandas-0.7.0 munch-2.5.0 pyproj-2.6.0 rasterio-1.1.3 snuggs-1.4.7\n"
          ],
          "name": "stdout"
        }
      ]
    },
    {
      "cell_type": "code",
      "metadata": {
        "id": "sPuy0DUn1Rcj",
        "colab_type": "code",
        "colab": {}
      },
      "source": [
        "import os\n",
        "import matplotlib.pyplot as plt\n",
        "import geopandas as gpd\n",
        "import earthpy as et"
      ],
      "execution_count": 0,
      "outputs": []
    },
    {
      "cell_type": "code",
      "metadata": {
        "id": "7ypgAKN61UET",
        "colab_type": "code",
        "colab": {
          "base_uri": "https://localhost:8080/",
          "height": 388
        },
        "outputId": "246be6e9-0cb4-42dc-f135-59c8c094afef"
      },
      "source": [
        "india = gpd.read_file('IND_adm/IND_adm1.shp')\n",
        "print(sjer_plot_locations.shape)\n",
        "sjer_plot_locations.head()"
      ],
      "execution_count": 44,
      "outputs": [
        {
          "output_type": "stream",
          "text": [
            "(36, 10)\n"
          ],
          "name": "stdout"
        },
        {
          "output_type": "execute_result",
          "data": {
            "text/html": [
              "<div>\n",
              "<style scoped>\n",
              "    .dataframe tbody tr th:only-of-type {\n",
              "        vertical-align: middle;\n",
              "    }\n",
              "\n",
              "    .dataframe tbody tr th {\n",
              "        vertical-align: top;\n",
              "    }\n",
              "\n",
              "    .dataframe thead th {\n",
              "        text-align: right;\n",
              "    }\n",
              "</style>\n",
              "<table border=\"1\" class=\"dataframe\">\n",
              "  <thead>\n",
              "    <tr style=\"text-align: right;\">\n",
              "      <th></th>\n",
              "      <th>ID_0</th>\n",
              "      <th>ISO</th>\n",
              "      <th>NAME_0</th>\n",
              "      <th>ID_1</th>\n",
              "      <th>NAME_1</th>\n",
              "      <th>TYPE_1</th>\n",
              "      <th>ENGTYPE_1</th>\n",
              "      <th>NL_NAME_1</th>\n",
              "      <th>VARNAME_1</th>\n",
              "      <th>geometry</th>\n",
              "    </tr>\n",
              "  </thead>\n",
              "  <tbody>\n",
              "    <tr>\n",
              "      <th>0</th>\n",
              "      <td>105</td>\n",
              "      <td>IND</td>\n",
              "      <td>India</td>\n",
              "      <td>1</td>\n",
              "      <td>Andaman and Nicobar</td>\n",
              "      <td>Union Territor</td>\n",
              "      <td>Union Territory</td>\n",
              "      <td>None</td>\n",
              "      <td>Andaman &amp; Nicobar Islands|Andaman et Nicobar|I...</td>\n",
              "      <td>MULTIPOLYGON (((93.78773 6.85264, 93.78849 6.8...</td>\n",
              "    </tr>\n",
              "    <tr>\n",
              "      <th>1</th>\n",
              "      <td>105</td>\n",
              "      <td>IND</td>\n",
              "      <td>India</td>\n",
              "      <td>2</td>\n",
              "      <td>Andhra Pradesh</td>\n",
              "      <td>State</td>\n",
              "      <td>State</td>\n",
              "      <td>None</td>\n",
              "      <td>None</td>\n",
              "      <td>MULTIPOLYGON (((80.27458 13.45958, 80.27458 13...</td>\n",
              "    </tr>\n",
              "    <tr>\n",
              "      <th>2</th>\n",
              "      <td>105</td>\n",
              "      <td>IND</td>\n",
              "      <td>India</td>\n",
              "      <td>3</td>\n",
              "      <td>Arunachal Pradesh</td>\n",
              "      <td>State</td>\n",
              "      <td>State</td>\n",
              "      <td>None</td>\n",
              "      <td>Agence de la Frontière du Nord-Est(French-obso...</td>\n",
              "      <td>POLYGON ((96.15778 29.38310, 96.16380 29.37668...</td>\n",
              "    </tr>\n",
              "    <tr>\n",
              "      <th>3</th>\n",
              "      <td>105</td>\n",
              "      <td>IND</td>\n",
              "      <td>India</td>\n",
              "      <td>4</td>\n",
              "      <td>Assam</td>\n",
              "      <td>State</td>\n",
              "      <td>State</td>\n",
              "      <td>None</td>\n",
              "      <td>None</td>\n",
              "      <td>MULTIPOLYGON (((89.87145 25.53730, 89.87118 25...</td>\n",
              "    </tr>\n",
              "    <tr>\n",
              "      <th>4</th>\n",
              "      <td>105</td>\n",
              "      <td>IND</td>\n",
              "      <td>India</td>\n",
              "      <td>5</td>\n",
              "      <td>Bihar</td>\n",
              "      <td>State</td>\n",
              "      <td>State</td>\n",
              "      <td>None</td>\n",
              "      <td>None</td>\n",
              "      <td>MULTIPOLYGON (((88.10548 26.53904, 88.10505 26...</td>\n",
              "    </tr>\n",
              "  </tbody>\n",
              "</table>\n",
              "</div>"
            ],
            "text/plain": [
              "   ID_0  ...                                           geometry\n",
              "0   105  ...  MULTIPOLYGON (((93.78773 6.85264, 93.78849 6.8...\n",
              "1   105  ...  MULTIPOLYGON (((80.27458 13.45958, 80.27458 13...\n",
              "2   105  ...  POLYGON ((96.15778 29.38310, 96.16380 29.37668...\n",
              "3   105  ...  MULTIPOLYGON (((89.87145 25.53730, 89.87118 25...\n",
              "4   105  ...  MULTIPOLYGON (((88.10548 26.53904, 88.10505 26...\n",
              "\n",
              "[5 rows x 10 columns]"
            ]
          },
          "metadata": {
            "tags": []
          },
          "execution_count": 44
        }
      ]
    },
    {
      "cell_type": "code",
      "metadata": {
        "id": "qwvm5xcj3VcX",
        "colab_type": "code",
        "colab": {
          "base_uri": "https://localhost:8080/",
          "height": 614
        },
        "outputId": "79b35bc9-b261-40d2-cfa0-1046c7443fd4"
      },
      "source": [
        "india.plot(column='NAME_1',categorical=True,figsize=(10,15),cmap='Reds')"
      ],
      "execution_count": 51,
      "outputs": [
        {
          "output_type": "execute_result",
          "data": {
            "text/plain": [
              "<matplotlib.axes._subplots.AxesSubplot at 0x7fde554bdd30>"
            ]
          },
          "metadata": {
            "tags": []
          },
          "execution_count": 51
        },
        {
          "output_type": "display_data",
          "data": {
            "image/png": "[encoded data removed]",
            "text/plain": [
              "<Figure size 720x1080 with 1 Axes>"
            ]
          },
          "metadata": {
            "tags": [],
            "needs_background": "light"
          }
        }
      ]
    },
    {
      "cell_type": "code",
      "metadata": {
        "id": "9Ne0ILTU7lHD",
        "colab_type": "code",
        "colab": {}
      },
      "source": [
        ""
      ],
      "execution_count": 0,
      "outputs": []
    }
  ]
}