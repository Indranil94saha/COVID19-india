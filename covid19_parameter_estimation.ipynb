{
  "nbformat": 4,
  "nbformat_minor": 0,
  "metadata": {
    "colab": {
      "name": "covid19_parameter_estimation.ipynb",
      "provenance": [],
      "collapsed_sections": [],
      "authorship_tag": "ABX9TyPCtTyPWxcge8/WbbIlvhQk",
      "include_colab_link": true
    },
    "kernelspec": {
      "name": "python3",
      "display_name": "Python 3"
    }
  },
  "cells": [
    {
      "cell_type": "markdown",
      "metadata": {
        "id": "view-in-github",
        "colab_type": "text"
      },
      "source": [
        "<a href=\"https://colab.research.google.com/github/stories-of-life/COVID19-india/blob/develop/covid19_parameter_estimation.ipynb\" target=\"_parent\"><img src=\"https://colab.research.google.com/assets/colab-badge.svg\" alt=\"Open In Colab\"/></a>"
      ]
    },
    {
      "cell_type": "code",
      "metadata": {
        "id": "_-miEqO2yYMa",
        "colab_type": "code",
        "colab": {}
      },
      "source": [
        "import numpy as np\n",
        "import matplotlib.pyplot as plt"
      ],
      "execution_count": 0,
      "outputs": []
    },
    {
      "cell_type": "code",
      "metadata": {
        "id": "gQQqEmfdt7d6",
        "colab_type": "code",
        "colab": {}
      },
      "source": [
        "x=np.arange(-10,10,0.1)"
      ],
      "execution_count": 0,
      "outputs": []
    },
    {
      "cell_type": "code",
      "metadata": {
        "id": "_ylJCHuquHjZ",
        "colab_type": "code",
        "outputId": "81840882-fe73-498d-b6e5-26949f1712f3",
        "colab": {
          "base_uri": "https://localhost:8080/",
          "height": 285
        }
      },
      "source": [
        "a1,b1=1.5,0.5\n",
        "\n",
        "y1=a1*np.sin(x)+b1*x\n",
        "plt.plot(x,y1)"
      ],
      "execution_count": 58,
      "outputs": [
        {
          "output_type": "execute_result",
          "data": {
            "text/plain": [
              "[<matplotlib.lines.Line2D at 0x7fb4519f8b38>]"
            ]
          },
          "metadata": {
            "tags": []
          },
          "execution_count": 58
        },
        {
          "output_type": "display_data",
          "data": {
            "image/png": "[encoded data removed]",
            "text/plain": [
              "<Figure size 432x288 with 1 Axes>"
            ]
          },
          "metadata": {
            "tags": [],
            "needs_background": "light"
          }
        }
      ]
    },
    {
      "cell_type": "code",
      "metadata": {
        "id": "u5Dh4C9IuWZy",
        "colab_type": "code",
        "outputId": "81bed489-0721-40a9-b82f-62237a0c355b",
        "colab": {
          "base_uri": "https://localhost:8080/",
          "height": 282
        }
      },
      "source": [
        "a2,b2,c2,d2=10.556,5.21,-15.45,25.1\n",
        "\n",
        "y2=a2*x**3+b2*x**2+c2*x+d2\n",
        "plt.plot(x,y2)"
      ],
      "execution_count": 59,
      "outputs": [
        {
          "output_type": "execute_result",
          "data": {
            "text/plain": [
              "[<matplotlib.lines.Line2D at 0x7fb451960780>]"
            ]
          },
          "metadata": {
            "tags": []
          },
          "execution_count": 59
        },
        {
          "output_type": "display_data",
          "data": {
            "image/png": "[encoded data removed]",
            "text/plain": [
              "<Figure size 432x288 with 1 Axes>"
            ]
          },
          "metadata": {
            "tags": [],
            "needs_background": "light"
          }
        }
      ]
    },
    {
      "cell_type": "code",
      "metadata": {
        "id": "qsWQK-aTxMfN",
        "colab_type": "code",
        "colab": {}
      },
      "source": [
        "from scipy.optimize import curve_fit"
      ],
      "execution_count": 0,
      "outputs": []
    },
    {
      "cell_type": "code",
      "metadata": {
        "id": "2o0z9-hDu_u7",
        "colab_type": "code",
        "outputId": "07bbead2-bd85-4657-9e64-252ab62e4dc3",
        "colab": {
          "base_uri": "https://localhost:8080/",
          "height": 52
        }
      },
      "source": [
        "def func1(x,a,b):\n",
        "  return a*np.sin(x)+b*x\n",
        "\n",
        "out=curve_fit(func1,x,y1)\n",
        "print(out)"
      ],
      "execution_count": 61,
      "outputs": [
        {
          "output_type": "stream",
          "text": [
            "(array([1.5, 0.5]), array([[ 0., -0.],\n",
            "       [-0.,  0.]]))\n"
          ],
          "name": "stdout"
        }
      ]
    },
    {
      "cell_type": "code",
      "metadata": {
        "id": "W6Ox6mulw3-m",
        "colab_type": "code",
        "outputId": "1728fc94-1c4a-4c8a-eeb6-c416b9e4af2c",
        "colab": {
          "base_uri": "https://localhost:8080/",
          "height": 156
        }
      },
      "source": [
        "def func1(x,a,b,c,d):\n",
        "  return a*x**3+b*x**2+c*x+d\n",
        "\n",
        "out=curve_fit(func1,x,y2)\n",
        "print(out)"
      ],
      "execution_count": 62,
      "outputs": [
        {
          "output_type": "stream",
          "text": [
            "(array([ 10.556,   5.21 , -15.45 ,  25.1  ]), array([[ 5.40291624e-32,  8.10436790e-33, -3.24115538e-30,\n",
            "        -1.62071302e-31],\n",
            "       [ 8.10436790e-33,  1.39022315e-30, -3.47272057e-31,\n",
            "        -4.63199249e-29],\n",
            "       [-3.24115538e-30, -3.47272057e-31,  2.31484081e-28,\n",
            "         6.94476396e-30],\n",
            "       [-1.62071302e-31, -4.63199249e-29,  6.94476396e-30,\n",
            "         2.77813188e-27]]))\n"
          ],
          "name": "stdout"
        }
      ]
    },
    {
      "cell_type": "code",
      "metadata": {
        "id": "2houK4i7yjYU",
        "colab_type": "code",
        "outputId": "774165fd-ae9b-4964-cf76-47c27ed9ac7c",
        "colab": {
          "base_uri": "https://localhost:8080/",
          "height": 385
        }
      },
      "source": [
        "def func1(x,a1,b1,a2,b2,c2,d2):\n",
        "  y1=a1*np.sin(x)+b1*x\n",
        "  y2=a2*x**3+b2*x**2+c2*x+d2\n",
        "  return (y1,y2)\n",
        "\n",
        "out=curve_fit(func1,x,(y1,y2))\n",
        "print(out)"
      ],
      "execution_count": 63,
      "outputs": [
        {
          "output_type": "error",
          "ename": "TypeError",
          "evalue": "ignored",
          "traceback": [
            "\u001b[0;31m---------------------------------------------------------------------------\u001b[0m",
            "\u001b[0;31mTypeError\u001b[0m                                 Traceback (most recent call last)",
            "\u001b[0;32m<ipython-input-63-b43f092f3f53>\u001b[0m in \u001b[0;36m<module>\u001b[0;34m()\u001b[0m\n\u001b[1;32m      4\u001b[0m   \u001b[0;32mreturn\u001b[0m \u001b[0;34m(\u001b[0m\u001b[0my1\u001b[0m\u001b[0;34m,\u001b[0m\u001b[0my2\u001b[0m\u001b[0;34m)\u001b[0m\u001b[0;34m\u001b[0m\u001b[0;34m\u001b[0m\u001b[0m\n\u001b[1;32m      5\u001b[0m \u001b[0;34m\u001b[0m\u001b[0m\n\u001b[0;32m----> 6\u001b[0;31m \u001b[0mout\u001b[0m\u001b[0;34m=\u001b[0m\u001b[0mcurve_fit\u001b[0m\u001b[0;34m(\u001b[0m\u001b[0mfunc1\u001b[0m\u001b[0;34m,\u001b[0m\u001b[0mx\u001b[0m\u001b[0;34m,\u001b[0m\u001b[0;34m(\u001b[0m\u001b[0my1\u001b[0m\u001b[0;34m,\u001b[0m\u001b[0my2\u001b[0m\u001b[0;34m)\u001b[0m\u001b[0;34m)\u001b[0m\u001b[0;34m\u001b[0m\u001b[0;34m\u001b[0m\u001b[0m\n\u001b[0m\u001b[1;32m      7\u001b[0m \u001b[0mprint\u001b[0m\u001b[0;34m(\u001b[0m\u001b[0mout\u001b[0m\u001b[0;34m)\u001b[0m\u001b[0;34m\u001b[0m\u001b[0;34m\u001b[0m\u001b[0m\n",
            "\u001b[0;32m/usr/local/lib/python3.6/dist-packages/scipy/optimize/minpack.py\u001b[0m in \u001b[0;36mcurve_fit\u001b[0;34m(f, xdata, ydata, p0, sigma, absolute_sigma, check_finite, bounds, method, jac, **kwargs)\u001b[0m\n\u001b[1;32m    761\u001b[0m         \u001b[0;31m# Remove full_output from kwargs, otherwise we're passing it in twice.\u001b[0m\u001b[0;34m\u001b[0m\u001b[0;34m\u001b[0m\u001b[0;34m\u001b[0m\u001b[0m\n\u001b[1;32m    762\u001b[0m         \u001b[0mreturn_full\u001b[0m \u001b[0;34m=\u001b[0m \u001b[0mkwargs\u001b[0m\u001b[0;34m.\u001b[0m\u001b[0mpop\u001b[0m\u001b[0;34m(\u001b[0m\u001b[0;34m'full_output'\u001b[0m\u001b[0;34m,\u001b[0m \u001b[0;32mFalse\u001b[0m\u001b[0;34m)\u001b[0m\u001b[0;34m\u001b[0m\u001b[0;34m\u001b[0m\u001b[0m\n\u001b[0;32m--> 763\u001b[0;31m         \u001b[0mres\u001b[0m \u001b[0;34m=\u001b[0m \u001b[0mleastsq\u001b[0m\u001b[0;34m(\u001b[0m\u001b[0mfunc\u001b[0m\u001b[0;34m,\u001b[0m \u001b[0mp0\u001b[0m\u001b[0;34m,\u001b[0m \u001b[0mDfun\u001b[0m\u001b[0;34m=\u001b[0m\u001b[0mjac\u001b[0m\u001b[0;34m,\u001b[0m \u001b[0mfull_output\u001b[0m\u001b[0;34m=\u001b[0m\u001b[0;36m1\u001b[0m\u001b[0;34m,\u001b[0m \u001b[0;34m**\u001b[0m\u001b[0mkwargs\u001b[0m\u001b[0;34m)\u001b[0m\u001b[0;34m\u001b[0m\u001b[0;34m\u001b[0m\u001b[0m\n\u001b[0m\u001b[1;32m    764\u001b[0m         \u001b[0mpopt\u001b[0m\u001b[0;34m,\u001b[0m \u001b[0mpcov\u001b[0m\u001b[0;34m,\u001b[0m \u001b[0minfodict\u001b[0m\u001b[0;34m,\u001b[0m \u001b[0merrmsg\u001b[0m\u001b[0;34m,\u001b[0m \u001b[0mier\u001b[0m \u001b[0;34m=\u001b[0m \u001b[0mres\u001b[0m\u001b[0;34m\u001b[0m\u001b[0;34m\u001b[0m\u001b[0m\n\u001b[1;32m    765\u001b[0m         \u001b[0mysize\u001b[0m \u001b[0;34m=\u001b[0m \u001b[0mlen\u001b[0m\u001b[0;34m(\u001b[0m\u001b[0minfodict\u001b[0m\u001b[0;34m[\u001b[0m\u001b[0;34m'fvec'\u001b[0m\u001b[0;34m]\u001b[0m\u001b[0;34m)\u001b[0m\u001b[0;34m\u001b[0m\u001b[0;34m\u001b[0m\u001b[0m\n",
            "\u001b[0;32m/usr/local/lib/python3.6/dist-packages/scipy/optimize/minpack.py\u001b[0m in \u001b[0;36mleastsq\u001b[0;34m(func, x0, args, Dfun, full_output, col_deriv, ftol, xtol, gtol, maxfev, epsfcn, factor, diag)\u001b[0m\n\u001b[1;32m    390\u001b[0m \u001b[0;34m\u001b[0m\u001b[0m\n\u001b[1;32m    391\u001b[0m     \u001b[0;32mif\u001b[0m \u001b[0mn\u001b[0m \u001b[0;34m>\u001b[0m \u001b[0mm\u001b[0m\u001b[0;34m:\u001b[0m\u001b[0;34m\u001b[0m\u001b[0;34m\u001b[0m\u001b[0m\n\u001b[0;32m--> 392\u001b[0;31m         \u001b[0;32mraise\u001b[0m \u001b[0mTypeError\u001b[0m\u001b[0;34m(\u001b[0m\u001b[0;34m'Improper input: N=%s must not exceed M=%s'\u001b[0m \u001b[0;34m%\u001b[0m \u001b[0;34m(\u001b[0m\u001b[0mn\u001b[0m\u001b[0;34m,\u001b[0m \u001b[0mm\u001b[0m\u001b[0;34m)\u001b[0m\u001b[0;34m)\u001b[0m\u001b[0;34m\u001b[0m\u001b[0;34m\u001b[0m\u001b[0m\n\u001b[0m\u001b[1;32m    393\u001b[0m \u001b[0;34m\u001b[0m\u001b[0m\n\u001b[1;32m    394\u001b[0m     \u001b[0;32mif\u001b[0m \u001b[0mepsfcn\u001b[0m \u001b[0;32mis\u001b[0m \u001b[0;32mNone\u001b[0m\u001b[0;34m:\u001b[0m\u001b[0;34m\u001b[0m\u001b[0;34m\u001b[0m\u001b[0m\n",
            "\u001b[0;31mTypeError\u001b[0m: Improper input: N=6 must not exceed M=2"
          ]
        }
      ]
    },
    {
      "cell_type": "code",
      "metadata": {
        "id": "ToUpENsU2V0p",
        "colab_type": "code",
        "outputId": "7548f50b-353f-4247-ad83-54bac91838ca",
        "colab": {
          "base_uri": "https://localhost:8080/",
          "height": 264
        }
      },
      "source": [
        "def func1(X,a1,b1,a2,b2,c2,d2):\n",
        "  x1,x2=X\n",
        "  y1=a1*np.sin(x1)+b1*x1\n",
        "  y2=a2*x2**3+b2*x2**2+c2*x2+d2\n",
        "  return np.concatenate((y1,y2))\n",
        "\n",
        "X=(x,x)\n",
        "Y=np.concatenate((y1,y2))\n",
        "#print(X)\n",
        "print(Y.shape)\n",
        "out=curve_fit(func1,X,Y)\n",
        "print(out)"
      ],
      "execution_count": 64,
      "outputs": [
        {
          "output_type": "stream",
          "text": [
            "(400,)\n",
            "(array([  1.5  ,   0.5  ,  10.556,   5.21 , -15.45 ,  25.1  ]), array([[ 2.63708280e-27, -6.20151307e-29, -2.46405704e-46,\n",
            "         1.29975529e-45,  1.81042187e-44,  7.02909910e-44],\n",
            "       [-6.20151307e-29,  3.77547428e-29,  2.08927128e-47,\n",
            "        -3.44772852e-47, -1.51990046e-45, -7.47012869e-45],\n",
            "       [-2.46405704e-46,  2.08927128e-47,  5.29533541e-32,\n",
            "         7.94295479e-33, -3.17661882e-30, -1.58842549e-31],\n",
            "       [ 1.29975529e-45, -3.44772852e-47,  7.94295479e-33,\n",
            "         1.36254381e-30, -3.40354460e-31, -4.53976970e-29],\n",
            "       [ 1.81042187e-44, -1.51990046e-45, -3.17661882e-30,\n",
            "        -3.40354460e-31,  2.26874890e-28,  6.80637806e-30],\n",
            "       [ 7.02909910e-44, -7.47012869e-45, -1.58842549e-31,\n",
            "        -4.53976970e-29,  6.80637806e-30,  2.72281674e-27]]))\n"
          ],
          "name": "stdout"
        }
      ]
    },
    {
      "cell_type": "code",
      "metadata": {
        "id": "4fMfMPTMBdq9",
        "colab_type": "code",
        "colab": {
          "base_uri": "https://localhost:8080/",
          "height": 264
        },
        "outputId": "666fa85f-203d-4768-9ac1-92d9fea161be"
      },
      "source": [
        "def func1(x,a1,b1,a2,b2,c2,d2):\n",
        "  y1=a1*np.sin(x)+b1*x\n",
        "  y2=a2*x**3+b2*x**2+c2*x+d2\n",
        "  return np.concatenate((y1,y2))\n",
        "\n",
        "Y=np.concatenate((y1,y2))\n",
        "#print(X)\n",
        "print(Y.shape)\n",
        "out=curve_fit(func1,x,Y)\n",
        "print(out)"
      ],
      "execution_count": 66,
      "outputs": [
        {
          "output_type": "stream",
          "text": [
            "(400,)\n",
            "(array([  1.5  ,   0.5  ,  10.556,   5.21 , -15.45 ,  25.1  ]), array([[ 2.63708280e-27, -6.20151307e-29, -2.46405704e-46,\n",
            "         1.29975529e-45,  1.81042187e-44,  7.02909910e-44],\n",
            "       [-6.20151307e-29,  3.77547428e-29,  2.08927128e-47,\n",
            "        -3.44772852e-47, -1.51990046e-45, -7.47012869e-45],\n",
            "       [-2.46405704e-46,  2.08927128e-47,  5.29533541e-32,\n",
            "         7.94295479e-33, -3.17661882e-30, -1.58842549e-31],\n",
            "       [ 1.29975529e-45, -3.44772852e-47,  7.94295479e-33,\n",
            "         1.36254381e-30, -3.40354460e-31, -4.53976970e-29],\n",
            "       [ 1.81042187e-44, -1.51990046e-45, -3.17661882e-30,\n",
            "        -3.40354460e-31,  2.26874890e-28,  6.80637806e-30],\n",
            "       [ 7.02909910e-44, -7.47012869e-45, -1.58842549e-31,\n",
            "        -4.53976970e-29,  6.80637806e-30,  2.72281674e-27]]))\n"
          ],
          "name": "stdout"
        }
      ]
    },
    {
      "cell_type": "code",
      "metadata": {
        "id": "YzI3Bzr96CD2",
        "colab_type": "code",
        "outputId": "70134af3-c88b-4cd1-c3d1-9d51eab55e67",
        "colab": {
          "base_uri": "https://localhost:8080/",
          "height": 561
        }
      },
      "source": [
        "!wget https://github.com/stories-of-life/COVID19-india/raw/develop/influenza_pandemic_england_whales_data_he_et_el.zip\n",
        "!unzip influenza_pandemic_england_whales_data_he_et_el.zip -d he_et_el_data"
      ],
      "execution_count": 7,
      "outputs": [
        {
          "output_type": "stream",
          "text": [
            "--2020-04-20 09:07:20--  https://github.com/stories-of-life/COVID19-india/raw/develop/influenza_pandemic_england_whales_data_he_et_el.zip\n",
            "Resolving github.com (github.com)... 140.82.112.4\n",
            "Connecting to github.com (github.com)|140.82.112.4|:443... connected.\n",
            "HTTP request sent, awaiting response... 302 Found\n",
            "Location: https://raw.githubusercontent.com/stories-of-life/COVID19-india/develop/influenza_pandemic_england_whales_data_he_et_el.zip [following]\n",
            "--2020-04-20 09:07:21--  https://raw.githubusercontent.com/stories-of-life/COVID19-india/develop/influenza_pandemic_england_whales_data_he_et_el.zip\n",
            "Resolving raw.githubusercontent.com (raw.githubusercontent.com)... 151.101.0.133, 151.101.64.133, 151.101.128.133, ...\n",
            "Connecting to raw.githubusercontent.com (raw.githubusercontent.com)|151.101.0.133|:443... connected.\n",
            "HTTP request sent, awaiting response... 200 OK\n",
            "Length: 165414 (162K) [application/zip]\n",
            "Saving to: ‘influenza_pandemic_england_whales_data_he_et_el.zip’\n",
            "\n",
            "\r          influenza   0%[                    ]       0  --.-KB/s               \rinfluenza_pandemic_ 100%[===================>] 161.54K  --.-KB/s    in 0.03s   \n",
            "\n",
            "2020-04-20 09:07:21 (5.19 MB/s) - ‘influenza_pandemic_england_whales_data_he_et_el.zip’ saved [165414/165414]\n",
            "\n",
            "Archive:  influenza_pandemic_england_whales_data_he_et_el.zip\n",
            "   creating: he_et_el_data/UKDA-4350-tab/\n",
            "   creating: he_et_el_data/UKDA-4350-tab/tab/\n",
            "  inflating: he_et_el_data/UKDA-4350-tab/tab/RGdataRATE.tab  \n",
            "  inflating: he_et_el_data/UKDA-4350-tab/tab/RGdataRAW.tab  \n",
            "   creating: he_et_el_data/UKDA-4350-tab/mrdoc/\n",
            "   creating: he_et_el_data/UKDA-4350-tab/mrdoc/pdf/\n",
            "  inflating: he_et_el_data/UKDA-4350-tab/mrdoc/pdf/guide.pdf  \n",
            "   creating: he_et_el_data/UKDA-4350-tab/mrdoc/rtf/\n",
            "  inflating: he_et_el_data/UKDA-4350-tab/mrdoc/rtf/guide.rtf  \n",
            "   creating: he_et_el_data/UKDA-4350-tab/mrdoc/UKDA/\n",
            "  inflating: he_et_el_data/UKDA-4350-tab/mrdoc/UKDA/UKDA_Study_4350_Information.htm  \n",
            "  inflating: he_et_el_data/UKDA-4350-tab/read4350.txt  \n",
            "  inflating: he_et_el_data/UKDA-4350-tab/4350_file_information.rtf  \n"
          ],
          "name": "stdout"
        }
      ]
    },
    {
      "cell_type": "code",
      "metadata": {
        "id": "FtQCRaZ21Bsf",
        "colab_type": "code",
        "colab": {
          "base_uri": "https://localhost:8080/",
          "height": 733
        },
        "outputId": "6de44af7-3eec-40f9-c203-083c92d4d0a5"
      },
      "source": [
        "!cat /content/he_et_el_data/UKDA-4350-tab/read4350.txt"
      ],
      "execution_count": 9,
      "outputs": [
        {
          "output_type": "stream",
          "text": [
            "4350 - 1918-1919 Influenza Pandemic Mortality in England and Wales\r\n",
            "\r\n",
            "\r\n",
            "\r\n",
            "Dataset Type\r\n",
            "============\r\n",
            "Spreadsheet (1 file containing 2 worksheets)\r\n",
            "\r\n",
            "\r\n",
            "\r\n",
            "Dataset Format\r\n",
            "==============\r\n",
            "The following data formats have been prepared by the History Data\r\n",
            "Service.\r\n",
            "\r\n",
            "Microsoft Excel97 (1 file containing 2 worksheets)\r\n",
            "\r\n",
            "OR\r\n",
            "\r\n",
            "tab delimited text (2 files)\r\n",
            "\r\n",
            "If requested, data may have been supplied in other formats where\r\n",
            "practicable.\r\n",
            "\r\n",
            "\r\n",
            "\r\n",
            "Using the Data\r\n",
            "==============\r\n",
            "The first two rows are headers, and there are a further two sub-\r\n",
            "divisions in the data each with a header row. Because of this there are\r\n",
            "a total of 337 rows in the spreadsheet/text file, but only 333 records\r\n",
            "\r\n",
            "\r\n",
            "Documentation\r\n",
            "=============\r\n",
            "The History Data Service has made minor modifications to the file \r\n",
            "\"guide.pdf\"/\"guide.rtf\" supplied by the depositor.\r\n",
            "\r\n",
            "\r\n",
            "\r\n",
            "Hamish James, History Data Service, 05/04/2001\r\n"
          ],
          "name": "stdout"
        }
      ]
    },
    {
      "cell_type": "code",
      "metadata": {
        "id": "RXFt44iw2XRd",
        "colab_type": "code",
        "colab": {
          "base_uri": "https://localhost:8080/",
          "height": 34
        },
        "outputId": "a912b5ed-1a0e-46f5-9b01-d8d45ebeae74"
      },
      "source": [
        "!xdg -open /content/he_et_el_data/UKDA-4350-tab/mrdoc/UKDA/UKDA_Study_4350_Information.htm"
      ],
      "execution_count": 19,
      "outputs": [
        {
          "output_type": "stream",
          "text": [
            "/bin/bash: xdg: command not found\n"
          ],
          "name": "stdout"
        }
      ]
    },
    {
      "cell_type": "markdown",
      "metadata": {
        "id": "qgFw2QFO5_GB",
        "colab_type": "text"
      },
      "source": [
        "# ODE"
      ]
    },
    {
      "cell_type": "code",
      "metadata": {
        "id": "D12nmJ_86f2h",
        "colab_type": "code",
        "colab": {}
      },
      "source": [
        "import numpy as np\n",
        "from scipy.integrate import odeint\n",
        "from scipy.optimize import curve_fit\n",
        "import matplotlib.pyplot as plt"
      ],
      "execution_count": 0,
      "outputs": []
    },
    {
      "cell_type": "code",
      "metadata": {
        "id": "6VEsxpxk57mw",
        "colab_type": "code",
        "colab": {
          "base_uri": "https://localhost:8080/",
          "height": 282
        },
        "outputId": "57c4c019-4747-4894-ac07-b498fe46246c"
      },
      "source": [
        "def model(y,t,R0):\n",
        "  S=y[0]\n",
        "  I=y[1]\n",
        "  R=y[2]\n",
        " \n",
        "  dSdt=-1*R0*S*I\n",
        "  dIdt=R0*S*I-I\n",
        "  dRdt=I\n",
        "\n",
        "  return [dSdt,dIdt,dRdt]\n",
        "\n",
        "R0=1.455\n",
        "y0=[99999/100000,1/100000,0]\n",
        "\n",
        "t=np.linspace(0,25)\n",
        "sol=odeint(model,y0,t,args=(R0,))\n",
        "\n",
        "plt.plot(t,sol[:,0],'b',label='S')\n",
        "plt.plot(t,sol[:,1],'r',label='I')\n",
        "plt.plot(t,sol[:,2],'g',label='R')\n",
        "plt.legend()"
      ],
      "execution_count": 78,
      "outputs": [
        {
          "output_type": "execute_result",
          "data": {
            "text/plain": [
              "<matplotlib.legend.Legend at 0x7fb4517a63c8>"
            ]
          },
          "metadata": {
            "tags": []
          },
          "execution_count": 78
        },
        {
          "output_type": "display_data",
          "data": {
            "image/png": "[encoded data removed]",
            "text/plain": [
              "<Figure size 432x288 with 1 Axes>"
            ]
          },
          "metadata": {
            "tags": [],
            "needs_background": "light"
          }
        }
      ]
    },
    {
      "cell_type": "code",
      "metadata": {
        "id": "CNuyemsE5S0C",
        "colab_type": "code",
        "colab": {
          "base_uri": "https://localhost:8080/",
          "height": 34
        },
        "outputId": "87eaaff0-3547-4d41-e6cf-5ef1d1b82ed2"
      },
      "source": [
        "Y=sol.flatten('F')\n",
        "def fit_model(t,R0):\n",
        "  #print(f't={t}')\n",
        "  _sol=odeint(model,y0,t,args=(R0,))\n",
        "  #print(f'sol={sol}')\n",
        "  return _sol.flatten('F')\n",
        "\n",
        "out=curve_fit(fit_model,t,Y)\n",
        "print(out)"
      ],
      "execution_count": 86,
      "outputs": [
        {
          "output_type": "stream",
          "text": [
            "(array([1.455]), array([[5.28678251e-26]]))\n"
          ],
          "name": "stdout"
        }
      ]
    },
    {
      "cell_type": "code",
      "metadata": {
        "id": "F9ZU1IbG-cZr",
        "colab_type": "code",
        "colab": {
          "base_uri": "https://localhost:8080/",
          "height": 265
        },
        "outputId": "3268315b-7d94-4bd8-c39b-931374e8c87f"
      },
      "source": [
        "def seirModel(y,t,F,beta0,alpha,k,mu,sigma,gamma,d,lambda_):\n",
        "  S=y[0]\n",
        "  E=y[1]\n",
        "  I=y[2]\n",
        "  R=y[3]\n",
        "  N=y[4]\n",
        "  D=y[5]\n",
        "  C=y[6]\n",
        "\n",
        "  beta_t=beta0*(1-alpha)*((1-D/N)**k)\n",
        "  dSdt=-beta0*S*F/N-beta_t*S*I/N-mu*S\n",
        "  dEdt=beta0*S*F/N+beta_t*S*I/N-(sigma+mu)*E\n",
        "  dIdt=sigma*E-(gamma+mu)*I\n",
        "  dRdt=gamma*I-mu*R\n",
        "  dNdt=-mu*N\n",
        "  dDdt=d*gamma*I-lambda_*D\n",
        "  dCdt=sigma*E\n",
        "\n",
        "  return [dSdt,dEdt,dIdt,dRdt,dNdt,dDdt,dCdt]\n",
        "\n",
        "N0=14.0e6\n",
        "\n",
        "S0=0.9*N0\n",
        "E0=1.0 #\n",
        "I0=0.0 #\n",
        "R0=0.0 #\n",
        "N0=N0\n",
        "D0=0.0 #\n",
        "C0=1.0 #\n",
        "\n",
        "F=10\n",
        "beta0=0.5944\n",
        "alpha=0\n",
        "k=0\n",
        "mu=0.0205\n",
        "sigma=1.0/3\n",
        "gamma=1.0/5\n",
        "d=0\n",
        "lambda_=1/11.2\n",
        "\n",
        "y0=[S0,E0,I0,R0,N0,D0,C0]\n",
        "\n",
        "t=np.linspace(0,150)\n",
        "sol=odeint(seirModel,y0,t,args=(F,beta0,alpha,k,mu,sigma,gamma,d,lambda_))\n",
        "plt.plot(t,sol[:,2])\n",
        "plt.yscale('log')"
      ],
      "execution_count": 87,
      "outputs": [
        {
          "output_type": "display_data",
          "data": {
            "image/png": "[encoded data removed]",
            "text/plain": [
              "<Figure size 432x288 with 1 Axes>"
            ]
          },
          "metadata": {
            "tags": [],
            "needs_background": "light"
          }
        }
      ]
    },
    {
      "cell_type": "code",
      "metadata": {
        "id": "98suv671-0V5",
        "colab_type": "code",
        "colab": {
          "base_uri": "https://localhost:8080/",
          "height": 420
        },
        "outputId": "ffdd5336-0d67-4203-9afc-f3bc2d719853"
      },
      "source": [
        "Y=sol.flatten('F')\n",
        "def fit_model(t,F,beta0,alpha,k,mu,sigma,gamma,d,lambda_):\n",
        "  _sol=odeint(seirModel,y0,t,args=(F,beta0,alpha,k,mu,sigma,gamma,d,lambda_))\n",
        "  #print(_sol)\n",
        "  return _sol.flatten('F')\n",
        "\n",
        "out=curve_fit(fit_model,t,Y,bounds=(0,1))\n",
        "print(out)"
      ],
      "execution_count": 94,
      "outputs": [
        {
          "output_type": "stream",
          "text": [
            "/usr/local/lib/python3.6/dist-packages/ipykernel_launcher.py:10: RuntimeWarning: invalid value encountered in double_scalars\n",
            "  # Remove the CWD from sys.path while we load stuff.\n"
          ],
          "name": "stderr"
        },
        {
          "output_type": "error",
          "ename": "ValueError",
          "evalue": "ignored",
          "traceback": [
            "\u001b[0;31m---------------------------------------------------------------------------\u001b[0m",
            "\u001b[0;31mValueError\u001b[0m                                Traceback (most recent call last)",
            "\u001b[0;32m<ipython-input-94-94f50c00197b>\u001b[0m in \u001b[0;36m<module>\u001b[0;34m()\u001b[0m\n\u001b[1;32m      5\u001b[0m   \u001b[0;32mreturn\u001b[0m \u001b[0m_sol\u001b[0m\u001b[0;34m.\u001b[0m\u001b[0mflatten\u001b[0m\u001b[0;34m(\u001b[0m\u001b[0;34m'F'\u001b[0m\u001b[0;34m)\u001b[0m\u001b[0;34m\u001b[0m\u001b[0;34m\u001b[0m\u001b[0m\n\u001b[1;32m      6\u001b[0m \u001b[0;34m\u001b[0m\u001b[0m\n\u001b[0;32m----> 7\u001b[0;31m \u001b[0mout\u001b[0m\u001b[0;34m=\u001b[0m\u001b[0mcurve_fit\u001b[0m\u001b[0;34m(\u001b[0m\u001b[0mfit_model\u001b[0m\u001b[0;34m,\u001b[0m\u001b[0mt\u001b[0m\u001b[0;34m,\u001b[0m\u001b[0mY\u001b[0m\u001b[0;34m,\u001b[0m\u001b[0mbounds\u001b[0m\u001b[0;34m=\u001b[0m\u001b[0;34m(\u001b[0m\u001b[0;36m0\u001b[0m\u001b[0;34m,\u001b[0m\u001b[0;36m1\u001b[0m\u001b[0;34m)\u001b[0m\u001b[0;34m)\u001b[0m\u001b[0;34m\u001b[0m\u001b[0;34m\u001b[0m\u001b[0m\n\u001b[0m\u001b[1;32m      8\u001b[0m \u001b[0mprint\u001b[0m\u001b[0;34m(\u001b[0m\u001b[0mout\u001b[0m\u001b[0;34m)\u001b[0m\u001b[0;34m\u001b[0m\u001b[0;34m\u001b[0m\u001b[0m\n",
            "\u001b[0;32m/usr/local/lib/python3.6/dist-packages/scipy/optimize/minpack.py\u001b[0m in \u001b[0;36mcurve_fit\u001b[0;34m(f, xdata, ydata, p0, sigma, absolute_sigma, check_finite, bounds, method, jac, **kwargs)\u001b[0m\n\u001b[1;32m    773\u001b[0m \u001b[0;34m\u001b[0m\u001b[0m\n\u001b[1;32m    774\u001b[0m         res = least_squares(func, p0, jac=jac, bounds=bounds, method=method,\n\u001b[0;32m--> 775\u001b[0;31m                             **kwargs)\n\u001b[0m\u001b[1;32m    776\u001b[0m \u001b[0;34m\u001b[0m\u001b[0m\n\u001b[1;32m    777\u001b[0m         \u001b[0;32mif\u001b[0m \u001b[0;32mnot\u001b[0m \u001b[0mres\u001b[0m\u001b[0;34m.\u001b[0m\u001b[0msuccess\u001b[0m\u001b[0;34m:\u001b[0m\u001b[0;34m\u001b[0m\u001b[0;34m\u001b[0m\u001b[0m\n",
            "\u001b[0;32m/usr/local/lib/python3.6/dist-packages/scipy/optimize/_lsq/least_squares.py\u001b[0m in \u001b[0;36mleast_squares\u001b[0;34m(fun, x0, jac, bounds, method, ftol, xtol, gtol, x_scale, loss, f_scale, diff_step, tr_solver, tr_options, jac_sparsity, max_nfev, verbose, args, kwargs)\u001b[0m\n\u001b[1;32m    812\u001b[0m \u001b[0;34m\u001b[0m\u001b[0m\n\u001b[1;32m    813\u001b[0m     \u001b[0;32mif\u001b[0m \u001b[0;32mnot\u001b[0m \u001b[0mnp\u001b[0m\u001b[0;34m.\u001b[0m\u001b[0mall\u001b[0m\u001b[0;34m(\u001b[0m\u001b[0mnp\u001b[0m\u001b[0;34m.\u001b[0m\u001b[0misfinite\u001b[0m\u001b[0;34m(\u001b[0m\u001b[0mf0\u001b[0m\u001b[0;34m)\u001b[0m\u001b[0;34m)\u001b[0m\u001b[0;34m:\u001b[0m\u001b[0;34m\u001b[0m\u001b[0;34m\u001b[0m\u001b[0m\n\u001b[0;32m--> 814\u001b[0;31m         \u001b[0;32mraise\u001b[0m \u001b[0mValueError\u001b[0m\u001b[0;34m(\u001b[0m\u001b[0;34m\"Residuals are not finite in the initial point.\"\u001b[0m\u001b[0;34m)\u001b[0m\u001b[0;34m\u001b[0m\u001b[0;34m\u001b[0m\u001b[0m\n\u001b[0m\u001b[1;32m    815\u001b[0m \u001b[0;34m\u001b[0m\u001b[0m\n\u001b[1;32m    816\u001b[0m     \u001b[0mn\u001b[0m \u001b[0;34m=\u001b[0m \u001b[0mx0\u001b[0m\u001b[0;34m.\u001b[0m\u001b[0msize\u001b[0m\u001b[0;34m\u001b[0m\u001b[0;34m\u001b[0m\u001b[0m\n",
            "\u001b[0;31mValueError\u001b[0m: Residuals are not finite in the initial point."
          ]
        }
      ]
    },
    {
      "cell_type": "code",
      "metadata": {
        "id": "fnLfO9uU-yRW",
        "colab_type": "code",
        "colab": {}
      },
      "source": [
        ""
      ],
      "execution_count": 0,
      "outputs": []
    }
  ]
}